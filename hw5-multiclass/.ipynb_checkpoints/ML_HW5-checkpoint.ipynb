{
 "cells": [
  {
   "cell_type": "markdown",
   "metadata": {},
   "source": [
    "## ML HW5\n",
    "## Zhiqi Guo(zg475)"
   ]
  },
  {
   "cell_type": "markdown",
   "metadata": {},
   "source": [
    "## 2.1 Hinge loss is a convex surrogate for 0/1 loss\n",
    "1.Show that $1(y \\neq sign(f (x)) ≤ max \\{0,1-yf(x) \\} $"
   ]
  },
  {
   "cell_type": "markdown",
   "metadata": {},
   "source": [
    "When $y \\neq sign(f(x))$   \n",
    "* if f(x) > 0 $\\Rightarrow sign(f(x)) = 1$, then $y = -1$   \n",
    "$max\\{0,1-(-1)f(x)\\} > 1$   Thus, $ 1 < max \\{0,1-yf(x) \\}$   \n",
    "\n",
    "\n",
    "* if f(x) < 0 $\\Rightarrow sign(f(x)) = -1$, then $y =1$   \n",
    "$max \\{0, 1-1 \\cdot f(x) \\} > 1$  Thus, $ 1 < max \\{0,1-yf(x) \\}$   \n",
    "\n",
    "\n",
    "* if f(x) = 0 $\\Rightarrow sign(f(x)) = 0 $, then   \n",
    "$max \\{0, 1-1 \\cdot 0 \\} = 1 $ \n",
    "\n",
    "Thus, $1(y \\neq sign(f (x)) ≤ max \\{0,1-yf(x) \\} $"
   ]
  },
  {
   "cell_type": "code",
   "execution_count": null,
   "metadata": {
    "collapsed": true
   },
   "outputs": [],
   "source": []
  },
  {
   "cell_type": "markdown",
   "metadata": {},
   "source": [
    "2.Show that the hinge loss max {0, 1 − m} is a convex function of the margin m."
   ]
  },
  {
   "cell_type": "markdown",
   "metadata": {},
   "source": [
    "Since 0 is a constant function and 1-m is an affine function. Then according to the convex-optimization lecture notes, that Maximum of convex functions is convex, we could  their pointwise maximum is convex."
   ]
  },
  {
   "cell_type": "code",
   "execution_count": null,
   "metadata": {
    "collapsed": true
   },
   "outputs": [],
   "source": []
  },
  {
   "cell_type": "markdown",
   "metadata": {},
   "source": [
    "3.Suppose our prediction score functions are given by $f_w(x) = w^T x$. The hinge loss of $f_w$ on any example (x, y) is then $max \\{ 0, 1 − yw^T x \\}$ . Show that this is a convex function of w. "
   ]
  },
  {
   "cell_type": "markdown",
   "metadata": {},
   "source": [
    "According to convex-optimization lecture notes that f is an affine function (or affine mapping) if it is a sum of a linear function and a constant. Thus, $1-yw^Tx$ is an affine function. Thus by the same argument as in part 2, we conclude $max \\{ 0, 1 − yw^T x \\}$ is convex function of w."
   ]
  },
  {
   "cell_type": "code",
   "execution_count": null,
   "metadata": {
    "collapsed": true
   },
   "outputs": [],
   "source": []
  },
  {
   "cell_type": "markdown",
   "metadata": {},
   "source": [
    "## 2.2 Generalized Hinge Loss\n",
    "1.Justify that for any x∈X and y∈Y,we have $h(x, y) ≤ h(x, f (x))$"
   ]
  },
  {
   "cell_type": "markdown",
   "metadata": {},
   "source": [
    "By the definition of f(x) that $f(x) = arg max_{y \\in Y} h(x,y)$   \n",
    "Thus $h(x,y) \\leq h(x,f(x))$"
   ]
  },
  {
   "cell_type": "markdown",
   "metadata": {},
   "source": []
  },
  {
   "cell_type": "markdown",
   "metadata": {},
   "source": [
    "2.Justify the following two inequalities:   \n",
    "$∆(y,f(x)) ≤ ∆(y,f(x))+h(x,f(x))−h(x,y) ≤ max_{y′∈Y}[∆(y,y′))+h(x,y′)−h(x,y)]$\n"
   ]
  },
  {
   "cell_type": "markdown",
   "metadata": {},
   "source": [
    "Since $h(x,y) \\leq h(x,f(x))$, thus $h(x,f(x))−h(x,y) \\geq 0$, we automatically have $∆(y,f(x)) ≤ ∆(y,f(x))+h(x,f(x))−h(x,y)$   \n",
    "Also, since $f(x) \\in \\mathbb{A}$, we automatically have $∆(y,f(x))+h(x,f(x))−h(x,y) ≤ max_{y′∈Y}[∆(y,y′))+h(x,y′)−h(x,y)]$"
   ]
  },
  {
   "cell_type": "code",
   "execution_count": null,
   "metadata": {
    "collapsed": true
   },
   "outputs": [],
   "source": []
  },
  {
   "cell_type": "markdown",
   "metadata": {},
   "source": [
    "3.Show that we can write the generalized hinge loss for hw(x,y) on example (xi,yi) as $l (h_w, (x_i, y_i)) = max_{y \\in Y} [∆ (yi, y)) + ⟨w, Ψ(xi, y) − Ψ(xi, yi)⟩] .$"
   ]
  },
  {
   "cell_type": "markdown",
   "metadata": {},
   "source": [
    "We could directly induce this by the definition of generalized hinge loss hypothesis space: \n",
    "\n",
    "$L(h_w,(x_i,y_i)) = max_{y \\in Y} ∆(y_i,y)+h_w(x_i,y)-h_w(x_i,y_i) = max_{y \\in Y} [∆(y_i,y) + <w,\\phi(x_i,y)> - <w,\\phi(x_i,y_i)>] = max_{y \\in Y} [∆(y_i,y) + <w, \\phi(x_i,y)-\\phi(x_i,y_i)>]$"
   ]
  },
  {
   "cell_type": "code",
   "execution_count": null,
   "metadata": {
    "collapsed": true
   },
   "outputs": [],
   "source": []
  },
  {
   "cell_type": "markdown",
   "metadata": {},
   "source": [
    "4.(a) The expression $∆(yi, y) + ⟨w, Ψ(xi, y) − Ψ(xi, yi)⟩$ is an affine function of w."
   ]
  },
  {
   "cell_type": "markdown",
   "metadata": {},
   "source": [
    "With the respect to w, $∆(yi, y)$ is a constant scalar and $Ψ(xi, y) − Ψ(xi, yi)$ is a constant vector. Thus  $∆(yi, y) + ⟨w, Ψ(xi, y) − Ψ(xi, yi)⟩$ is a sum of a linear function and a constant, thus it's an affien function of w."
   ]
  },
  {
   "cell_type": "markdown",
   "metadata": {},
   "source": []
  },
  {
   "cell_type": "markdown",
   "metadata": {},
   "source": [
    "4.(b) The expression $max_{y∈Y} [∆ (yi, y)) + ⟨w, Ψ(xi, y) − Ψ(xi, yi)⟩] $ is a convex function of w.\n"
   ]
  },
  {
   "cell_type": "markdown",
   "metadata": {},
   "source": [
    "For each $y \\in Y$, we have an affine function inside, which is a convex function. And by the convex-optimization notes, Maximum of convex functions is convex. Thus, $max_{y∈Y} [∆ (yi, y)) + ⟨w, Ψ(xi, y) − Ψ(xi, yi)⟩] $ is a convex function of w."
   ]
  },
  {
   "cell_type": "code",
   "execution_count": null,
   "metadata": {
    "collapsed": true
   },
   "outputs": [],
   "source": []
  },
  {
   "cell_type": "markdown",
   "metadata": {},
   "source": [
    "5.Conclude that $l(h_w,(xi,yi))$ is a convex surrogate for $∆(yi,f_w(xi))$."
   ]
  },
  {
   "cell_type": "markdown",
   "metadata": {},
   "source": [
    "By definition, A convex surrogate loss function is a convex function that is an upper bound for the loss function of interest. We have shown that for any x ∈ X,y ∈ Y,h ∈ H we have $l(h_w,(x_i,y_i)) ≥ ∆(y_i,f_w(x_i))$, which gives an upper bound, also $l(h_w,(x_i,y_i)) $ is a convex function. THus it's a convex surrogate for $∆(yi,f_w(xi))$."
   ]
  },
  {
   "cell_type": "code",
   "execution_count": null,
   "metadata": {
    "collapsed": true
   },
   "outputs": [],
   "source": []
  },
  {
   "cell_type": "markdown",
   "metadata": {},
   "source": [
    "## 3.SGD for Multiclass SVM\n",
    "1.(a) $\\frac{1}{n}\\sum_{i=1}^{n} max_{y∈Y} [∆ (y_i, y) + ⟨w, Ψ(x_i, y) − Ψ(x_i, y_i)⟩] $ is a convex function of w."
   ]
  },
  {
   "cell_type": "markdown",
   "metadata": {},
   "source": [
    "We have shown in the previous problem that $w → max_{y∈Y} [∆ (y_i, y) + ⟨w, Ψ(x_i, y) − Ψ(x_i, y_i)⟩]$ is a convex function of w, and since nonnegative weighted sums of convex functions is convex. Thus $\\frac{1}{n}\\sum_{i=1}^{n} max_{y∈Y} [∆ (y_i, y) + ⟨w, Ψ(x_i, y) − Ψ(x_i, y_i)⟩] $ is also a convex function of w."
   ]
  },
  {
   "cell_type": "code",
   "execution_count": null,
   "metadata": {
    "collapsed": true
   },
   "outputs": [],
   "source": []
  },
  {
   "cell_type": "markdown",
   "metadata": {},
   "source": [
    "1.(b)  $∥w∥_2$ is a convex function of w."
   ]
  },
  {
   "cell_type": "markdown",
   "metadata": {},
   "source": [
    "Since every norm on $R^n$ is convex, thus $∥w∥_2$ is a convex function of w."
   ]
  },
  {
   "cell_type": "code",
   "execution_count": null,
   "metadata": {
    "collapsed": true
   },
   "outputs": [],
   "source": []
  },
  {
   "cell_type": "markdown",
   "metadata": {},
   "source": [
    "1.(c) J(w) is a convex function of w."
   ]
  },
  {
   "cell_type": "markdown",
   "metadata": {},
   "source": [
    "By part (a) and (b), J(w) is the sum of two non-negative convex functions, thus J(w) is a convex function of w."
   ]
  },
  {
   "cell_type": "code",
   "execution_count": null,
   "metadata": {
    "collapsed": true
   },
   "outputs": [],
   "source": []
  },
  {
   "cell_type": "markdown",
   "metadata": {},
   "source": [
    "2.Give an expression for a subgradient of J(w). "
   ]
  },
  {
   "cell_type": "markdown",
   "metadata": {},
   "source": [
    "Define $\\hat{y} = arg max_{y∈Y} [∆ (y_i, y) + ⟨w, Ψ(x_i, y) − Ψ(x_i, y_i)⟩]$\n",
    "\n",
    "subgradient $g = 2 \\lambda w + \\frac{1}{n}\\sum_{i=1}^{n} [Ψ(x_i, \\hat{y}) − Ψ(x_i, y_i)]$"
   ]
  },
  {
   "cell_type": "code",
   "execution_count": null,
   "metadata": {
    "collapsed": true
   },
   "outputs": [],
   "source": []
  },
  {
   "cell_type": "markdown",
   "metadata": {},
   "source": [
    "3.Give an expression the stochastic subgradient based on the point (xi,yi)."
   ]
  },
  {
   "cell_type": "markdown",
   "metadata": {},
   "source": [
    "stochastic subgradient $g = 2\\lambda w + [Ψ(x_i, \\hat{y}) − Ψ(x_i, y_i)] $"
   ]
  },
  {
   "cell_type": "code",
   "execution_count": null,
   "metadata": {
    "collapsed": true
   },
   "outputs": [],
   "source": []
  },
  {
   "cell_type": "markdown",
   "metadata": {},
   "source": [
    "4.Give an expression for a mini batch subgradient,based on the points $(xi,yi),...,(x_{i+m−1},y_{i+m−1}).$"
   ]
  },
  {
   "cell_type": "markdown",
   "metadata": {},
   "source": [
    "mini batch subgradient $g = 2\\lambda w +  \\frac{1}{m}\\sum_{j=i}^{i+m-1} [Ψ(x_j, \\hat{y}) − Ψ(x_j, y_j)]$ "
   ]
  },
  {
   "cell_type": "code",
   "execution_count": null,
   "metadata": {
    "collapsed": true
   },
   "outputs": [],
   "source": []
  },
  {
   "cell_type": "markdown",
   "metadata": {},
   "source": [
    "## 4.[OPTIONAL] Another Formulation of Generalized Hinge Loss"
   ]
  },
  {
   "cell_type": "markdown",
   "metadata": {},
   "source": [
    "1.Show that $l (h, (x_i, y_i)) = max_{y′∈Y} [∆ (y_i, y′) − m_{i,y′} (h)]. $"
   ]
  },
  {
   "cell_type": "markdown",
   "metadata": {},
   "source": [
    "$$\n",
    "\\begin{split}\n",
    "l (h, (x_i, y_i)) &=  max_{y′∈Y} [∆ (y_i, y′)+h(x_i,y')-h(x_i, y_i)]\\\\\n",
    "                  &=  max_{y′∈Y} [∆ (y_i, y′)-(h(x_i, y_i)-h(x_i,y'))]\\\\\n",
    "                  &=  max_{y′∈Y} [∆ (y_i, y′)-m_{i,y′} (h)]\n",
    "\\end{split}\\\n",
    "$$"
   ]
  },
  {
   "cell_type": "code",
   "execution_count": null,
   "metadata": {
    "collapsed": true
   },
   "outputs": [],
   "source": []
  },
  {
   "cell_type": "markdown",
   "metadata": {},
   "source": [
    "2.Show that for any example (xi, yi) and any score function h, the multiclass hinge loss we gave in lecture and the generalized hinge loss presented above are equivalent."
   ]
  },
  {
   "cell_type": "markdown",
   "metadata": {},
   "source": [
    "We have shown in the previous problem that $l(h_w,(x_i,y_i)) \\geq ∆(y,f(x)) \\geq 0 $   \n",
    "Since $l(h_w,(x_i,y_i)) = max_{y′∈Y} [∆ (y_i, y′)-m_{i,y′} (h)]$ is always greater or equal to 0   \n",
    "We have $max_{y∈Y} [∆ (y_i, y)-m_{i,y} (h)]_{+} = max_{y∈Y} [∆ (y_i, y)-m_{i,y} (h)]$"
   ]
  },
  {
   "cell_type": "code",
   "execution_count": null,
   "metadata": {
    "collapsed": true
   },
   "outputs": [],
   "source": []
  },
  {
   "cell_type": "markdown",
   "metadata": {},
   "source": [
    "3.Show that l(h,(xi,yi)) = 0 if we assume that ∆(y,y) = 0 for all y ∈ Y."
   ]
  },
  {
   "cell_type": "markdown",
   "metadata": {},
   "source": [
    "$$\n",
    "\\begin{split}\n",
    "l (h, (x_i, y_i)) &=  max_{y′∈Y} [∆ (y_i, y′)+h(x_i,y')-h(x_i, y_i)]\\\\\n",
    "                  &=  max_{y′∈Y} [∆_{y'=y_i} (y_i, y′), max_{y'\\neq y_i}[∆ (y_i, y′)-(h(x_i, y_i)-h(x_i,y'))]]\\\\\n",
    "                  &=  max_{y′∈Y} [0, max_{y'\\neq y_i}[∆ (y_i, y′)-m_{i,y′} (h)]] \\\\\n",
    "                  &=  max_{y′∈Y} [0, \\leq 0] \\\\\n",
    "                  &= 0\n",
    "\\end{split}\\\n",
    "$$"
   ]
  },
  {
   "cell_type": "code",
   "execution_count": null,
   "metadata": {
    "collapsed": true
   },
   "outputs": [],
   "source": []
  },
  {
   "cell_type": "markdown",
   "metadata": {},
   "source": [
    "## 5. [OPTIONAL]Hinge Loss is a Special Case of Generalized Hinge Loss\n"
   ]
  },
  {
   "cell_type": "markdown",
   "metadata": {},
   "source": [
    "$$\n",
    "\\begin{split}\n",
    "l (h, (x, y)) &=  max_{y′∈Y} [∆ (y, y′)+h(x,y')-h(x, y)]\\\\\n",
    "                  &=  max [∆_{y'=y} (y, y), max_{y'\\neq y}[∆ (y, y′)-(h(x, y')-h(x,y))]]\\\\\n",
    "                  &=  max [0, 1+ [-g(x)/2-g(x)/2]]  \\quad (if\\ y=1, y' = -1)\\\\ \n",
    "                  &=  max [0, 1- yg(x)] \\\\\n",
    "                  &\n",
    "\\end{split}\\\n",
    "$$\n",
    "\n",
    "$$\n",
    "\\begin{split}\n",
    "l (h, (x, y)) &=  max_{y′∈Y} [∆ (y, y′)+h(x,y')-h(x, y)]\\\\\n",
    "                  &=  max [∆_{y'=y} (y, y), max_{y'\\neq y}[∆ (y, y′)-(h(x, y')-h(x,y))]]\\\\\n",
    "                  &=  max [0, 1+ [g(x)/2+g(x)/2]]  \\quad (if\\ y= -1, y' = 1)\\\\ \n",
    "                  &=  max [0, 1 + g(x)] \\\\\n",
    "                  &=  max [0, 1 - yg(x)] \n",
    "\\end{split}\\\n",
    "$$"
   ]
  },
  {
   "cell_type": "code",
   "execution_count": null,
   "metadata": {
    "collapsed": true
   },
   "outputs": [],
   "source": []
  },
  {
   "cell_type": "markdown",
   "metadata": {
    "collapsed": true
   },
   "source": [
    "## 6.1 One-vs-All (also known as One-vs-Rest)\n",
    "1.Complete the class OneVsAllClassifier in the skeleton code. Following the OneVsAllClassifier code is a cell that extracts the results of the fit and plots the decision region. Include these results in your submission."
   ]
  },
  {
   "cell_type": "code",
   "execution_count": 1,
   "metadata": {
    "collapsed": true
   },
   "outputs": [],
   "source": [
    "import numpy as np\n",
    "import matplotlib.pyplot as plt\n",
    "from sklearn.datasets.samples_generator import make_blobs\n",
    "\n",
    "%matplotlib inline"
   ]
  },
  {
   "cell_type": "code",
   "execution_count": 2,
   "metadata": {
    "collapsed": false
   },
   "outputs": [
    {
     "data": {
      "text/plain": [
       "<matplotlib.collections.PathCollection at 0x10a2f5da0>"
      ]
     },
     "execution_count": 2,
     "metadata": {},
     "output_type": "execute_result"
    },
    {
     "data": {
      "image/png": "[encoded data removed]",
      "text/plain": [
       "<matplotlib.figure.Figure at 0x10a21f5f8>"
      ]
     },
     "metadata": {},
     "output_type": "display_data"
    }
   ],
   "source": [
    "# Create the  training data\n",
    "np.random.seed(2)\n",
    "X, y = make_blobs(n_samples=300,cluster_std=.25, centers=np.array([(-3,1),(0,2),(3,1)]))\n",
    "plt.scatter(X[:, 0], X[:, 1], c=y, s=50)"
   ]
  },
  {
   "cell_type": "code",
   "execution_count": 3,
   "metadata": {
    "collapsed": true
   },
   "outputs": [],
   "source": [
    "from sklearn.base import BaseEstimator, ClassifierMixin, clone\n",
    "\n",
    "class OneVsAllClassifier(BaseEstimator, ClassifierMixin):  \n",
    "    \"\"\"\n",
    "    One-vs-all classifier\n",
    "    We assume that the classes will be the integers 0,..,(n_classes-1).\n",
    "    We assume that the estimator provided to the class, after fitting, has a \"decision_function\" that \n",
    "    returns the score for the positive class.\n",
    "    \"\"\"\n",
    "    def __init__(self, estimator, n_classes):      \n",
    "        \"\"\"\n",
    "        Constructed with the number of classes and an estimator (e.g. an\n",
    "        SVM estimator from sklearn)\n",
    "        @param estimator : binary base classifier used\n",
    "        @param n_classes : number of classes\n",
    "        \"\"\"\n",
    "        self.n_classes = n_classes \n",
    "        self.estimators = [clone(estimator) for _ in range(n_classes)]\n",
    "        self.fitted = False\n",
    "\n",
    "    def fit(self, X, y=None):\n",
    "        \"\"\"\n",
    "        This should fit one classifier for each class.\n",
    "        self.estimators[i] should be fit on class i vs rest\n",
    "        @param X: array-like, shape = [n_samples,n_features], input data\n",
    "        @param y: array-like, shape = [n_samples,] class labels\n",
    "        @return returns self\n",
    "        \"\"\"\n",
    "        #Your code goes here\n",
    "        for i in range(self.n_classes):\n",
    "            y1 = (y==i)*1\n",
    "            self.estimators[i].fit(X,y1) \n",
    "        \n",
    "        self.fitted = True  \n",
    "        return self   \n",
    "\n",
    "    def decision_function(self, X):\n",
    "        \"\"\"\n",
    "        Returns the score of each input for each class. Assumes\n",
    "        that the given estimator also implements the decision_function method (which sklearn SVMs do), \n",
    "        and that fit has been called.\n",
    "        @param X : array-like, shape = [n_samples, n_features] input data\n",
    "        @return array-like, shape = [n_samples, n_classes]\n",
    "        \"\"\"\n",
    "        if not self.fitted:\n",
    "            raise RuntimeError(\"You must train classifer before predicting data.\")\n",
    "\n",
    "        if not hasattr(self.estimators[0], \"decision_function\"):\n",
    "            raise AttributeError(\n",
    "                \"Base estimator doesn't have a decision_function attribute.\")\n",
    "        \n",
    "        #Replace the following return statement with your code\n",
    "        temp_lst = []\n",
    "        for i in range(self.n_classes):\n",
    "            temp_lst.append(self.estimators[i].decision_function(X))\n",
    "            \n",
    "        return np.column_stack((temp_lst[0],temp_lst[1],temp_lst[2])) \n",
    "    \n",
    "    def predict(self, X):\n",
    "        \"\"\"\n",
    "        Predict the class with the highest score.\n",
    "        @param X: array-like, shape = [n_samples,n_features] input data\n",
    "        @returns array-like, shape = [n_samples,] the predicted classes for each input\n",
    "        \"\"\"\n",
    "        #Replace the following return statement with your code\n",
    "        return self.decision_function(X).argmax(axis=1)\n"
   ]
  },
  {
   "cell_type": "code",
   "execution_count": 4,
   "metadata": {
    "collapsed": false
   },
   "outputs": [
    {
     "name": "stdout",
     "output_type": "stream",
     "text": [
      "Coeffs 0\n",
      "[[-1.05852747 -0.90296521]]\n",
      "Coeffs 1\n",
      "[[ 0.22117096 -0.38900908]]\n",
      "Coeffs 2\n",
      "[[ 0.89162796 -0.82467394]]\n"
     ]
    },
    {
     "data": {
      "text/plain": [
       "array([[100,   0,   0],\n",
       "       [  0, 100,   0],\n",
       "       [  0,   0, 100]])"
      ]
     },
     "execution_count": 4,
     "metadata": {},
     "output_type": "execute_result"
    },
    {
     "data": {
      "image/png": "[encoded data removed]",
      "text/plain": [
       "<matplotlib.figure.Figure at 0x10a354240>"
      ]
     },
     "metadata": {},
     "output_type": "display_data"
    }
   ],
   "source": [
    "#Here we test the OneVsAllClassifier\n",
    "from sklearn import svm\n",
    "svm_estimator = svm.LinearSVC(loss='hinge', fit_intercept=False, C=200)\n",
    "clf_onevsall = OneVsAllClassifier(svm_estimator, n_classes=3)\n",
    "clf_onevsall.fit(X,y)\n",
    "\n",
    "for i in range(3) :\n",
    "    print(\"Coeffs %d\"%i)\n",
    "    print(clf_onevsall.estimators[i].coef_) #Will fail if you haven't implemented fit yet\n",
    "\n",
    "# create a mesh to plot in\n",
    "h = .02  # step size in the mesh\n",
    "x_min, x_max = min(X[:,0])-3,max(X[:,0])+3\n",
    "y_min, y_max = min(X[:,1])-3,max(X[:,1])+3\n",
    "xx, yy = np.meshgrid(np.arange(x_min, x_max, h),\n",
    "                     np.arange(y_min, y_max, h))\n",
    "mesh_input = np.c_[xx.ravel(), yy.ravel()]\n",
    "\n",
    "Z = clf_onevsall.predict(mesh_input)\n",
    "Z = Z.reshape(xx.shape)\n",
    "plt.contourf(xx, yy, Z, cmap=plt.cm.coolwarm, alpha=0.8)\n",
    "# Plot also the training points\n",
    "plt.scatter(X[:, 0], X[:, 1], c=y, cmap=plt.cm.coolwarm)\n",
    "\n",
    "\n",
    "from sklearn import metrics\n",
    "metrics.confusion_matrix(y, clf_onevsall.predict(X))"
   ]
  },
  {
   "cell_type": "markdown",
   "metadata": {},
   "source": [
    "3.[Optional] You may notice that every time you run the cell that fits the models and plots the decision regions, you get slightly different results. This is more pronounced when C is larger, e.g. C = 200. Investigate and propose an explanation for this. You may use any means necessary, including google searching and asking other people (just like in real life). [It’s generally good to investigate things that look odd – you’ll almost always learn something, and sometimes you’ll uncover a more serious underlying problem.]"
   ]
  },
  {
   "cell_type": "markdown",
   "metadata": {},
   "source": [
    "* Intuitively, the C parameter tells the SVM optimization how much we want to avoid misclassifying each training example. For large values of C, the optimization will choose a smaller-margin hyperplane if that hyperplane does a better job of getting all the training points classified correctly. Thus, a larger C probably gives us a better result in binary classification case. However, a smaller-margin which gives a higher performance in binary case may not the 'best' one in multiclass svm, or not that stable. Since we will train one classifer a time and train a svm classifier for each class. When the margin is smaller, it may not be the best case in a multiclass problem(while though it might be better in binary case). Thus, the decision boundary is more likely to slightly change when C is larger."
   ]
  },
  {
   "cell_type": "code",
   "execution_count": null,
   "metadata": {
    "collapsed": true
   },
   "outputs": [],
   "source": []
  },
  {
   "cell_type": "markdown",
   "metadata": {},
   "source": [
    "## 6.2 Multiclass SVM\n",
    "1.Complete the skeleton code for multiclass SVM. Following the multiclass SVM implementa- tion, we have included another block of test code. Make sure to include the results from these tests in your assignment, along with your code."
   ]
  },
  {
   "cell_type": "code",
   "execution_count": 11,
   "metadata": {
    "collapsed": true
   },
   "outputs": [],
   "source": [
    "def zeroOne(y,a) :\n",
    "    '''\n",
    "    Computes the zero-one loss.\n",
    "    @param y: output class\n",
    "    @param a: predicted class\n",
    "    @return 1 if different, 0 if same\n",
    "    '''\n",
    "    return int(y != a)\n",
    "\n",
    "def featureMap(X,y,num_classes) :\n",
    "    '''\n",
    "    Computes the class-sensitive features.\n",
    "    @param X: array-like, shape = [n_samples,n_inFeatures] or [n_inFeatures,], input features for input data\n",
    "    @param y: a target class (in range 0,..,num_classes-1)\n",
    "    @return array-like, shape = [n_samples,n_outFeatures], the class sensitive features for class y\n",
    "    '''\n",
    "    #The following line handles X being a 1d-array or a 2d-array\n",
    "    num_samples, num_inFeatures = (1,X.shape[0]) if len(X.shape) == 1 else (X.shape[0],X.shape[1])\n",
    "    #your code goes here, and replaces following return\n",
    "    n_outFeatures = num_inFeatures*num_classes\n",
    "    featureMatrix = np.zeros((num_samples,n_outFeatures))\n",
    "    \n",
    "    if num_samples==1:\n",
    "        feature_map = np.zeros((n_outFeatures))\n",
    "        feature_map[y*2:y*2+2] = X\n",
    "        #feature_map[y*2+1] = X[1]\n",
    "    return feature_map\n",
    "                       \n",
    "    for index,sample in enumerate(X):\n",
    "        feature_vector = np.zeros(n_outFeatures)\n",
    "        feature_vector[y[index]*2] = sample[0]\n",
    "        feature_vector[y[index]*2+1]=sample[1]\n",
    "        featureMatrix[index] = feature_vector\n",
    "    return featureMatrix\n",
    "\n",
    "def sgd(X, y, num_outFeatures, subgd, eta = 0.1, T = 10000):\n",
    "    '''\n",
    "    Runs subgradient descent, and outputs resulting parameter vector.\n",
    "    @param X: array-like, shape = [n_samples,n_features], input training data \n",
    "    @param y: array-like, shape = [n_samples,], class labels\n",
    "    @param num_outFeatures: number of class-sensitive features\n",
    "    @param subgd: function taking x,y and giving subgradient of objective\n",
    "    @param eta: learning rate for SGD\n",
    "    @param T: maximum number of iterations\n",
    "    @return: vector of weights\n",
    "    '''\n",
    "    num_samples = X.shape[0]\n",
    "    w = np.zeros(num_outFeatures)\n",
    "    #your code goes here and replaces following return statement\n",
    "    for iteration in range(T):\n",
    "        random_indx = np.random.choice(300, 1)\n",
    "        x_i = X[random_indx]\n",
    "        y_i = y[random_indx]\n",
    "        w = w - eta * subgd(x_i,y_i,w)\n",
    "\n",
    "    return w\n",
    "\n",
    "class MulticlassSVM(BaseEstimator, ClassifierMixin):\n",
    "    '''\n",
    "    Implements a Multiclass SVM estimator.\n",
    "    '''\n",
    "    def __init__(self, num_outFeatures, lam=1.0, num_classes=3, Delta=zeroOne, Psi=featureMap):       \n",
    "        '''\n",
    "        Creates a MulticlassSVM estimator.\n",
    "        @param num_outFeatures: number of class-sensitive features produced by Psi\n",
    "        @param lam: l2 regularization parameter\n",
    "        @param num_classes: number of classes (assumed numbered 0,..,num_classes-1)\n",
    "        @param Delta: class-sensitive loss function taking two arguments (i.e., target margin)\n",
    "        @param Psi: class-sensitive feature map taking two arguments\n",
    "        '''\n",
    "        self.num_outFeatures = num_outFeatures\n",
    "        self.lam = lam\n",
    "        self.num_classes = num_classes\n",
    "        self.Delta = Delta\n",
    "        self.Psi = lambda X,y : Psi(X,y,num_classes)\n",
    "        self.fitted = False\n",
    "    \n",
    "    def subgradient(self,x,y,w):\n",
    "        '''\n",
    "        Computes the subgradient at a given data point x,y\n",
    "        @param x: sample input\n",
    "        @param y: sample class\n",
    "        @param w: parameter vector\n",
    "        @return returns subgradient vector at given x,y,w\n",
    "        '''\n",
    "        #Your code goes here and replaces the following return statement\n",
    "        temp_lst = []\n",
    "        yi = y\n",
    "        for y_class in range(self.num_classes):\n",
    "            temp_lst.append(self.Delta(yi,y_class)+ np.dot(w, self.Psi(x,y_class)-self.Psi(x,yi)))\n",
    "        y_hat = np.argmax(temp_lst)\n",
    "        \n",
    "        g = 2*self.lam*w + (self.Psi(x,y_hat)-self.Psi(x,yi))\n",
    "        return g\n",
    "              \n",
    "    def fit(self,X,y,eta=0.01,T=10000):\n",
    "        '''\n",
    "        Fits multiclass SVM\n",
    "        @param X: array-like, shape = [num_samples,num_inFeatures], input data\n",
    "        @param y: array-like, shape = [num_samples,], input classes\n",
    "        @param eta: learning rate for SGD\n",
    "        @param T: maximum number of iterations\n",
    "        @return returns self\n",
    "        '''\n",
    "        self.coef_ = sgd(X,y,self.num_outFeatures,self.subgradient,eta,T)\n",
    "        self.fitted = True\n",
    "        return self\n",
    "    \n",
    "    def decision_function(self, X):\n",
    "        '''\n",
    "        Returns the score on each input for each class. Assumes\n",
    "        that fit has been called.\n",
    "        @param X : array-like, shape = [n_samples, n_inFeatures]\n",
    "        @return array-like, shape = [n_samples, n_classes] giving scores for each sample,class pairing\n",
    "        '''\n",
    "        if not self.fitted:\n",
    "            raise RuntimeError(\"You must train classifer before predicting data.\")\n",
    "        num_samples = X.shape[0]\n",
    "        #Your code goes here and replaces following return statement\n",
    "        score_matrix = np.zeros((num_samples,self.num_classes))\n",
    "        for index, sample in enumerate(X):\n",
    "            xi=sample\n",
    "            score_matrix[index,:] = [np.dot(self.coef_, self.Psi(xi,yi)) for yi in range(self.num_classes) ]\n",
    "        \n",
    "        return score_matrix\n",
    "    def predict(self, X):\n",
    "        '''\n",
    "        Predict the class with the highest score.\n",
    "        @param X: array-like, shape = [n_samples, n_inFeatures], input data to predict\n",
    "        @return array-like, shape = [n_samples,], class labels predicted for each data point\n",
    "        '''\n",
    "\n",
    "        #Your code goes here and replaces following return statement\n",
    "        return self.decision_function(X).argmax(axis=1)"
   ]
  },
  {
   "cell_type": "code",
   "execution_count": 12,
   "metadata": {
    "collapsed": false
   },
   "outputs": [
    {
     "name": "stderr",
     "output_type": "stream",
     "text": [
      "/Users/guozhiqi-seven/anaconda/lib/python3.5/site-packages/ipykernel/__main__.py:25: DeprecationWarning: converting an array with ndim > 0 to an index will result in an error in the future\n"
     ]
    },
    {
     "name": "stdout",
     "output_type": "stream",
     "text": [
      "w:\n",
      "[-0.33689478 -0.04941324 -0.03049831  0.12279975  0.36739309 -0.0733865 ]\n"
     ]
    },
    {
     "data": {
      "text/plain": [
       "array([[100,   0,   0],\n",
       "       [  0, 100,   0],\n",
       "       [  0,   0, 100]])"
      ]
     },
     "execution_count": 12,
     "metadata": {},
     "output_type": "execute_result"
    },
    {
     "data": {
      "image/png": "[encoded data removed]",
      "text/plain": [
       "<matplotlib.figure.Figure at 0x1046d20f0>"
      ]
     },
     "metadata": {},
     "output_type": "display_data"
    }
   ],
   "source": [
    "#the following code tests the MulticlassSVM and sgd\n",
    "#will fail if MulticlassSVM is not implemented yet\n",
    "est = MulticlassSVM(6,lam=1)\n",
    "est.fit(X,y)\n",
    "print(\"w:\")\n",
    "print(est.coef_)\n",
    "Z = est.predict(mesh_input)\n",
    "Z = Z.reshape(xx.shape)\n",
    "plt.contourf(xx, yy, Z, cmap=plt.cm.coolwarm, alpha=0.8)\n",
    "# Plot also the training points\n",
    "plt.scatter(X[:, 0], X[:, 1], c=y, cmap=plt.cm.coolwarm)\n",
    "\n",
    "\n",
    "from sklearn import metrics\n",
    "metrics.confusion_matrix(y, est.predict(X))"
   ]
  },
  {
   "cell_type": "code",
   "execution_count": null,
   "metadata": {
    "collapsed": true
   },
   "outputs": [],
   "source": []
  }
 ],
 "metadata": {
  "kernelspec": {
   "display_name": "Python 3",
   "language": "python",
   "name": "python3"
  },
  "language_info": {
   "codemirror_mode": {
    "name": "ipython",
    "version": 3
   },
   "file_extension": ".py",
   "mimetype": "text/x-python",
   "name": "python",
   "nbconvert_exporter": "python",
   "pygments_lexer": "ipython3",
   "version": "3.6.0"
  }
 },
 "nbformat": 4,
 "nbformat_minor": 0
}
