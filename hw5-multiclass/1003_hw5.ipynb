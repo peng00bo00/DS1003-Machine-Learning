{
 "cells": [
  {
   "cell_type": "markdown",
   "metadata": {
    "deletable": true,
    "editable": true
   },
   "source": [
    "**Machine Learning Homework 5<br/>\n",
    "Author: Binqian Zeng<br/>\n",
    "NetId: bz866<br/>**\n"
   ]
  },
  {
   "cell_type": "markdown",
   "metadata": {
    "deletable": true,
    "editable": true
   },
   "source": [
    "**1. Introduction**"
   ]
  },
  {
   "cell_type": "markdown",
   "metadata": {
    "deletable": true,
    "editable": true
   },
   "source": [
    "If $f_{1}(x),...,f_{m}(x) : R^{n} \\rightarrow R$ are convex, then their pointwise maximum\n",
    "$$f(x) = max\\{f_{1}(x),...,f_{m}(x)\\}$$ is also convex."
   ]
  },
  {
   "cell_type": "markdown",
   "metadata": {
    "deletable": true,
    "editable": true
   },
   "source": [
    "**2. Convex Surrogate Loss Functions**"
   ]
  },
  {
   "cell_type": "markdown",
   "metadata": {
    "collapsed": true,
    "deletable": true,
    "editable": true
   },
   "source": [
    "**2.1 Hinge loss is a convex surrogate for 0/1 loss**"
   ]
  },
  {
   "cell_type": "markdown",
   "metadata": {
    "deletable": true,
    "editable": true
   },
   "source": [
    "2.1.1.(a)<br/>\n",
    "If $y=sign(f(x))$, $1(y\\neq sign(f(x))=0$. Obviously,\n",
    "$$1(y\\neq sign(f(x)) \\leq max\\{0,1-yf(x)\\}$$\n",
    "\n",
    "If $y\\neq sign(f(x))$, $1(y\\neq sign(f(x))=1$, and $yf(x) \\leq 0$, $1-yf(x)\\geq 1$. Obviously, \n",
    "$$1(y\\neq sign(f(x)) \\leq max\\{0,1-yf(x)\\}$$\n"
   ]
  },
  {
   "cell_type": "markdown",
   "metadata": {
    "deletable": true,
    "editable": true
   },
   "source": [
    "2.1.1.(b)<br/>\n",
    "Based on the result given in 1.1, both $0$ and $1-m$ are convex function of the margin $m$. Then we can say that $max\\{0,1-m\\}$ is a convex function of the margin $m$."
   ]
  },
  {
   "cell_type": "markdown",
   "metadata": {
    "deletable": true,
    "editable": true
   },
   "source": [
    "2.1.1.(c)<br/>\n",
    "A function $f:R^{n}\\rightarrow R^{m}$ is an affine function and an affine function is convex and concave. Then $1-yw^{T}x$ is a convex function. $max\\{0,1-yw^{T}x\\}$ is a convex function of $w$."
   ]
  },
  {
   "cell_type": "markdown",
   "metadata": {
    "deletable": true,
    "editable": true
   },
   "source": [
    "**2.2 Generalized Hinge Loss**"
   ]
  },
  {
   "cell_type": "markdown",
   "metadata": {
    "deletable": true,
    "editable": true
   },
   "source": [
    "2.2.1<br/>\n",
    "set $y*\\in Y$, $h(x,y*)\\geq h(x,y)$ for all $y\\in Y$<br/>\n",
    "Since $$f(x) = argmax_{y\\in Y}h(x,y)$$\n",
    "Then $$y* = f(x)$$\n",
    "So $$h(x,y) \\leq h(x,f(x))$$"
   ]
  },
  {
   "cell_type": "markdown",
   "metadata": {
    "deletable": true,
    "editable": true
   },
   "source": [
    "2.2.2<br/>\n",
    "Based on the result shown in 2.1, we have \n",
    "$$h(x,y) \\leq h(x,f(x))$$\n",
    "so\n",
    "$$h(x,f(x)) - h(x,y)\\geq0$$\n",
    "Then we have \n",
    "$$\\Delta(y,f(x))\\leq \\Delta(y,f(x)) + h(x,f(x)) - h(x,y)$$\n",
    "and Obviously\n",
    "$$\\Delta(y,f(x)) + h(x,f(x)) - h(x,y) \\leq max_{y'\\in Y}[\\Delta(y,y')+h(x,y')-h(x,y)]$$\n",
    "So \n",
    "$$\\Delta(y,f(x))\\leq max_{y'\\in Y}[\\Delta(y,y') + h(x,y')-h(x,y)]$$"
   ]
  },
  {
   "cell_type": "markdown",
   "metadata": {
    "deletable": true,
    "editable": true
   },
   "source": [
    "2.2.3<br/>\n",
    "Based on the fomula shown in 2.2\n",
    "$$l(h,(x,y))=max_{y'\\in Y}[\\Delta(y,y')+h(x,y')-h(x,y)]$$\n",
    "we have \n",
    "$$l(h_{w},(x_{i},y_{i})) = max_{y\\in Y}[\\Delta(y_{i},y) + h_{w}(x_{i},y) - h_{w}(x_{i},y_{i})]$$\n",
    "for \n",
    "$$H = \\{h_{w}(x,y) = <w,\\Phi(x,y)> | w\\in R^{d}\\}$$\n",
    "we have \n",
    "$$l(h_{w},(x_{i},y_{i})) = max_{y\\in Y}[\\Delta(y_{i},y) + <w,\\Phi(x_{i},y)>-<w,\\Phi(x_{i},y_{i})>]$$\n",
    "For the Algebraic properties of vectors\n",
    "$$l(h_{w},(x_{i},y_{i}) = max_{y\\in Y}[\\Delta(y_{i},y)+ <w,\\Phi(x_{i},y)-\\Phi(x_{i},y_{i})>]$$"
   ]
  },
  {
   "cell_type": "markdown",
   "metadata": {
    "deletable": true,
    "editable": true
   },
   "source": [
    "2.2.4<br/>\n",
    "2.2.4(a)<br/>\n",
    "$$<w,\\Phi(x_{i}-y) - \\Phi(x_{i},y_{i})>$$\n",
    "$$= <w,\\Phi(x_{i}-y)>-<w,\\Phi(x_{i},y_{i})>$$\n",
    "Since $w\\in R^{d}$, $\\Phi:X*Y\\rightarrow R^{d}$\n",
    "$$<w,\\Phi(x_{i}-y)>$$\n",
    "$$=\\Sigma_{j}^{n}w^{(j)}\\Phi^{(j)}(x_{i}-y)$$\n",
    "which is a linear combination of $w$, then the expression \n",
    "$$\\Delta(y_{i},y) + <w, \\Phi(x_{i},y)-\\Phi(x_{i},y_{i})>$$ is an affine function of $w$\n",
    "\n",
    "2.2.4(b)<br/>\n",
    "Since the affine function is always a convex function, we know that \n",
    "$$\\Delta(y_{i},y) + <w, \\Phi(x_{i},y)-\\Phi(x_{i},y_{i})>$$ is a convex function. And based on the result given in 1.1\n",
    "$$max_{y\\in Y}[\\Delta(y_{i},y) + <w, \\Phi(x_{i},y)-\\Phi(x_{i},y_{i})>]$$ is a convex function of $w$\n"
   ]
  },
  {
   "cell_type": "markdown",
   "metadata": {
    "deletable": true,
    "editable": true
   },
   "source": [
    "2.2.5<br/>\n",
    "Based on results obtained from previous questions, we have \n",
    "$$\\Delta(y_{i},f_{w}(x_{i}))\\leq max_{y'\\in Y}[\\Delta(y_{i},y')+h_{w}(x_{i},y')-h_{w}(x_{i},y_{i})]$$\n",
    "and \n",
    "$$l(h_{w},(x_{i},y_{i})) = max_{y'\\in Y}[\\Delta(y_{i},y')+h_{w}(x_{i},y')-h_{w}(x_{i},y_{i})]$$\n",
    "Hence we know that \n",
    "$$l(h_{w},(x_{i},y_{i})) \\geq\\Delta(y_{i},f_{w}(x_{i}))$$\n",
    "$l(h_{w},(x_{i},y_{i}))$ is one of upper bounds of $\\Delta(y_{i},f_{w}(x_{i}))$. If we can make the upper bound small, then the loss we care about will also be small. That's why we can take $l(h_{w},(x_{i},y_{i}))$ as a convex surrogate for $\\Delta(y_{i},f_{w}(x_{i}))$"
   ]
  },
  {
   "cell_type": "markdown",
   "metadata": {
    "deletable": true,
    "editable": true
   },
   "source": [
    "**3. SGD for Multiclass SVM **<br/>\n",
    "3.1.(a)<br/>\n",
    "Based on the result given in the question that \n",
    "$$w\\rightarrow max_{y\\in Y}[\\Delta(y_{i},y)+<w,\\Phi(x_{i},y)-\\Phi(x_{i},y_{i})>]$$\n",
    "is a convex function\n",
    "and $$\\dfrac{1}{n}>0$$ and linear combination of convex function is a convex function<br/>\n",
    "So \n",
    "$$\\dfrac{1}{n}\\Sigma_{i=1}^{n}max_{y\\in Y}[\\Delta(y_{i},y)+<w,\\Phi(x_{i},y)-\\Phi(x_{i},y_{i})>]$$\n",
    "is a convex function of $w$\n"
   ]
  },
  {
   "cell_type": "markdown",
   "metadata": {
    "deletable": true,
    "editable": true
   },
   "source": [
    "3.1.(b)<br/>\n",
    "Since every norm of $R^{n}$ is convex, then we know that $||w||$ is convex. Also, $x^2$ is a convex function and it is non-decreasing in the range of $[0,\\infty]$. Then we can say that $||w||^{2}$ is a convex function of $w$"
   ]
  },
  {
   "cell_type": "markdown",
   "metadata": {
    "deletable": true,
    "editable": true
   },
   "source": [
    "3.1.(c)<br/>\n",
    "Based on results obtained from 3.1.(a) and 3.1.(b) that both \n",
    "$$\\dfrac{1}{n}\\Sigma_{i=1}^{n}max_{y\\in Y}[\\Delta(y_{i},y)+<w,\\Phi(x_{i},y)-\\Phi(x_{i},y_{i})>]$$\n",
    "and \n",
    "$$||w||^{2}$$ \n",
    "are convex function. Also $J(w)$ is a linear combination of the two previous function. So \n",
    "$$J(w) = \\lambda||w||^{2} + \\dfrac{1}{n}\\Sigma_{i=1}^{n}max_{y\\in Y}[\\Delta(y_{i},y) + <w,\\Phi(x_{i},y)-\\Phi(x_{i},y_{i})>]$$ is a convex function of $w$"
   ]
  },
  {
   "cell_type": "markdown",
   "metadata": {
    "deletable": true,
    "editable": true
   },
   "source": [
    "3.2<br/>\n",
    "$$J(w) = \\lambda||w||^{2} + \\dfrac{1}{n}\\Sigma_{i=1}^{n}max_{y\\in Y}[\\Delta(y_{i},y) + <w,\\Phi(x_{i},y)-\\Phi(x_{i},y_{i})>]$$ \n",
    "$$\\dfrac{\\partial\\lambda||w||^{2}}{\\partial w} = 2\\lambda w$$\n",
    "Also, we set $\\hat{y}_{i} = argmax_{y\\in Y}[\\Delta(y_{i},y)+<w,\\Phi(x_{i},y)-\\Phi(x_{i},y_{i})>]$\n",
    "Then \n",
    "$$\\dfrac{1}{n}\\Sigma_{i=1}^{n}max_{y\\in Y}[\\Delta(y_{i},y) + <w,\\Phi(x_{i},y)-\\Phi(x_{i},y_{i})>]$$\n",
    "$$ = \\dfrac{1}{n}\\Sigma_{i=1}^{n}[\\Delta(y_{i},\\hat{y}_{i})+<w,\\Phi(x_{i},\\hat{y}_{i}-\\Phi(x_{i},y_{i})>]$$\n",
    "Since \n",
    "$$(\\Phi(x_{i},\\hat{y}_{i})-\\Phi(x_{i},y_{i})) \\in \\partial[\\Delta(y_{i},\\hat{y}_{i})+<w,\\Phi(x_{i},\\hat{y}_{i}-\\Phi(x_{i},y_{i})>]$$\n",
    "Then we have a subgradient of $J(w)$\n",
    "$$2\\lambda w+ \\dfrac{1}{n}\\Sigma_{i=1}^{n}(\\Phi(x_{i},\\hat{y}_{i})-\\Phi(x_{i},y_{i})) \\in \\partial\\{J(w)\\}$$"
   ]
  },
  {
   "cell_type": "markdown",
   "metadata": {
    "deletable": true,
    "editable": true
   },
   "source": [
    "3.3<br/>\n",
    "$$2\\lambda w + (\\Phi(x_{i},\\hat{y}_{i})-\\Phi(x_{i},y_{i})) \\in \\partial J^{(s)}(w)$$"
   ]
  },
  {
   "cell_type": "markdown",
   "metadata": {
    "deletable": true,
    "editable": true
   },
   "source": [
    "3.4<br/>\n",
    "$$2\\lambda w + \\dfrac{1}{m}\\Sigma_{j=0}^{m-1}(\\Phi(x_{i+j},\\hat{y}_{i+j})-\\Phi(x_{i+j},y_{i+j}))\\in \\partial J^{(m)}(w)$$"
   ]
  },
  {
   "cell_type": "markdown",
   "metadata": {
    "deletable": true,
    "editable": true
   },
   "source": [
    "**[Optional] 4. Another Formulation of Generalized Hinge Loss**"
   ]
  },
  {
   "cell_type": "markdown",
   "metadata": {
    "deletable": true,
    "editable": true
   },
   "source": [
    "4.1<br/>\n",
    "Based on the result obtained in 2.2.2, we have \n",
    "$$l(h,(x,y)) =max_{y'\\in Y} [\\Delta(y,y')+h(x,y')-h(x,y)]$$\n",
    "when $y=y'$\n",
    "$$m_{i,y'}(h) = h(x_{i},y_{i})-h(x_{i},y')$$\n",
    "and put in the previous equationm, we have \n",
    "$$l(h,(x_{i},y_{i})) = max_{y'\\in Y}[\\Delta(y_{i},y')-m_{i,y'}(h)]$$"
   ]
  },
  {
   "cell_type": "markdown",
   "metadata": {
    "deletable": true,
    "editable": true
   },
   "source": [
    "4.2<br/>\n",
    "Based on the result obtained in 2.2.2, we have \n",
    "$$\\Delta(y,f(x))\\leq max_{y'\\in Y}[\\Delta(y,y') + h(x,y')-h(x,y)]$$\n",
    "and the question also supposes that \n",
    "$$\\Delta(y,y')\\geq 0 for all y,y' \\in Y$$\n",
    "then \n",
    "$$\\Delta(y_{i},y)-m_{i,y}(h) \\geq 0$$\n",
    "So we have \n",
    "$$[\\Delta(y_{i},y)-m_{i,y}(h)]_{+} = \\Delta(y_{i},y)-m_{i,y}(h)$$\n",
    "$$max_{y\\in Y}([\\Delta(y_{i},y)-m_{i,y}(h)]_{+}) = max_{y\\in Y}( \\Delta(y_{i},y)-m_{i,y}(h))$$"
   ]
  },
  {
   "cell_type": "markdown",
   "metadata": {
    "deletable": true,
    "editable": true
   },
   "source": [
    "4.3<br/>\n",
    "Based on the assumption given from the question, \n",
    "$$l(h,(x_{i},y_{i})) = \\Delta(y_{i},y) - m_{i,y}(h) $$\n",
    "and \n",
    "$$ m_{i,y}(h) = h(x_{i},y_{i})-h(x_{i},y) \\geq \\Delta(y_{i},y)$$\n",
    "If $\\Delta(y,y) = 0$, we must have $m_{i,y}(h) = h(x_{i},y_{i})-h(x_{i},y)=0$\n",
    "So we have \n",
    "$$\n",
    "l(h,(x_{i},y_{i}))=0$$"
   ]
  },
  {
   "cell_type": "markdown",
   "metadata": {
    "deletable": true,
    "editable": true
   },
   "source": [
    "**[Optional] 5. Hinge Loss is a Special Case of Generalized Hinge Loss**"
   ]
  },
  {
   "cell_type": "markdown",
   "metadata": {
    "deletable": true,
    "editable": true
   },
   "source": [
    "Based on the assumption given for $h$\n",
    "If $y = \\hat{y}$, Obviously, we always have \n",
    "$$l(h,(x,y)) = 0$$\n",
    "If $y = 1$\n",
    "$$l(h,(x,1)) = max\\{\\Delta(1,1)+h(x,1)-h(x,1), \\Delta(1,-1)+h(x,-1)-h(x,1)\\}$$\n",
    "$$ = max\\{0, 1-1*g(x)\\} = max\\{0,1-yg(x)\\}$$\n",
    "If $y = -1$\n",
    "$$l(h,(x,-1)) = max\\{\\Delta(-1,1)+h(x,-1)-h(x,1), \\Delta(-1,-1)+h(x,-1)-h(x,-1)\\}$$\n",
    "$$ = max\\{0, 1+(-1)*g(x)\\} = max\\{0,1-yg(x)\\}$$"
   ]
  },
  {
   "cell_type": "markdown",
   "metadata": {},
   "source": [
    "**6. Multiclass Classification - Implementation**"
   ]
  },
  {
   "cell_type": "markdown",
   "metadata": {},
   "source": [
    "**6.1 One-vs-All(also known as One-vs-Rest)**"
   ]
  },
  {
   "cell_type": "code",
   "execution_count": 22,
   "metadata": {
    "collapsed": true
   },
   "outputs": [],
   "source": [
    "import numpy as np\n",
    "import matplotlib.pyplot as plt\n",
    "from sklearn.datasets.samples_generator import make_blobs\n",
    "\n",
    "%matplotlib inline"
   ]
  },
  {
   "cell_type": "code",
   "execution_count": 23,
   "metadata": {
    "collapsed": false
   },
   "outputs": [
    {
     "data": {
      "text/plain": [
       "<matplotlib.collections.PathCollection at 0x110900160>"
      ]
     },
     "execution_count": 23,
     "metadata": {},
     "output_type": "execute_result"
    },
    {
     "data": {
      "image/png": "[encoded data removed]",
      "text/plain": [
       "<matplotlib.figure.Figure at 0x1108842b0>"
      ]
     },
     "metadata": {},
     "output_type": "display_data"
    }
   ],
   "source": [
    "# Create the  training data\n",
    "np.random.seed(2)\n",
    "X, y = make_blobs(n_samples=300,cluster_std=.25, centers=np.array([(-3,1),(0,2),(3,1)]))\n",
    "plt.scatter(X[:, 0], X[:, 1], c=y, s=50)"
   ]
  },
  {
   "cell_type": "code",
   "execution_count": 27,
   "metadata": {
    "collapsed": false
   },
   "outputs": [
    {
     "data": {
      "text/plain": [
       "array([0, 2, 2, 2, 2, 1, 0, 2, 0, 0, 0, 1, 2, 0, 1, 0, 1, 0, 1, 0, 2, 0, 1,\n",
       "       2, 1, 1, 2, 1, 0, 0, 1, 2, 1, 2, 0, 0, 2, 1, 1, 0, 0, 0, 1, 2, 0, 0,\n",
       "       1, 2, 0, 0, 0, 2, 2, 2, 1, 1, 1, 0, 0, 2, 1, 2, 2, 2, 1, 1, 0, 0, 1,\n",
       "       2, 1, 1, 2, 0, 0, 0, 2, 0, 1, 1, 1, 0, 2, 0, 2, 2, 2, 1, 2, 0, 1, 1,\n",
       "       0, 1, 1, 2, 0, 2, 2, 0, 0, 0, 2, 2, 2, 0, 1, 1, 0, 2, 1, 1, 1, 1, 0,\n",
       "       1, 1, 0, 1, 2, 2, 0, 2, 0, 2, 1, 1, 0, 1, 1, 2, 2, 1, 2, 0, 1, 2, 2,\n",
       "       0, 2, 1, 1, 0, 2, 1, 1, 2, 1, 1, 0, 0, 0, 2, 1, 1, 1, 2, 0, 2, 1, 0,\n",
       "       2, 2, 2, 0, 2, 1, 0, 2, 2, 1, 1, 1, 2, 2, 1, 0, 1, 1, 2, 0, 1, 1, 2,\n",
       "       1, 2, 2, 1, 1, 2, 1, 2, 2, 0, 1, 1, 1, 0, 2, 2, 0, 2, 0, 0, 1, 1, 1,\n",
       "       0, 0, 0, 0, 0, 1, 2, 0, 2, 2, 0, 2, 2, 1, 2, 0, 1, 0, 2, 0, 2, 1, 0,\n",
       "       0, 0, 2, 0, 1, 0, 1, 0, 2, 0, 1, 2, 0, 2, 0, 0, 2, 0, 0, 1, 1, 1, 0,\n",
       "       1, 1, 0, 0, 2, 0, 1, 0, 2, 1, 0, 2, 2, 0, 1, 2, 1, 1, 2, 0, 2, 2, 2,\n",
       "       2, 2, 0, 1, 2, 2, 0, 0, 2, 2, 1, 1, 1, 0, 1, 1, 2, 0, 2, 0, 2, 0, 1,\n",
       "       0])"
      ]
     },
     "execution_count": 27,
     "metadata": {},
     "output_type": "execute_result"
    }
   ],
   "source": [
    "y.T"
   ]
  },
  {
   "cell_type": "code",
   "execution_count": 24,
   "metadata": {
    "collapsed": false
   },
   "outputs": [],
   "source": [
    "import features as f\n",
    "import numpy as np\n",
    "from sklearn import pipeline\n",
    "from sklearn.base import BaseEstimator\n",
    "from sklearn.ensemble import GradientBoostingClassifier\n",
    "from multiprocessing import Pool"
   ]
  },
  {
   "cell_type": "code",
   "execution_count": 25,
   "metadata": {
    "collapsed": true
   },
   "outputs": [],
   "source": [
    "from sklearn.base import BaseEstimator, ClassifierMixin, clone\n",
    "\n",
    "class OneVsAllClassifier(BaseEstimator, ClassifierMixin):  \n",
    "    \"\"\"\n",
    "    One-vs-all classifier\n",
    "    We assume that the classes will be the integers 0,..,(n_classes-1).\n",
    "    We assume that the estimator provided to the class, after fitting, has a \"decision_function\" that \n",
    "    returns the score for the positive class.\n",
    "    \"\"\"\n",
    "    def __init__(self, estimator, n_classes):      \n",
    "        \"\"\"\n",
    "        Constructed with the number of classes and an estimator (e.g. an\n",
    "        SVM estimator from sklearn)\n",
    "        @param estimator : binary base classifier used\n",
    "        @param n_classes : number of classes\n",
    "        \"\"\"\n",
    "        self.n_classes = n_classes \n",
    "        self.estimators = [clone(estimator) for _ in range(n_classes)]\n",
    "        self.fitted = False\n",
    "\n",
    "    def fit(self, X, y=None):\n",
    "        \"\"\"\n",
    "        This should fit one classifier for each class.\n",
    "        self.estimators[i] should be fit on class i vs rest\n",
    "        @param X: array-like, shape = [n_samples,n_features], input data\n",
    "        @param y: array-like, shape = [n_samples,] class labels\n",
    "        @return returns self\n",
    "        \"\"\"\n",
    "        #Your code goes here\n",
    "        self.estimators(X,y)\n",
    "        \n",
    "        self.fitted = True  \n",
    "        return self   \n",
    "\n",
    "    def decision_function(self, X):\n",
    "        \"\"\"\n",
    "        Returns the score of each input for each class. Assumes\n",
    "        that the given estimator also implements the decision_function method (which sklearn SVMs do), \n",
    "        and that fit has been called.\n",
    "        @param X : array-like, shape = [n_samples, n_features] input data\n",
    "        @return array-like, shape = [n_samples, n_classes]\n",
    "        \"\"\"\n",
    "        if not self.fitted:\n",
    "            raise RuntimeError(\"You must train classifer before predicting data.\")\n",
    "\n",
    "        if not hasattr(self.estimators[0], \"decision_function\"):\n",
    "            raise AttributeError(\n",
    "                \"Base estimator doesn't have a decision_function attribute.\")\n",
    "        \n",
    "        #Replace the following return statement with your code\n",
    "        return self.estimators.decision_function(self.transfor(X))\n",
    "    \n",
    "    def predict(self, X):\n",
    "        \"\"\"\n",
    "        Predict the class with the highest score.\n",
    "        @param X: array-like, shape = [n_samples,n_features] input data\n",
    "        @returns array-like, shape = [n_samples,] the predicted classes for each input\n",
    "        \"\"\"\n",
    "        #Replace the following return statement with your code\n",
    "        return self.estimator_.predict(self.transform(X))\n",
    "\n",
    " "
   ]
  },
  {
   "cell_type": "code",
   "execution_count": 26,
   "metadata": {
    "collapsed": false
   },
   "outputs": [
    {
     "ename": "AttributeError",
     "evalue": "'list' object has no attribute 'fit'",
     "output_type": "error",
     "traceback": [
      "\u001b[0;31m---------------------------------------------------------------------------\u001b[0m",
      "\u001b[0;31mAttributeError\u001b[0m                            Traceback (most recent call last)",
      "\u001b[0;32m<ipython-input-26-5b9c8bdb329c>\u001b[0m in \u001b[0;36m<module>\u001b[0;34m()\u001b[0m\n\u001b[1;32m      3\u001b[0m \u001b[0msvm_estimator\u001b[0m \u001b[0;34m=\u001b[0m \u001b[0msvm\u001b[0m\u001b[0;34m.\u001b[0m\u001b[0mLinearSVC\u001b[0m\u001b[0;34m(\u001b[0m\u001b[0mloss\u001b[0m\u001b[0;34m=\u001b[0m\u001b[0;34m'hinge'\u001b[0m\u001b[0;34m,\u001b[0m \u001b[0mfit_intercept\u001b[0m\u001b[0;34m=\u001b[0m\u001b[0;32mFalse\u001b[0m\u001b[0;34m,\u001b[0m \u001b[0mC\u001b[0m\u001b[0;34m=\u001b[0m\u001b[0;36m200\u001b[0m\u001b[0;34m)\u001b[0m\u001b[0;34m\u001b[0m\u001b[0m\n\u001b[1;32m      4\u001b[0m \u001b[0mclf_onevsall\u001b[0m \u001b[0;34m=\u001b[0m \u001b[0mOneVsAllClassifier\u001b[0m\u001b[0;34m(\u001b[0m\u001b[0msvm_estimator\u001b[0m\u001b[0;34m,\u001b[0m \u001b[0mn_classes\u001b[0m\u001b[0;34m=\u001b[0m\u001b[0;36m3\u001b[0m\u001b[0;34m)\u001b[0m\u001b[0;34m\u001b[0m\u001b[0m\n\u001b[0;32m----> 5\u001b[0;31m \u001b[0mclf_onevsall\u001b[0m\u001b[0;34m.\u001b[0m\u001b[0mfit\u001b[0m\u001b[0;34m(\u001b[0m\u001b[0mX\u001b[0m\u001b[0;34m,\u001b[0m\u001b[0my\u001b[0m\u001b[0;34m)\u001b[0m\u001b[0;34m\u001b[0m\u001b[0m\n\u001b[0m\u001b[1;32m      6\u001b[0m \u001b[0;34m\u001b[0m\u001b[0m\n\u001b[1;32m      7\u001b[0m \u001b[0;32mfor\u001b[0m \u001b[0mi\u001b[0m \u001b[0;32min\u001b[0m \u001b[0mrange\u001b[0m\u001b[0;34m(\u001b[0m\u001b[0;36m3\u001b[0m\u001b[0;34m)\u001b[0m \u001b[0;34m:\u001b[0m\u001b[0;34m\u001b[0m\u001b[0m\n",
      "\u001b[0;32m<ipython-input-25-5d3288ce7887>\u001b[0m in \u001b[0;36mfit\u001b[0;34m(self, X, y)\u001b[0m\n\u001b[1;32m     28\u001b[0m         \"\"\"\n\u001b[1;32m     29\u001b[0m         \u001b[0;31m#Your code goes here\u001b[0m\u001b[0;34m\u001b[0m\u001b[0;34m\u001b[0m\u001b[0m\n\u001b[0;32m---> 30\u001b[0;31m         \u001b[0mself\u001b[0m\u001b[0;34m.\u001b[0m\u001b[0mestimators\u001b[0m\u001b[0;34m.\u001b[0m\u001b[0mfit\u001b[0m\u001b[0;34m(\u001b[0m\u001b[0mX\u001b[0m\u001b[0;34m,\u001b[0m\u001b[0my\u001b[0m\u001b[0;34m)\u001b[0m\u001b[0;34m\u001b[0m\u001b[0m\n\u001b[0m\u001b[1;32m     31\u001b[0m \u001b[0;34m\u001b[0m\u001b[0m\n\u001b[1;32m     32\u001b[0m         \u001b[0mself\u001b[0m\u001b[0;34m.\u001b[0m\u001b[0mfitted\u001b[0m \u001b[0;34m=\u001b[0m \u001b[0;32mTrue\u001b[0m\u001b[0;34m\u001b[0m\u001b[0m\n",
      "\u001b[0;31mAttributeError\u001b[0m: 'list' object has no attribute 'fit'"
     ]
    }
   ],
   "source": [
    "#Here we test the OneVsAllClassifier\n",
    "from sklearn import svm\n",
    "svm_estimator = svm.LinearSVC(loss='hinge', fit_intercept=False, C=200)\n",
    "clf_onevsall = OneVsAllClassifier(svm_estimator, n_classes=3)\n",
    "clf_onevsall.fit(X,y)\n",
    "\n",
    "for i in range(3) :\n",
    "    print(\"Coeffs %d\"%i)\n",
    "    print(clf_onevsall.estimators[i].coef_) #Will fail if you haven't implemented fit yet\n",
    "\n",
    "# create a mesh to plot in\n",
    "h = .02  # step size in the mesh\n",
    "x_min, x_max = min(X[:,0])-3,max(X[:,0])+3\n",
    "y_min, y_max = min(X[:,1])-3,max(X[:,1])+3\n",
    "xx, yy = np.meshgrid(np.arange(x_min, x_max, h),\n",
    "                     np.arange(y_min, y_max, h))\n",
    "mesh_input = np.c_[xx.ravel(), yy.ravel()]\n",
    "\n",
    "Z = clf_onevsall.predict(mesh_input)\n",
    "Z = Z.reshape(xx.shape)\n",
    "plt.contourf(xx, yy, Z, cmap=plt.cm.coolwarm, alpha=0.8)\n",
    "# Plot also the training points\n",
    "plt.scatter(X[:, 0], X[:, 1], c=y, cmap=plt.cm.coolwarm)\n",
    "\n",
    "\n",
    "from sklearn import metrics\n",
    "metrics.confusion_matrix(y, clf_onevsall.predict(X))"
   ]
  },
  {
   "cell_type": "markdown",
   "metadata": {},
   "source": [
    "Multiclass SVM"
   ]
  },
  {
   "cell_type": "code",
   "execution_count": null,
   "metadata": {
    "collapsed": true
   },
   "outputs": [],
   "source": [
    "def zeroOne(y,a) :\n",
    "    '''\n",
    "    Computes the zero-one loss.\n",
    "    @param y: output class\n",
    "    @param a: predicted class\n",
    "    @return 1 if different, 0 if same\n",
    "    '''\n",
    "    return int(y != a)\n",
    "\n",
    "def featureMap(X,y,num_classes) :\n",
    "    '''\n",
    "    Computes the class-sensitive features.\n",
    "    @param X: array-like, shape = [n_samples,n_inFeatures] or [n_inFeatures,], input features for input data\n",
    "    @param y: a target class (in range 0,..,num_classes-1)\n",
    "    @return array-like, shape = [n_samples,n_outFeatures], the class sensitive features for class y\n",
    "    '''\n",
    "    #The following line handles X being a 1d-array or a 2d-array\n",
    "    num_samples, num_inFeatures = (1,X.shape[0]) if len(X.shape) == 1 else (X.shape[0],X.shape[1])\n",
    "    #your code goes here, and replaces following return\n",
    "    return 0\n",
    "\n",
    "def sgd(X, y, num_outFeatures, subgd, eta = 0.1, T = 10000):\n",
    "    '''\n",
    "    Runs subgradient descent, and outputs resulting parameter vector.\n",
    "    @param X: array-like, shape = [n_samples,n_features], input training data \n",
    "    @param y: array-like, shape = [n_samples,], class labels\n",
    "    @param num_outFeatures: number of class-sensitive features\n",
    "    @param subgd: function taking x,y and giving subgradient of objective\n",
    "    @param eta: learning rate for SGD\n",
    "    @param T: maximum number of iterations\n",
    "    @return: vector of weights\n",
    "    '''\n",
    "    num_samples = X.shape[0]\n",
    "    #your code goes here and replaces following return statement\n",
    "    return 0\n",
    "\n",
    "class MulticlassSVM(BaseEstimator, ClassifierMixin):\n",
    "    '''\n",
    "    Implements a Multiclass SVM estimator.\n",
    "    '''\n",
    "    def __init__(self, num_outFeatures, lam=1.0, num_classes=3, Delta=zeroOne, Psi=featureMap):       \n",
    "        '''\n",
    "        Creates a MulticlassSVM estimator.\n",
    "        @param num_outFeatures: number of class-sensitive features produced by Psi\n",
    "        @param lam: l2 regularization parameter\n",
    "        @param num_classes: number of classes (assumed numbered 0,..,num_classes-1)\n",
    "        @param Delta: class-sensitive loss function taking two arguments (i.e., target margin)\n",
    "        @param Psi: class-sensitive feature map taking two arguments\n",
    "        '''\n",
    "        self.num_outFeatures = num_outFeatures\n",
    "        self.lam = lam\n",
    "        self.num_classes = num_classes\n",
    "        self.Delta = Delta\n",
    "        self.Psi = lambda X,y : Psi(X,y,num_classes)\n",
    "        self.fitted = False\n",
    "    \n",
    "    def subgradient(self,x,y,w):\n",
    "        '''\n",
    "        Computes the subgradient at a given data point x,y\n",
    "        @param x: sample input\n",
    "        @param y: sample class\n",
    "        @param w: parameter vector\n",
    "        @return returns subgradient vector at given x,y,w\n",
    "        '''\n",
    "        #Your code goes here and replaces the following return statement\n",
    "        return 0\n",
    "        \n",
    "    def fit(self,X,y,eta=0.1,T=10000):\n",
    "        '''\n",
    "        Fits multiclass SVM\n",
    "        @param X: array-like, shape = [num_samples,num_inFeatures], input data\n",
    "        @param y: array-like, shape = [num_samples,], input classes\n",
    "        @param eta: learning rate for SGD\n",
    "        @param T: maximum number of iterations\n",
    "        @return returns self\n",
    "        '''\n",
    "        self.coef_ = sgd(X,y,self.num_outFeatures,self.subgradient,eta,T)\n",
    "        self.fitted = True\n",
    "        return self\n",
    "    \n",
    "    def decision_function(self, X):\n",
    "        '''\n",
    "        Returns the score on each input for each class. Assumes\n",
    "        that fit has been called.\n",
    "        @param X : array-like, shape = [n_samples, n_inFeatures]\n",
    "        @return array-like, shape = [n_samples, n_classes] giving scores for each sample,class pairing\n",
    "        '''\n",
    "        if not self.fitted:\n",
    "            raise RuntimeError(\"You must train classifer before predicting data.\")\n",
    "\n",
    "        #Your code goes here and replaces following return statement\n",
    "        return 0\n",
    "            \n",
    "    def predict(self, X):\n",
    "        '''\n",
    "        Predict the class with the highest score.\n",
    "        @param X: array-like, shape = [n_samples, n_inFeatures], input data to predict\n",
    "        @return array-like, shape = [n_samples,], class labels predicted for each data point\n",
    "        '''\n",
    "\n",
    "        #Your code goes here and replaces following return statement\n",
    "        return 0"
   ]
  },
  {
   "cell_type": "code",
   "execution_count": null,
   "metadata": {
    "collapsed": true
   },
   "outputs": [],
   "source": [
    "#the following code tests the MulticlassSVM and sgd\n",
    "#will fail if MulticlassSVM is not implemented yet\n",
    "est = MulticlassSVM(6,lam=1)\n",
    "est.fit(X,y)\n",
    "print(\"w:\")\n",
    "print(est.coef_)\n",
    "Z = est.predict(mesh_input)\n",
    "Z = Z.reshape(xx.shape)\n",
    "plt.contourf(xx, yy, Z, cmap=plt.cm.coolwarm, alpha=0.8)\n",
    "# Plot also the training points\n",
    "plt.scatter(X[:, 0], X[:, 1], c=y, cmap=plt.cm.coolwarm)\n",
    "\n",
    "\n",
    "from sklearn import metrics\n",
    "metrics.confusion_matrix(y, est.predict(X))"
   ]
  },
  {
   "cell_type": "code",
   "execution_count": null,
   "metadata": {
    "collapsed": true
   },
   "outputs": [],
   "source": []
  }
 ],
 "metadata": {
  "kernelspec": {
   "display_name": "Python 3",
   "language": "python",
   "name": "python3"
  },
  "language_info": {
   "codemirror_mode": {
    "name": "ipython",
    "version": 3
   },
   "file_extension": ".py",
   "mimetype": "text/x-python",
   "name": "python",
   "nbconvert_exporter": "python",
   "pygments_lexer": "ipython3",
   "version": "3.6.0"
  }
 },
 "nbformat": 4,
 "nbformat_minor": 2
}
