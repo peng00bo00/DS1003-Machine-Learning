{
 "cells": [
  {
   "cell_type": "code",
   "execution_count": 5,
   "metadata": {
    "collapsed": false
   },
   "outputs": [
    {
     "name": "stderr",
     "output_type": "stream",
     "text": [
      "C:\\Users\\liuyt\\Anaconda3\\lib\\site-packages\\sklearn\\cross_validation.py:44: DeprecationWarning: This module was deprecated in version 0.18 in favor of the model_selection module into which all the refactored classes and functions are moved. Also note that the interface of the new CV iterators are different from that of this module. This module will be removed in 0.20.\n",
      "  \"This module will be removed in 0.20.\", DeprecationWarning)\n"
     ]
    }
   ],
   "source": [
    "import pandas as pd\n",
    "import logging\n",
    "import numpy as np\n",
    "import sys\n",
    "import numpy as np\n",
    "import matplotlib.pyplot as plt\n",
    "from sklearn.cross_validation import train_test_split"
   ]
  },
  {
   "cell_type": "markdown",
   "metadata": {},
   "source": [
    "# Question2.1"
   ]
  },
  {
   "cell_type": "code",
   "execution_count": 6,
   "metadata": {
    "collapsed": true
   },
   "outputs": [],
   "source": [
    "### Assignment Owner: Tian Wang\n",
    "#######################################\n",
    "#### Normalization\n",
    "\n",
    "\n",
    "def feature_normalization(train, test):\n",
    "    \"\"\"Rescale the data so that each feature in the training set is in\n",
    "    the interval [0,1], and apply the same transformations to the test\n",
    "    set, using the statistics computed on 1the training set.\n",
    "\n",
    "    Args:\n",
    "        train - training set, a 2D numpy array of size (num_instances, num_features)\n",
    "        test  - test set, a 2D numpy array of size (num_instances, num_features)\n",
    "    Returns:\n",
    "        train_normalized - training set after normalization\n",
    "        test_normalized  - test set after normalization\n",
    "\n",
    "    \"\"\"\n",
    "    # TODO\n",
    "    #train = np.array(train,dtype=int)\n",
    "    max_train = train.max(axis=0)\n",
    "    min_train = train.min(axis=0)\n",
    "    train_normalized = (train-min_train)/(max_train-min_train)\n",
    "    test_normalized = (test-min_train)/(max_train-min_train) \n",
    "    return train_normalized, test_normalized"
   ]
  },
  {
   "cell_type": "markdown",
   "metadata": {},
   "source": [
    "# Question 2.2\n",
    "## 2.2.1\n",
    "### The expression for J\n",
    "\n",
    "### $J=\\frac{1}{2m} \\cdot (\\rVert X \\cdot \\theta - y\\rVert_2) = \n",
    "J=\\frac{1}{2m} \\cdot (X \\cdot \\theta - y) \\cdot (X \\cdot \\theta - y)^T$ \n",
    "\n"
   ]
  },
  {
   "cell_type": "markdown",
   "metadata": {},
   "source": [
    "## 2.2.2\n",
    "### The gradient of J\n",
    "\n",
    "### $\\nabla J(\\theta) = \\frac{1}{m}\\cdot X^T \\cdot (X \\cdot \\theta - y)$"
   ]
  },
  {
   "cell_type": "markdown",
   "metadata": {},
   "source": [
    "## 2.2.3\n",
    "\n",
    "### $J(\\theta+\\eta\\Delta)-J(\\theta) = \\eta \\cdot \\nabla^T J(\\theta)\\cdot \\Delta$"
   ]
  },
  {
   "cell_type": "markdown",
   "metadata": {},
   "source": [
    "## 2.2.4\n",
    "\n",
    "### $\\theta = \\theta -\\eta * \\nabla J(\\theta) $"
   ]
  },
  {
   "cell_type": "markdown",
   "metadata": {},
   "source": [
    "## 2.2.5"
   ]
  },
  {
   "cell_type": "code",
   "execution_count": 7,
   "metadata": {
    "collapsed": true
   },
   "outputs": [],
   "source": [
    "########################################\n",
    "#### The square loss function\n",
    "def compute_square_loss(X, y, theta):\n",
    "    \"\"\"\n",
    "    Given a set of X, y, theta, compute the square loss for predicting y with X*theta \n",
    "    Args:\n",
    "        X - the feature vector, 2D numpy array of size (num_instances, num_features)\n",
    "        y - the label vector, 1D numpy array of size (num_instances)\n",
    "        theta - the parameter vector, 1D array of size (num_features)\n",
    "    \n",
    "    Returns:\n",
    "        loss - the square loss, scalar\n",
    "    \"\"\"\n",
    "    loss = 0 #initialize the square_loss\n",
    "    #TODO\n",
    "    residual = np.dot(X,theta)-y\n",
    "    residual2 = residual**2\n",
    "    loss = np.sum(residual2)/(2*len(theta))\n",
    "    return loss"
   ]
  },
  {
   "cell_type": "code",
   "execution_count": 8,
   "metadata": {
    "collapsed": false
   },
   "outputs": [
    {
     "data": {
      "text/plain": [
       "24.5"
      ]
     },
     "execution_count": 8,
     "metadata": {},
     "output_type": "execute_result"
    }
   ],
   "source": [
    "X=np.array([[2,3,4],[1,2,1],[4,5,4]])\n",
    "y=np.array([4,3,2])\n",
    "theta=np.array([1,1,1])\n",
    "compute_square_loss(X,y,theta)"
   ]
  },
  {
   "cell_type": "markdown",
   "metadata": {},
   "source": [
    "## 2.2.6"
   ]
  },
  {
   "cell_type": "code",
   "execution_count": 9,
   "metadata": {
    "collapsed": true
   },
   "outputs": [],
   "source": [
    "########################################\n",
    "### compute the gradient of square loss function\n",
    "def compute_square_loss_gradient(X, y, theta):\n",
    "    \"\"\"\n",
    "    Compute gradient of the square loss (as defined in compute_square_loss), at the point theta.\n",
    "    \n",
    "    Args:\n",
    "        X - the feature vector, 2D numpy array of size (num_instances, num_features)\n",
    "        y - the label vector, 1D numpy array of size (num_instances)\n",
    "        theta - the parameter vector, 1D numpy array of size (num_features)\n",
    "    \n",
    "    Returns:\n",
    "        grad - gradient vector, 1D numpy array of size (num_features)\n",
    "    \"\"\"\n",
    "    #TODO\n",
    "    grad = np.zeros(X.shape[1])\n",
    "    grad = np.dot(X.T,np.dot(X,theta)-y)/X.shape[0]\n",
    "    #for i in range(X.shape[1]):\n",
    "    #    grad[i]=sum((np.dot(X,theta)-y)*X[:,i])/X.shape[0]\n",
    "    return grad"
   ]
  },
  {
   "cell_type": "code",
   "execution_count": 10,
   "metadata": {
    "collapsed": false
   },
   "outputs": [
    {
     "data": {
      "text/plain": [
       "array([ 18.33333333,  24.        ,  21.66666667])"
      ]
     },
     "execution_count": 10,
     "metadata": {},
     "output_type": "execute_result"
    }
   ],
   "source": [
    "compute_square_loss_gradient(X,y,theta)"
   ]
  },
  {
   "cell_type": "markdown",
   "metadata": {},
   "source": [
    "# Question 2.3"
   ]
  },
  {
   "cell_type": "code",
   "execution_count": 11,
   "metadata": {
    "collapsed": true
   },
   "outputs": [],
   "source": [
    "###########################################\n",
    "### Gradient Checker\n",
    "#Getting the gradient calculation correct is often the trickiest part\n",
    "#of any gradient-based optimization algorithm.  Fortunately, it's very\n",
    "#easy to check that the gradient calculation is correct using the\n",
    "#definition of gradient.\n",
    "#See http://ufldl.stanford.edu/wiki/index.php/Gradient_checking_and_advanced_optimization\n",
    "def grad_checker(X, y, theta, epsilon=0.01, tolerance=1e-4): \n",
    "    \"\"\"Implement Gradient Checker\n",
    "    Check that the function compute_square_loss_gradient returns the\n",
    "    correct gradient for the given X, y, and theta.\n",
    "\n",
    "    Let d be the number of features. Here we numerically estimate the\n",
    "    gradient by approximating the directional derivative in each of\n",
    "    the d coordinate directions: \n",
    "    (e_1 = (1,0,0,...,0), e_2 = (0,1,0,...,0), ..., e_d = (0,...,0,1) \n",
    "\n",
    "    The approximation for the directional derivative of J at the point\n",
    "    theta in the direction e_i is given by: \n",
    "    ( J(theta + epsilon * e_i) - J(theta - epsilon * e_i) ) / (2*epsilon).\n",
    "\n",
    "    We then look at the Euclidean distance between the gradient\n",
    "    computed using this approximation and the gradient computed by\n",
    "    compute_square_loss_gradient(X, y, theta).  If the Euclidean\n",
    "    distance exceeds tolerance, we say the gradient is incorrect.\n",
    "\n",
    "    Args:\n",
    "        X - the feature vector, 2D numpy array of size (num_instances, num_features)\n",
    "        y - the label vector, 1D numpy array of size (num_instances)\n",
    "        theta - the parameter vector, 1D numpy array of size (num_features)\n",
    "        epsilon - the epsilon used in approximation\n",
    "        tolerance - the tolerance error\n",
    "    \n",
    "    Return:\n",
    "        A boolean value indicate whether the gradient is correct or not\n",
    "\n",
    "    \"\"\"\n",
    "    true_gradient = compute_square_loss_gradient(X, y, theta) #the true gradient\n",
    "    num_features = theta.shape[0]\n",
    "    approx_grad = np.zeros(num_features) #Initialize the gradient we approximate\n",
    "    #TODO\n",
    "    eps_matrix = np.diag(np.ones(num_features))\n",
    "    print (eps_matrix)\n",
    "    for i in range(num_features):\n",
    "        print(eps_matrix[i])\n",
    "        J_diff_i = compute_square_loss(X, y, theta+epsilon*eps_matrix[i])-compute_square_loss(X, y, theta-epsilon*eps_matrix[i])\n",
    "        grad_i = J_diff_i/(2*epsilon)\n",
    "        approx_grad[i] = grad_i\n",
    "    \n",
    "    sum_square=np.sum((true_gradient-approx_grad)**2)\n",
    "    eclid = np.sqrt(sum_square)\n",
    "    if eclid<=tolerance:\n",
    "        return True\n",
    "    else:\n",
    "        return False"
   ]
  },
  {
   "cell_type": "code",
   "execution_count": 12,
   "metadata": {
    "collapsed": false
   },
   "outputs": [
    {
     "name": "stdout",
     "output_type": "stream",
     "text": [
      "[[ 1.  0.  0.]\n",
      " [ 0.  1.  0.]\n",
      " [ 0.  0.  1.]]\n",
      "[ 1.  0.  0.]\n",
      "[ 0.  1.  0.]\n",
      "[ 0.  0.  1.]\n"
     ]
    },
    {
     "data": {
      "text/plain": [
       "True"
      ]
     },
     "execution_count": 12,
     "metadata": {},
     "output_type": "execute_result"
    }
   ],
   "source": [
    "grad_checker(X, y, theta, epsilon=0.01, tolerance=1e-4)"
   ]
  },
  {
   "cell_type": "markdown",
   "metadata": {},
   "source": [
    "# Question 2.4"
   ]
  },
  {
   "cell_type": "code",
   "execution_count": 13,
   "metadata": {
    "collapsed": false
   },
   "outputs": [
    {
     "name": "stdout",
     "output_type": "stream",
     "text": [
      "loading the dataset\n",
      "Split into Train and Test\n",
      "(100, 48)\n",
      "Scaling all to [0, 1]\n",
      "(100, 48)\n"
     ]
    }
   ],
   "source": [
    "from sklearn.model_selection import train_test_split\n",
    "import pandas as pd\n",
    "\n",
    "print('loading the dataset')\n",
    "df = pd.read_csv('D:\\Spring_2017\\machine learning\\homework\\hw1\\hw1-sgd\\hw1-data.csv', delimiter=',')\n",
    "X = df.values[:,:-1]\n",
    "y = df.values[:,-1]\n",
    "\n",
    "print('Split into Train and Test')\n",
    "X_train, X_test, y_train, y_test = train_test_split(X, y, test_size =100, random_state=10)\n",
    "print(X_train.shape)\n",
    "print(\"Scaling all to [0, 1]\")\n",
    "X_train, X_test = feature_normalization(X_train, X_test)\n",
    "print(X_train.shape)\n",
    "X_train = np.hstack((X_train, np.ones((X_train.shape[0], 1))))  # Add bias term\n",
    "X_test = np.hstack((X_test, np.ones((X_test.shape[0], 1)))) # Add bias term\n",
    "\n",
    "####################################\n",
    "#### Batch Gradient Descent\n",
    "def batch_grad_descent(X, y, alpha=0.1, num_iter=1000, check_gradient=False):\n",
    "    num_instances, num_features = X.shape[0], X.shape[1]\n",
    "    theta_hist = np.zeros((num_iter+1, num_features))  #Initialize theta_hist\n",
    "    loss_hist = np.zeros(num_iter+1) #initialize loss_hist\n",
    "    theta = np.ones(num_features) #initialize theta\n",
    "    #TODO\n",
    "    theta_hist[0] = theta\n",
    "    loss_hist[0] = compute_square_loss(X, y, theta_hist[0])\n",
    "    #print(theta_hist[0])\n",
    "    for i in range(1,num_iter+1):\n",
    "        theta_hist[i] = theta_hist[i-1]-alpha*compute_square_loss_gradient(X, y, theta_hist[i-1])\n",
    "        #print(theta_hist[i])\n",
    "        loss_hist[i] = compute_square_loss(X, y, theta_hist[i])\n",
    "    return theta_hist, loss_hist"
   ]
  },
  {
   "cell_type": "code",
   "execution_count": 14,
   "metadata": {
    "collapsed": false
   },
   "outputs": [
    {
     "data": {
      "image/png": "[encoded data removed]",
      "text/plain": [
       "<matplotlib.figure.Figure at 0x22a8be41198>"
      ]
     },
     "metadata": {},
     "output_type": "display_data"
    }
   ],
   "source": [
    "import matplotlib.pyplot as plt\n",
    "a1, b1 = batch_grad_descent(X_train, y_train, alpha=0.5, num_iter=1000, check_gradient=False)\n",
    "a2, b2 = batch_grad_descent(X_train, y_train, alpha=0.1, num_iter=1000, check_gradient=False)\n",
    "a3, b3 = batch_grad_descent(X_train, y_train, alpha=0.05, num_iter=1000, check_gradient=False)\n",
    "a4, b4 = batch_grad_descent(X_train, y_train, alpha=0.01, num_iter=1000, check_gradient=False)\n",
    "x = list(range(100))\n",
    "plt.plot(x, b2[0:100])\n",
    "plt.plot(x, b3[0:100])\n",
    "plt.plot(x, b4[0:100])\n",
    "plt.legend(['alpha=0.1', 'alpha=0.05', 'alpha=0.01'], loc='upper right')\n",
    "plt.show()\n"
   ]
  },
  {
   "cell_type": "code",
   "execution_count": 15,
   "metadata": {
    "collapsed": false
   },
   "outputs": [
    {
     "data": {
      "image/png": "[encoded data removed]",
      "text/plain": [
       "<matplotlib.figure.Figure at 0x22a8be2ec88>"
      ]
     },
     "metadata": {},
     "output_type": "display_data"
    }
   ],
   "source": [
    "plt.plot(x, b1[0:100])\n",
    "plt.legend(['alpha=0.5'], loc='upper right')\n",
    "plt.show()"
   ]
  },
  {
   "cell_type": "markdown",
   "metadata": {},
   "source": [
    "### 2.4.2\n",
    "From the plot above we can conclude that when alpha is 0.05, it converges the fastest, when alpha is 0.1, it converges the slowest. When alpha is 0.5, it diverges."
   ]
  },
  {
   "cell_type": "markdown",
   "metadata": {},
   "source": [
    "#  Question 2.5\n",
    "## 2.5.1\n",
    "### The gradient of J\n",
    "\n",
    "### $\\nabla J(\\theta) = \\frac{1}{m}\\cdot X^T \\cdot (X \\cdot \\theta - y) +2 \\lambda \\theta$\n",
    "\n",
    "## Updating $\\theta: \\theta - step \\cdot \\nabla J(\\theta)$"
   ]
  },
  {
   "cell_type": "markdown",
   "metadata": {},
   "source": [
    "## 2.5.2"
   ]
  },
  {
   "cell_type": "code",
   "execution_count": 16,
   "metadata": {
    "collapsed": true
   },
   "outputs": [],
   "source": [
    "###################################################\n",
    "### Compute the gradient of Regularized Batch Gradient Descent\n",
    "def compute_regularized_square_loss_gradient(X, y, theta, lambda_reg):\n",
    "    \"\"\"\n",
    "    Compute the gradient of L2-regularized square loss function given X, y and theta\n",
    "    \n",
    "    Args:\n",
    "        X - the feature vector, 2D numpy array of size (num_instances, num_features)\n",
    "        y - the label vector, 1D numpy array of size (num_instances)\n",
    "        theta - the parameter vector, 1D numpy array of size (num_features)\n",
    "        lambda_reg - the regularization coefficient\n",
    "    \n",
    "    Returns:\n",
    "        grad - gradient vector, 1D numpy array of size (num_features)\n",
    "    \"\"\"\n",
    "    #TODO\n",
    "    grad = np.zeros(X.shape[1])\n",
    "    grad = np.dot(X.T,np.dot(X,theta)-y)/X.shape[0] + 2*lambda_reg*theta\n",
    "    return grad"
   ]
  },
  {
   "cell_type": "code",
   "execution_count": 17,
   "metadata": {
    "collapsed": false
   },
   "outputs": [
    {
     "ename": "ValueError",
     "evalue": "shapes (200,48) and (3,) not aligned: 48 (dim 1) != 3 (dim 0)",
     "output_type": "error",
     "traceback": [
      "\u001b[0;31m---------------------------------------------------------------------------\u001b[0m",
      "\u001b[0;31mValueError\u001b[0m                                Traceback (most recent call last)",
      "\u001b[0;32m<ipython-input-17-30ee6700a729>\u001b[0m in \u001b[0;36m<module>\u001b[0;34m()\u001b[0m\n\u001b[0;32m----> 1\u001b[0;31m \u001b[0mcompute_regularized_square_loss_gradient\u001b[0m\u001b[1;33m(\u001b[0m\u001b[0mX\u001b[0m\u001b[1;33m,\u001b[0m \u001b[0my\u001b[0m\u001b[1;33m,\u001b[0m \u001b[0mtheta\u001b[0m\u001b[1;33m,\u001b[0m \u001b[0mlambda_reg\u001b[0m\u001b[1;33m=\u001b[0m\u001b[1;36m0.1\u001b[0m\u001b[1;33m)\u001b[0m\u001b[1;33m\u001b[0m\u001b[0m\n\u001b[0m",
      "\u001b[0;32m<ipython-input-16-a2b0db466747>\u001b[0m in \u001b[0;36mcompute_regularized_square_loss_gradient\u001b[0;34m(X, y, theta, lambda_reg)\u001b[0m\n\u001b[1;32m     16\u001b[0m     \u001b[1;31m#TODO\u001b[0m\u001b[1;33m\u001b[0m\u001b[1;33m\u001b[0m\u001b[0m\n\u001b[1;32m     17\u001b[0m     \u001b[0mgrad\u001b[0m \u001b[1;33m=\u001b[0m \u001b[0mnp\u001b[0m\u001b[1;33m.\u001b[0m\u001b[0mzeros\u001b[0m\u001b[1;33m(\u001b[0m\u001b[0mX\u001b[0m\u001b[1;33m.\u001b[0m\u001b[0mshape\u001b[0m\u001b[1;33m[\u001b[0m\u001b[1;36m1\u001b[0m\u001b[1;33m]\u001b[0m\u001b[1;33m)\u001b[0m\u001b[1;33m\u001b[0m\u001b[0m\n\u001b[0;32m---> 18\u001b[0;31m     \u001b[0mgrad\u001b[0m \u001b[1;33m=\u001b[0m \u001b[0mnp\u001b[0m\u001b[1;33m.\u001b[0m\u001b[0mdot\u001b[0m\u001b[1;33m(\u001b[0m\u001b[0mX\u001b[0m\u001b[1;33m.\u001b[0m\u001b[0mT\u001b[0m\u001b[1;33m,\u001b[0m\u001b[0mnp\u001b[0m\u001b[1;33m.\u001b[0m\u001b[0mdot\u001b[0m\u001b[1;33m(\u001b[0m\u001b[0mX\u001b[0m\u001b[1;33m,\u001b[0m\u001b[0mtheta\u001b[0m\u001b[1;33m)\u001b[0m\u001b[1;33m-\u001b[0m\u001b[0my\u001b[0m\u001b[1;33m)\u001b[0m\u001b[1;33m/\u001b[0m\u001b[0mX\u001b[0m\u001b[1;33m.\u001b[0m\u001b[0mshape\u001b[0m\u001b[1;33m[\u001b[0m\u001b[1;36m0\u001b[0m\u001b[1;33m]\u001b[0m \u001b[1;33m+\u001b[0m \u001b[1;36m2\u001b[0m\u001b[1;33m*\u001b[0m\u001b[0mlambda_reg\u001b[0m\u001b[1;33m*\u001b[0m\u001b[0mtheta\u001b[0m\u001b[1;33m\u001b[0m\u001b[0m\n\u001b[0m\u001b[1;32m     19\u001b[0m     \u001b[1;32mreturn\u001b[0m \u001b[0mgrad\u001b[0m\u001b[1;33m\u001b[0m\u001b[0m\n",
      "\u001b[0;31mValueError\u001b[0m: shapes (200,48) and (3,) not aligned: 48 (dim 1) != 3 (dim 0)"
     ]
    }
   ],
   "source": [
    "compute_regularized_square_loss_gradient(X, y, theta, lambda_reg=0.1)"
   ]
  },
  {
   "cell_type": "code",
   "execution_count": 18,
   "metadata": {
    "collapsed": false
   },
   "outputs": [],
   "source": [
    "###################################################\n",
    "### Batch Gradient Descent with regularization term\n",
    "def regularized_grad_descent(X, y, alpha=0.1, lambda_reg=1, num_iter=1000):\n",
    "    \"\"\"\n",
    "    Args:\n",
    "        X - the feature vector, 2D numpy array of size (num_instances, num_features)\n",
    "        y - the label vector, 1D numpy array of size (num_instances)\n",
    "        alpha - step size in gradient descent\n",
    "        lambda_reg - the regularization coefficient\n",
    "        numIter - number of iterations to run \n",
    "        \n",
    "    Returns:\n",
    "        theta_hist - the history of parameter vector, 2D numpy array of size (num_iter+1, num_features) \n",
    "        loss_hist - the history of regularized loss value, 1D numpy array\n",
    "    \"\"\"\n",
    "    (num_instances, num_features) = X.shape\n",
    "    theta = np.ones(num_features) #Initialize theta\n",
    "    theta_hist = np.zeros((num_iter+1, num_features))  #Initialize theta_hist\n",
    "    loss_hist = np.zeros(num_iter+1) #Initialize loss_hist\n",
    "    #TODO\n",
    "    theta_hist[0] = theta\n",
    "    loss_hist[0] = compute_square_loss(X, y, theta_hist[0])\n",
    "    #print(theta_hist[0])\n",
    "    for i in range(1,num_iter+1):\n",
    "        theta_hist[i] = theta_hist[i-1]-alpha*compute_regularized_square_loss_gradient(X, y, theta_hist[i-1], lambda_reg)\n",
    "        #print(theta_hist[i])\n",
    "        loss_hist[i] = compute_square_loss(X, y, theta_hist[i])\n",
    "    return theta_hist, loss_hist"
   ]
  },
  {
   "cell_type": "markdown",
   "metadata": {},
   "source": [
    "## 2.5.4"
   ]
  },
  {
   "cell_type": "markdown",
   "metadata": {},
   "source": [
    "### When the B is very big, the corresponding coefficient $\\theta_0$ will be very small, which means in the regularization term $\\lambda \\theta^T \\theta$, the bias term's coefficient $\\theta_0$ will have a fairly small weight and will be regularized less. So a bigger bias term will decrease the regularization on bias term.\n",
    "\n",
    "### To increase the regularization, we can make B larger, to decrease, make it smaller."
   ]
  },
  {
   "cell_type": "markdown",
   "metadata": {},
   "source": [
    "## 2.5.7"
   ]
  },
  {
   "cell_type": "code",
   "execution_count": 19,
   "metadata": {
    "collapsed": false
   },
   "outputs": [],
   "source": [
    "# train the model with training data\n",
    "loss_train=[]\n",
    "theta_train=[]\n",
    "labda = [10**(-7),10**(-5),10**(-3),0.1,1,10]\n",
    "for l in labda:\n",
    "    theta, loss = regularized_grad_descent(X_train, y_train, alpha=0.05, lambda_reg=l, num_iter=1000)\n",
    "    index = np.argmin(loss)\n",
    "    loss_train.append(loss[index])\n",
    "    theta_train.append(theta[index])\n"
   ]
  },
  {
   "cell_type": "code",
   "execution_count": 20,
   "metadata": {
    "collapsed": false
   },
   "outputs": [],
   "source": [
    "# fit the model with testing data\n",
    "loss_test=[]\n",
    "for i in range(len(loss_train)):\n",
    "    loss_test.append(compute_square_loss(X_test, y_test, theta_train[i]))"
   ]
  },
  {
   "cell_type": "code",
   "execution_count": 21,
   "metadata": {
    "collapsed": false
   },
   "outputs": [
    {
     "data": {
      "image/png": "[encoded data removed]",
      "text/plain": [
       "<matplotlib.figure.Figure at 0x22a8c4a5f28>"
      ]
     },
     "metadata": {},
     "output_type": "display_data"
    }
   ],
   "source": [
    "# plot the loss line for training data and testing data\n",
    "x = np.log10(labda)\n",
    "plt.plot(x,loss_train)\n",
    "plt.plot(x,loss_test)\n",
    "\n",
    "plt.legend(['train data','test data'],loc = 'upper right')\n",
    "plt.show()"
   ]
  },
  {
   "cell_type": "code",
   "execution_count": 22,
   "metadata": {
    "collapsed": false
   },
   "outputs": [
    {
     "data": {
      "image/png": "[encoded data removed]",
      "text/plain": [
       "<matplotlib.figure.Figure at 0x22a8c4bb390>"
      ]
     },
     "metadata": {},
     "output_type": "display_data"
    }
   ],
   "source": [
    "# Zoom in\n",
    "loss_train=[]\n",
    "theta_train=[]\n",
    "loss_test=[]\n",
    "labda = np.linspace(10**(-2.5),10**(-1.5),100)\n",
    "for l in labda:\n",
    "    theta, loss = regularized_grad_descent(X_train, y_train, alpha=0.05, lambda_reg=l, num_iter=1000)\n",
    "    index = np.argmin(loss)\n",
    "    loss_train.append(loss[index])\n",
    "    theta_train.append(theta[index])\n",
    "\n",
    "for i in range(len(loss_train)):\n",
    "    loss_test.append(compute_square_loss(X_test, y_test, theta_train[i]))\n",
    "# plot the loss line for training data and testing data\n",
    "x = np.log10(labda)\n",
    "plt.plot(x,loss_train)\n",
    "plt.plot(x,loss_test)\n",
    "\n",
    "plt.legend(['train data','test data'],loc = 'upper right')\n",
    "plt.show()"
   ]
  },
  {
   "cell_type": "markdown",
   "metadata": {},
   "source": [
    "## 2.5.8"
   ]
  },
  {
   "cell_type": "code",
   "execution_count": 23,
   "metadata": {
    "collapsed": false
   },
   "outputs": [
    {
     "name": "stdout",
     "output_type": "stream",
     "text": [
      "lambda is\n",
      "0.0109242319169\n"
     ]
    },
    {
     "data": {
      "text/plain": [
       "array([-1.13486579,  0.48819189,  1.32880538,  2.13057542, -1.59931905,\n",
       "       -0.76335578, -0.75811346, -0.75811346,  0.66510935,  1.31825504,\n",
       "        2.1992773 , -0.38022849, -1.32726952, -3.59177059,  1.37342122,\n",
       "        2.18495616,  1.23304391,  0.44782804, -0.05353292, -0.05353292,\n",
       "       -0.05353292, -0.02223223, -0.02223223, -0.02223223,  0.00858276,\n",
       "        0.00858276,  0.00858276,  0.02357895,  0.02357895,  0.02357895,\n",
       "        0.03212721,  0.03212721,  0.03212721, -0.03246195, -0.03246195,\n",
       "       -0.03246195,  0.09395789,  0.09395789,  0.09395789,  0.07671455,\n",
       "        0.07671455,  0.07671455,  0.06890258,  0.06890258,  0.06890258,\n",
       "        0.06461809,  0.06461809,  0.06461809, -1.20923954])"
      ]
     },
     "execution_count": 23,
     "metadata": {},
     "output_type": "execute_result"
    }
   ],
   "source": [
    "# Find the best theta\n",
    "print(\"lambda is\")\n",
    "print(labda[np.argmin(loss_test)])\n",
    "theta_train[np.argmin(loss_test)]"
   ]
  },
  {
   "cell_type": "markdown",
   "metadata": {},
   "source": [
    "### The result above is the $\\theta$ we choose, which is the $\\theta$ corresponding to the smallest loss when applied the model with testing data."
   ]
  },
  {
   "cell_type": "markdown",
   "metadata": {},
   "source": [
    "# Question 2.6"
   ]
  },
  {
   "cell_type": "markdown",
   "metadata": {},
   "source": [
    "## 2.6.1\n",
    "### When using SGD, $J(\\theta) = 0.5\\cdot (h_\\theta(X_i)-y_i)^2+\\lambda\\theta^T*\\theta$\n",
    "### $\\nabla J(\\theta) = h_\\theta(X_i-y_i)+2\\lambda\\theta$\n",
    "### $= x_i^T\\cdot(x_i\\cdot\\theta-y_i)+2\\lambda\\theta$\n",
    "### So the updated $\\theta$ is \n",
    "### $\\theta = \\theta-\\eta\\cdot\\nabla J(\\theta)=\\theta = \\theta-\\eta \\cdot x_i^T\\cdot(x_i\\cdot\\theta-y_i)+2\\lambda\\theta)$"
   ]
  },
  {
   "cell_type": "markdown",
   "metadata": {},
   "source": [
    "## 2.6.2"
   ]
  },
  {
   "cell_type": "code",
   "execution_count": 24,
   "metadata": {
    "collapsed": false
   },
   "outputs": [],
   "source": [
    "#############################################\n",
    "### Stochastic Gradient Descent\n",
    "def stochastic_grad_descent(X, y, alpha=0.1, lambda_reg=1, num_iter=1000):\n",
    "    \"\"\"\n",
    "    In this question you will implement stochastic gradient descent with a regularization term\n",
    "    \n",
    "    Args:\n",
    "        X - the feature vector, 2D numpy array of size (num_instances, num_features)\n",
    "        y - the label vector, 1D numpy array of size (num_instances)\n",
    "        alpha - string or float. step size in gradient descent\n",
    "                NOTE: In SGD, it's not always a good idea to use a fixed step size. Usually it's set to 1/sqrt(t) or 1/t\n",
    "                if alpha is a float, then the step size in every iteration is alpha.\n",
    "                if alpha == \"1/sqrt(t)\", alpha = 1/sqrt(t)\n",
    "                if alpha == \"1/t\", alpha = 1/t\n",
    "        lambda_reg - the regularization coefficient\n",
    "        num_iter - number of epochs (i.e number of times) to go through the whole training set\n",
    "    \n",
    "    Returns:\n",
    "        theta_hist - the history of parameter vector, 3D numpy array of size (num_iter, num_instances, num_features) \n",
    "        loss hist - the history of regularized loss function vector, 2D numpy array of size(num_iter, num_instances)\n",
    "    \"\"\"\n",
    "    num_instances, num_features = X.shape[0], X.shape[1]\n",
    "    theta = np.ones(num_features) #Initialize theta\n",
    "    theta_hist = np.zeros((num_iter, num_instances, num_features))  #Initialize theta_hist\n",
    "    loss_hist = np.zeros((num_iter, num_instances)) #Initialize loss_hist\n",
    "    \n",
    "    #TODO \n",
    "    #shuffle the data\n",
    "    time_hist = np.zeros(num_iter)\n",
    "    arr = np.arange(num_instances) \n",
    "    t=1\n",
    "    for iteration_index in range(num_iter):\n",
    "        np.random.shuffle(arr)\n",
    "        for i in range(num_instances):\n",
    "            # set the step\n",
    "            theta_hist[iteration_index][i] = theta\n",
    "            loss = compute_square_loss(X, y, theta)\n",
    "            loss_hist[iteration_index][i] = loss\n",
    "            if isinstance(alpha, float):\n",
    "                alpha_f = alpha\n",
    "            elif alpha == '1/sqrt(t)':\n",
    "                alpha_f = 0.01/(t**(0.5))\n",
    "            elif alpha == '1/t':\n",
    "                alpha_f = 0.1*1/(t)\n",
    "            theta = theta - alpha_f * compute_regularized_square_loss_gradient(X[[arr[i]],:], y[arr[i]], theta, lambda_reg)\n",
    "            t=t+1\n",
    "    return theta_hist, loss_hist"
   ]
  },
  {
   "cell_type": "markdown",
   "metadata": {},
   "source": [
    "## 2.63"
   ]
  },
  {
   "cell_type": "code",
   "execution_count": 43,
   "metadata": {
    "collapsed": false
   },
   "outputs": [
    {
     "name": "stdout",
     "output_type": "stream",
     "text": [
      "the best theta for alpha= -1e-05  is: \n",
      "[ 1.  1.  1.  1.  1.  1.  1.  1.  1.  1.  1.  1.  1.  1.  1.  1.  1.  1.\n",
      "  1.  1.  1.  1.  1.  1.  1.  1.  1.  1.  1.  1.  1.  1.  1.  1.  1.  1.\n",
      "  1.  1.  1.  1.  1.  1.  1.  1.  1.  1.  1.  1.  1.]\n"
     ]
    },
    {
     "name": "stderr",
     "output_type": "stream",
     "text": [
      "C:\\Users\\liuyt\\Anaconda3\\lib\\site-packages\\ipykernel\\__main__.py:5: VisibleDeprecationWarning: using a non-integer number instead of an integer will result in an error in the future\n"
     ]
    },
    {
     "name": "stdout",
     "output_type": "stream",
     "text": [
      "the best theta for alpha= 5e-05  is: \n",
      "[-0.28828415 -0.22377508 -0.17837446 -0.16101414 -0.204626   -0.1870703\n",
      " -0.1552813  -0.1552813  -0.09267643 -0.00336543  0.06582126  0.06747731\n",
      "  0.14207239  0.21217238  0.52817704  0.58840518  0.69942744  0.92971216\n",
      " -0.13790456 -0.13790456 -0.13790456 -0.07548706 -0.07548706 -0.07548706\n",
      " -0.00375674 -0.00375674 -0.00375674  0.02962012  0.02962012  0.02962012\n",
      "  0.04818355  0.04818355  0.04818355  0.34815834  0.34815834  0.34815834\n",
      "  0.24023001  0.24023001  0.24023001  0.17711051  0.17711051  0.17711051\n",
      "  0.14847514  0.14847514  0.14847514  0.13277113  0.13277113  0.13277113\n",
      " -0.30868842]\n",
      "the best theta for alpha= 0.0001  is: \n",
      "[-0.29257315 -0.23607951 -0.19451913 -0.17763665 -0.20796805 -0.18962447\n",
      " -0.15557115 -0.15557115 -0.09557312 -0.00600496  0.06601172  0.07776648\n",
      "  0.16524842  0.24181837  0.53780475  0.59480807  0.70511832  0.93378862\n",
      " -0.14354022 -0.14354022 -0.14354022 -0.07733872 -0.07733872 -0.07733872\n",
      " -0.00408635 -0.00408635 -0.00408635  0.02998016  0.02998016  0.02998016\n",
      "  0.0489213   0.0489213   0.0489213   0.35756271  0.35756271  0.35756271\n",
      "  0.24583572  0.24583572  0.24583572  0.18102076  0.18102076  0.18102076\n",
      "  0.15161003  0.15161003  0.15161003  0.13547889  0.13547889  0.13547889\n",
      " -0.31059231]\n",
      "the best theta for alpha= 0.0005  is: \n",
      "[-0.30666888 -0.28232553 -0.25568941 -0.24020301 -0.21543571 -0.19310789\n",
      " -0.14859393 -0.14859393 -0.09817534 -0.00600752  0.07862941  0.13175047\n",
      "  0.27182392  0.37393766  0.58631758  0.62955969  0.73466744  0.95145246\n",
      " -0.16053333 -0.16053333 -0.16053333 -0.07757852 -0.07757852 -0.07757852\n",
      "  0.00197565  0.00197565  0.00197565  0.03888999  0.03888999  0.03888999\n",
      "  0.05938841  0.05938841  0.05938841  0.40422292  0.40422292  0.40422292\n",
      "  0.27689499  0.27689499  0.27689499  0.20487262  0.20487262  0.20487262\n",
      "  0.17216091  0.17216091  0.17216091  0.1542098   0.1542098   0.1542098\n",
      " -0.31504635]\n",
      "the best theta for alpha= 0.05  is: \n",
      "[-0.28828415 -0.22377508 -0.17837446 -0.16101414 -0.204626   -0.1870703\n",
      " -0.1552813  -0.1552813  -0.09267643 -0.00336543  0.06582126  0.06747731\n",
      "  0.14207239  0.21217238  0.52817704  0.58840518  0.69942744  0.92971216\n",
      " -0.13790456 -0.13790456 -0.13790456 -0.07548706 -0.07548706 -0.07548706\n",
      " -0.00375674 -0.00375674 -0.00375674  0.02962012  0.02962012  0.02962012\n",
      "  0.04818355  0.04818355  0.04818355  0.34815834  0.34815834  0.34815834\n",
      "  0.24023001  0.24023001  0.24023001  0.17711051  0.17711051  0.17711051\n",
      "  0.14847514  0.14847514  0.14847514  0.13277113  0.13277113  0.13277113\n",
      " -0.30868842]\n"
     ]
    },
    {
     "data": {
      "image/png": "[encoded data removed]",
      "text/plain": [
       "<matplotlib.figure.Figure at 0x22a8e51cfd0>"
      ]
     },
     "metadata": {},
     "output_type": "display_data"
    }
   ],
   "source": [
    "def plotSGD(X_train, y_train, alpha, lambda_reg=0.0109242319169, num_iter=70):\n",
    "    list=[]\n",
    "    theta_hist, loss_hist = stochastic_grad_descent(X_train, y_train, alpha=alpha, lambda_reg=1, num_iter=num_iter)\n",
    "    print(\"the best theta for alpha=\", str(alpha), \" is: \")\n",
    "    print(theta[np.argmin(loss_hist)/1000][:])\n",
    "    list = np.amin(loss_hist,axis=1)\n",
    "    plt.plot(range(num_iter),np.log(list),label=\"alpha=\"+str(alpha))\n",
    "    plt.set_ylim = ([0,7])\n",
    "    plt.legend(loc = \"upper right\")\n",
    "    \n",
    "a_list = [-10**(-5),5*10**(-5),10**(-4),5*10**(-4),0.05]\n",
    "for a in a_list:\n",
    "    plotSGD(X_train, y_train, alpha=a, lambda_reg=0.0109242319169, num_iter=70)\n",
    "plt.show()"
   ]
  },
  {
   "cell_type": "markdown",
   "metadata": {},
   "source": [
    "### It's clear that when using fixed steps, incresae the value of alpha will speed up the converging process, however, when the alpha is too big or alpha is less than 0, like alpha = 0.05, -0.00001 in the plot, it will diverge."
   ]
  },
  {
   "cell_type": "code",
   "execution_count": 37,
   "metadata": {
    "collapsed": false
   },
   "outputs": [
    {
     "name": "stdout",
     "output_type": "stream",
     "text": [
      "the best theta for alpha= 1/t  is: \n",
      "[-0.27883536 -0.19032998 -0.13314161 -0.11403601 -0.1962912  -0.18058206\n",
      " -0.15468407 -0.15468407 -0.08365182  0.00605239  0.06778039  0.03993475\n",
      "  0.07708471  0.1280508   0.50294127  0.57253938  0.68487716  0.91802577\n",
      " -0.12265469 -0.12265469 -0.12265469 -0.07040784 -0.07040784 -0.07040784\n",
      " -0.00281553 -0.00281553 -0.00281553  0.02868586  0.02868586  0.02868586\n",
      "  0.04622196  0.04622196  0.04622196  0.32238242  0.32238242  0.32238242\n",
      "  0.22511236  0.22511236  0.22511236  0.16657134  0.16657134  0.16657134\n",
      "  0.14002824  0.14002824  0.14002824  0.12547631  0.12547631  0.12547631\n",
      " -0.3063401 ]\n"
     ]
    },
    {
     "name": "stderr",
     "output_type": "stream",
     "text": [
      "C:\\Users\\liuyt\\Anaconda3\\lib\\site-packages\\ipykernel\\__main__.py:5: VisibleDeprecationWarning: using a non-integer number instead of an integer will result in an error in the future\n"
     ]
    },
    {
     "data": {
      "image/png": "[encoded data removed]",
      "text/plain": [
       "<matplotlib.figure.Figure at 0x22a8f4ff7b8>"
      ]
     },
     "metadata": {},
     "output_type": "display_data"
    }
   ],
   "source": [
    "plotSGD(X_train, y_train, alpha='1/t', lambda_reg=0.0109242319169, num_iter=100)\n",
    "plt.show()"
   ]
  },
  {
   "cell_type": "markdown",
   "metadata": {},
   "source": [
    "When using 1/sqrt(t), it's also converges, the speed is slower than 1/t"
   ]
  },
  {
   "cell_type": "code",
   "execution_count": 45,
   "metadata": {
    "collapsed": false
   },
   "outputs": [
    {
     "name": "stdout",
     "output_type": "stream",
     "text": [
      "the best theta for alpha= 1/sqrt(t)  is: \n",
      "[-0.30666888 -0.28232553 -0.25568941 -0.24020301 -0.21543571 -0.19310789\n",
      " -0.14859393 -0.14859393 -0.09817534 -0.00600752  0.07862941  0.13175047\n",
      "  0.27182392  0.37393766  0.58631758  0.62955969  0.73466744  0.95145246\n",
      " -0.16053333 -0.16053333 -0.16053333 -0.07757852 -0.07757852 -0.07757852\n",
      "  0.00197565  0.00197565  0.00197565  0.03888999  0.03888999  0.03888999\n",
      "  0.05938841  0.05938841  0.05938841  0.40422292  0.40422292  0.40422292\n",
      "  0.27689499  0.27689499  0.27689499  0.20487262  0.20487262  0.20487262\n",
      "  0.17216091  0.17216091  0.17216091  0.1542098   0.1542098   0.1542098\n",
      " -0.31504635]\n"
     ]
    },
    {
     "name": "stderr",
     "output_type": "stream",
     "text": [
      "C:\\Users\\liuyt\\Anaconda3\\lib\\site-packages\\ipykernel\\__main__.py:5: VisibleDeprecationWarning: using a non-integer number instead of an integer will result in an error in the future\n"
     ]
    },
    {
     "data": {
      "image/png": "[encoded data removed]",
      "text/plain": [
       "<matplotlib.figure.Figure at 0x22a8f515ac8>"
      ]
     },
     "metadata": {},
     "output_type": "display_data"
    }
   ],
   "source": [
    "plotSGD(X_train, y_train, alpha='1/sqrt(t)', lambda_reg=0.0109242319169, num_iter=200)\n",
    "plt.show()"
   ]
  },
  {
   "cell_type": "markdown",
   "metadata": {},
   "source": [
    "When using 1/t, it's also converges, the speed is faster than 1/sqrt(t)"
   ]
  },
  {
   "cell_type": "markdown",
   "metadata": {},
   "source": [
    "## 2.64"
   ]
  },
  {
   "cell_type": "code",
   "execution_count": 265,
   "metadata": {
    "collapsed": true
   },
   "outputs": [],
   "source": [
    "import timeit\n",
    "import time\n",
    "def cal_time(X, y, alpha=0.1, lambda_reg=1, num_iter=1000):\n",
    "    num_instances, num_features = X.shape[0], X.shape[1]\n",
    "    theta = np.ones(num_features) #Initialize theta\n",
    "    theta_hist = np.zeros((num_iter, num_instances, num_features))  #Initialize theta_hist\n",
    "    loss_hist = np.zeros((num_iter, num_instances)) #Initialize loss_hist\n",
    "    #TODO\n",
    "    time_hist = np.zeros(num_iter)\n",
    "    index = np.arange(num_instances)\n",
    "    shuffled_index = np.random.shuffle(index)\n",
    "    for iteration_index in range(num_iter):\n",
    "        np.random.shuffle(arr)\n",
    "        start = time.time()\n",
    "        for i in range(num_instances):\n",
    "            # set the step\n",
    "            if isinstance(alpha, float):\n",
    "                alpha_f = alpha\n",
    "            elif alpha == \"1/sqrt(t)\":\n",
    "                alpha = 1/sqrt(i)\n",
    "            elif alpha == \"1/t\":\n",
    "                alpha = 1/i\n",
    "            theta_hist[iteration_index][i] = theta\n",
    "            loss = compute_square_loss(X, y, theta)\n",
    "            loss_hist[iteration_index][i] = loss\n",
    "            theta = theta - alpha_f * compute_regularized_square_loss_gradient(X[[index[i]],:], y[index[i]], theta, lambda_reg)\n",
    "        \n",
    "        stop=time.time()\n",
    "        time_hist[iteration_index] = stop-start\n",
    "\n",
    "    print(float(sum(time_hist)/len(time_hist)))\n",
    "    return"
   ]
  },
  {
   "cell_type": "code",
   "execution_count": 449,
   "metadata": {
    "collapsed": false
   },
   "outputs": [
    {
     "name": "stdout",
     "output_type": "stream",
     "text": [
      "0.003946572542190552\n"
     ]
    }
   ],
   "source": [
    "# calculate the average times for each step.\n",
    "cal_time(X_train, y_train, alpha=0.1, lambda_reg=1, num_iter=1000)"
   ]
  },
  {
   "cell_type": "markdown",
   "metadata": {},
   "source": [
    "## 2.6.5\n",
    "### When we want to minimize the optimization time, we will use SGD, when we want to minimize the numbers of epoches or steps, we will chose batch gradient descent. Since SGD only use one sample to approximate the gradient, compared to taking all the instances when using gradient descent method, SGD will be faster, but need more times of iterations though."
   ]
  },
  {
   "cell_type": "markdown",
   "metadata": {},
   "source": [
    "# Question 3\n",
    "## 3.1"
   ]
  },
  {
   "cell_type": "markdown",
   "metadata": {},
   "source": [
    "### (i) $\\ \\ \\ \\ E(a-y)^2\\\\\n",
    "= E[(a-E(y))^2+(E(y))^2+2(a-E(y)(E(y)-y))\\\\\n",
    "=E(a-E(y))^2+E(E(y)-y)^2+2E(a-E(y))(E(y)-y))$\n",
    "### The last term is 0 and $E(E(y)-y)^2$ is greater or equal than 0. So  $argmin_a E(a-y)^2 = E(y)$\n",
    "\n",
    "### (ii)\n",
    "### When $a = E(y)$ \n",
    "### $E(a-y)^2 \\\\\n",
    "=E(E(y)-E(y))^2+E(E(y)-y)^2 \\\\\n",
    "= E(E(y) - y)^2 \\\\\n",
    "=E(y^2) - (E(y))^2 \\\\\n",
    "=Var(y) \\\\\n",
    "$"
   ]
  },
  {
   "cell_type": "markdown",
   "metadata": {},
   "source": [
    "## 3.2"
   ]
  },
  {
   "cell_type": "markdown",
   "metadata": {},
   "source": [
    "### (a)\n",
    "### $R(f) = E(f(x)-y)^2 \\\\\n",
    "= E[E(f(x)-y)^2|x] \\\\\n",
    "= E[E(f(x)-E[y|x]+E[y|x]-y)^2|x] \\\\\n",
    "= E[E(f(x)-E(y|x)^2)|x + E(E(y|x)-y)^2|x] + 2E(E(f(x)-E(y|x))(E[y|x]-y)|x) \\\\\n",
    "= E(f(x)-E[y|x]^2) + E(E(y|x)-y)^2\n",
    "$ \n",
    "### So , R(f) is minimized when f=E[y|x], So f*=E[y|x]"
   ]
  },
  {
   "cell_type": "markdown",
   "metadata": {},
   "source": [
    "### (b)\n",
    "### $ R(f) = E(f(x)-E[y|x])^2 + E[E[y|x]-y]^2 $\n",
    "### So   \n",
    "### $R(f=f*) = E(E[y|x]-E[y|x])^2 + E(E[y|x]-y)^2 \\\\\n",
    "= E(E[y|x]-y)^2 $\n",
    "\n",
    "### So\n",
    "### $R(f)=E(f(x)-E[y|x])^2+R(f*)$\n",
    "### So\n",
    "### $R(f*)\\leq R(f)$ as $R(f) = E(f(x)-y)^2$\n",
    "### So\n",
    "### $E[(f*(x)-y)^2] \\leq E(f(x)-y)^2$"
   ]
  }
 ],
 "metadata": {
  "anaconda-cloud": {},
  "kernelspec": {
   "display_name": "Python [conda root]",
   "language": "python",
   "name": "conda-root-py"
  },
  "language_info": {
   "codemirror_mode": {
    "name": "ipython",
    "version": 3
   },
   "file_extension": ".py",
   "mimetype": "text/x-python",
   "name": "python",
   "nbconvert_exporter": "python",
   "pygments_lexer": "ipython3",
   "version": "3.5.2"
  }
 },
 "nbformat": 4,
 "nbformat_minor": 1
}
