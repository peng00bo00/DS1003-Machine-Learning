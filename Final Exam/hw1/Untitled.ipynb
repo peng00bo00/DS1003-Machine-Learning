{
 "cells": [
  {
   "cell_type": "code",
   "execution_count": 5,
   "metadata": {
    "collapsed": false
   },
   "outputs": [
    {
     "name": "stdout",
     "output_type": "stream",
     "text": [
      "loading the dataset\n",
      "Split into Train and Test\n",
      "(100, 48)\n",
      "Scaling all to [0, 1]\n",
      "(100, 48)\n"
     ]
    }
   ],
   "source": [
    "from sklearn.model_selection import train_test_split\n",
    "import pandas as pd\n",
    "\n",
    "print('loading the dataset')\n",
    "df = pd.read_csv('D:\\Spring_2017\\machine learning\\homework\\hw1\\hw1-sgd\\hw1-data.csv', delimiter=',')\n",
    "X = df.values[:,:-1]\n",
    "y = df.values[:,-1]\n",
    "\n",
    "print('Split into Train and Test')\n",
    "X_train, X_test, y_train, y_test = train_test_split(X, y, test_size =100, random_state=10)\n",
    "print(X_train.shape)\n",
    "print(\"Scaling all to [0, 1]\")\n",
    "X_train, X_test = feature_normalization(X_train, X_test)\n",
    "print(X_train.shape)\n",
    "X_train = np.hstack((X_train, np.ones((X_train.shape[0], 1))))  # Add bias term\n",
    "X_test = np.hstack((X_test, np.ones((X_test.shape[0], 1)))) # Add bias term"
   ]
  },
  {
   "cell_type": "code",
   "execution_count": 163,
   "metadata": {
    "collapsed": false
   },
   "outputs": [
    {
     "name": "stdout",
     "output_type": "stream",
     "text": [
      "(200, 48)\n",
      "(100, 49)\n"
     ]
    }
   ],
   "source": [
    "print(X.shape)\n",
    "print(X_train.shape)"
   ]
  },
  {
   "cell_type": "code",
   "execution_count": 4,
   "metadata": {
    "collapsed": false
   },
   "outputs": [],
   "source": [
    "import numpy as np\n",
    "def feature_normalization(train, test):\n",
    "    max_train = train.max(axis=0)\n",
    "    min_train = train.min(axis=0)\n",
    "    train_normalized = (train-min_train)/(max_train-min_train)\n",
    "    test_normalized = (test-min_train)/(max_train-min_train) \n",
    "    return train_normalized, test_normalized\n",
    "\n",
    "def compute_square_loss_gradient(X, y, theta):\n",
    "    grad = np.zeros(X.shape[1])\n",
    "    grad = np.dot(X.T,np.dot(X,theta)-y)/X.shape[0]\n",
    "    #for i in range(X.shape[1]):\n",
    "    #    grad[i]=sum((np.dot(X,theta)-y)*X[:,i])/X.shape[0]\n",
    "    return grad\n",
    "\n",
    "def compute_square_loss(X, y, theta):\n",
    "    loss = 0 #initialize the square_loss\n",
    "    residual = np.dot(X,theta)-y\n",
    "    residual2 = residual**2\n",
    "    loss = np.sum(residual2)/(2*X.shape[0])\n",
    "    return loss"
   ]
  },
  {
   "cell_type": "code",
   "execution_count": 6,
   "metadata": {
    "collapsed": false
   },
   "outputs": [],
   "source": [
    "####################################\n",
    "#### Batch Gradient Descent\n",
    "def batch_grad_descent(X, y, alpha=0.1, num_iter=1000, check_gradient=False):\n",
    "    num_instances, num_features = X.shape[0], X.shape[1]\n",
    "    theta_hist = np.zeros((num_iter+1, num_features))  #Initialize theta_hist\n",
    "    loss_hist = np.zeros(num_iter+1) #initialize loss_hist\n",
    "    theta = np.ones(num_features) #initialize theta\n",
    "    #TODO\n",
    "    theta_hist[0] = theta\n",
    "    loss_hist[0] = compute_square_loss(X, y, theta_hist[0])\n",
    "    #print(theta_hist[0])\n",
    "    for i in range(1,num_iter+1):\n",
    "        theta_hist[i] = theta_hist[i-1]-alpha*compute_square_loss_gradient(X, y, theta_hist[i-1])\n",
    "        #print(theta_hist[i])\n",
    "        loss_hist[i] = compute_square_loss(X, y, theta_hist[i])\n",
    "    return theta_hist, loss_hist"
   ]
  },
  {
   "cell_type": "code",
   "execution_count": 7,
   "metadata": {
    "collapsed": false
   },
   "outputs": [
    {
     "data": {
      "image/png": "[encoded data removed]",
      "text/plain": [
       "<matplotlib.figure.Figure at 0x21ccef4e2b0>"
      ]
     },
     "metadata": {},
     "output_type": "display_data"
    }
   ],
   "source": [
    "import matplotlib.pyplot as plt\n",
    "a1, b1 = batch_grad_descent(X_train, y_train, alpha=0.5, num_iter=1000, check_gradient=False)\n",
    "a2, b2 = batch_grad_descent(X_train, y_train, alpha=0.1, num_iter=1000, check_gradient=False)\n",
    "a3, b3 = batch_grad_descent(X_train, y_train, alpha=0.05, num_iter=1000, check_gradient=False)\n",
    "a4, b4 = batch_grad_descent(X_train, y_train, alpha=0.01, num_iter=1000, check_gradient=False)\n",
    "x = list(range(100))\n",
    "plt.plot(x, b2[0:100])\n",
    "plt.plot(x, b3[0:100])\n",
    "plt.plot(x, b4[0:100])\n",
    "plt.legend(['alpha=0.1', 'alpha=0.05', 'alpha=0.01'], loc='upper right')\n",
    "plt.show()\n"
   ]
  },
  {
   "cell_type": "code",
   "execution_count": 187,
   "metadata": {
    "collapsed": false
   },
   "outputs": [
    {
     "data": {
      "text/plain": [
       "array([  4.41434261e+02,   3.45797755e+04,   2.73516107e+06, ...,\n",
       "                    nan,              nan,              nan])"
      ]
     },
     "execution_count": 187,
     "metadata": {},
     "output_type": "execute_result"
    }
   ],
   "source": [
    "b1"
   ]
  }
 ],
 "metadata": {
  "anaconda-cloud": {},
  "kernelspec": {
   "display_name": "Python [conda root]",
   "language": "python",
   "name": "conda-root-py"
  },
  "language_info": {
   "codemirror_mode": {
    "name": "ipython",
    "version": 3
   },
   "file_extension": ".py",
   "mimetype": "text/x-python",
   "name": "python",
   "nbconvert_exporter": "python",
   "pygments_lexer": "ipython3",
   "version": "3.5.2"
  }
 },
 "nbformat": 4,
 "nbformat_minor": 1
}
