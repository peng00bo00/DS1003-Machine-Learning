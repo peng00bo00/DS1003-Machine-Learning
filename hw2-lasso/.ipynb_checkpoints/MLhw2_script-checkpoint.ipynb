{
 "cells": [
  {
   "cell_type": "code",
   "execution_count": 92,
   "metadata": {
    "collapsed": true
   },
   "outputs": [],
   "source": [
    "import numpy\n",
    "import numpy as np\n",
    "from numpy import linalg as LA"
   ]
  },
  {
   "cell_type": "markdown",
   "metadata": {},
   "source": [
    "**1.1 Dataset**"
   ]
  },
  {
   "cell_type": "code",
   "execution_count": 93,
   "metadata": {
    "collapsed": true
   },
   "outputs": [],
   "source": [
    "# Start by creating a design matrix for regression with m = 150 examples, each of dimension d = 75.\n",
    "# We will choose a true weight vector theta that has only a few non-zero components:\n",
    "\n",
    "# 1. Construct a random design matrix X \n",
    "X = numpy.random.rand(150,75)\n",
    "\n",
    "# 2. Construct a true weight vector theta. Set the first 10 component of theta to 10 or -10 arbitrarily and all the other components to zero.\n",
    "t = [-1,1]\n",
    "theta_1 = numpy.random.choice(t,10)*10\n",
    "theta_2 = numpy.zeros(65)\n",
    "theta = numpy.concatenate((theta_1,theta_2), axis=0)\n",
    "\n",
    "# 3. Construct a vector y = X theta + epsilon, where epsilon is a random noise vector\n",
    "epsilon = 0.1*numpy.random.randn(150)\n",
    "y = numpy.dot(X,theta)+epsilon\n",
    "\n",
    "# 4. Split the dataset by taking the first 80 points for training, the next 20 points for validation,\n",
    "# and the last 50 points for testing\n",
    "X_training = X[0:80,:]\n",
    "y_training = y[0:80]\n",
    "X_validation = X[80:100,:]\n",
    "y_validation = y[80:100]\n",
    "X_testing = X[100:150,:]\n",
    "y_testing = y[100:150]\n",
    "\n",
    "# 5. Save six files to local\n",
    "numpy.savetxt('X_train.txt', X_training) \n",
    "numpy.savetxt('y_train.txt', y_training) \n",
    "numpy.savetxt('X_valid.txt', X_validation)\n",
    "numpy.savetxt('y_valid.txt', y_validation) \n",
    "numpy.savetxt('X_test.txt', X_testing) \n",
    "numpy.savetxt('y_test.txt', y_testing) "
   ]
  },
  {
   "cell_type": "code",
   "execution_count": 94,
   "metadata": {
    "collapsed": false
   },
   "outputs": [
    {
     "data": {
      "text/plain": [
       "(150, 75)"
      ]
     },
     "execution_count": 94,
     "metadata": {},
     "output_type": "execute_result"
    }
   ],
   "source": [
    "X.shape"
   ]
  },
  {
   "cell_type": "markdown",
   "metadata": {
    "collapsed": true
   },
   "source": [
    "**2.Ridge Regression**"
   ]
  },
  {
   "cell_type": "code",
   "execution_count": 95,
   "metadata": {
    "collapsed": false
   },
   "outputs": [],
   "source": [
    "import numpy\n",
    "from scipy.optimize import minimize\n",
    "\n",
    "X_train = numpy.loadtxt(\"X_train.txt\")\n",
    "y_train = numpy.loadtxt(\"y_train.txt\")\n",
    "X_validation = numpy.loadtxt(\"X_valid.txt\")\n",
    "y_validation = numpy.loadtxt(\"y_valid.txt\")\n",
    "X_test = numpy.loadtxt(\"X_test.txt\")\n",
    "y_test = numpy.loadtxt(\"y_test.txt\")\n",
    "(N,D) = X.shape\n",
    "\n",
    "w = numpy.random.rand(D,1)\n",
    "def ridge(X, y, Lambda):\n",
    "  def ridge_obj(theta):\n",
    "    return ((numpy.linalg.norm(numpy.dot(X,theta) - y))**2)/(2*N) + Lambda*(numpy.linalg.norm(theta))**2\n",
    "  return ridge_obj\n",
    "\n",
    "def compute_loss(X, y, theta):\n",
    "  return ((numpy.linalg.norm(numpy.dot(X,theta) - y))**2)/(2*N)\n",
    "\n",
    "def find_best_lambda(X_train, y_train, X_validation, y_validation, tol=10**-3 ):\n",
    "    result = []\n",
    "    lambda_list = []\n",
    "    theta_list=[]\n",
    "    zero_count_list=[]\n",
    "    \n",
    "    #generate list of lambda, loss_result, zero_count(tol <)\n",
    "    for i in range(-10,4):\n",
    "      Lambda = 10**i;\n",
    "      w_opt = minimize(ridge(X_train, y_train, Lambda), w)\n",
    "      \n",
    "      theta_list.append(w_opt.x)\n",
    "      #zero_count of w_opt(theta_imitate)\n",
    "      \n",
    "      w_opt_greater_than_tol_tuple = np.where( abs(np.asarray(w_opt.x[0:10]))<=tol )+np.where(abs(np.asarray(w_opt.x[10:-1]>tol)))\n",
    "      zero_count = int(len(w_opt_greater_than_tol_tuple[0]))\n",
    "      zero_count_list.append(zero_count)\n",
    "      result.append(compute_loss(X_validation, y_validation, w_opt.x))\n",
    "      lambda_list.append(Lambda)\n",
    "    \n",
    "    #select best lambda based on loss_result\n",
    "    result_array = np.asarray(result)\n",
    "    lambda_array = np.asarray(lambda_list)\n",
    "    min_result_index = result_array.argmin()\n",
    "    best_lambda = lambda_list[min_result_index]\n",
    "    theta_opt = theta_list[min_result_index]\n",
    "    return lambda_array, result_array, best_lambda, theta_opt, zero_count_list\n",
    "\n",
    "\n"
   ]
  },
  {
   "cell_type": "code",
   "execution_count": 96,
   "metadata": {
    "collapsed": false
   },
   "outputs": [
    {
     "data": {
      "text/plain": [
       "(array([  1.00000000e-10,   1.00000000e-09,   1.00000000e-08,\n",
       "          1.00000000e-07,   1.00000000e-06,   1.00000000e-05,\n",
       "          1.00000000e-04,   1.00000000e-03,   1.00000000e-02,\n",
       "          1.00000000e-01,   1.00000000e+00,   1.00000000e+01,\n",
       "          1.00000000e+02,   1.00000000e+03]),\n",
       " array([  1.11571442e-02,   1.11567770e-02,   1.11530408e-02,\n",
       "          1.11160244e-02,   1.07763974e-02,   9.76543304e-03,\n",
       "          4.25746575e-02,   3.12354161e-01,   1.85219668e+00,\n",
       "          5.29629393e+00,   7.66047037e+00,   1.13323071e+01,\n",
       "          1.45146214e+01,   1.50675201e+01]),\n",
       " 1e-05,\n",
       " array([ 10.03624968,  10.21929625,  -9.88946174,  10.14272412,\n",
       "         10.0369603 ,   9.8529101 ,  -9.67347602,   9.88773996,\n",
       "         -9.83414868, -10.00047869,   0.22531171,   0.23061623,\n",
       "         -0.02894436,  -0.29848331,  -0.22770023,   0.11937774,\n",
       "          0.21634819,  -0.35844502,   0.04943856,   0.46338911,\n",
       "          0.0526916 ,  -0.02326472,  -0.04730872,  -0.0197711 ,\n",
       "          0.25006446,   0.13885929,  -0.12572579,  -0.09466939,\n",
       "         -0.22869299,   0.058828  ,  -0.41681067,  -0.05955841,\n",
       "          0.07343967,   0.28821827,  -0.14756197,  -0.36003282,\n",
       "         -0.19171861,   0.13072459,  -0.16612266,  -0.03540555,\n",
       "         -0.10991836,  -0.11404512,   0.23245223,   0.11031861,\n",
       "          0.10364025,  -0.30195458,  -0.18887479,  -0.04644866,\n",
       "         -0.16236483,   0.03471103,   0.09406965,   0.21669932,\n",
       "          0.04319131,  -0.28380091,   0.09519166,  -0.16346094,\n",
       "         -0.21697942,  -0.22429354,   0.12912265,   0.17390865,\n",
       "         -0.31662468,   0.05747787,   0.14819393,   0.05650436,\n",
       "         -0.44865773,  -0.18638832,  -0.02672366,   0.25389662,\n",
       "          0.34540927,   0.08336292,  -0.21878506,   0.43115387,\n",
       "         -0.04182887,   0.12395242,  -0.13090643]),\n",
       " [0, 0, 0, 0, 0, 0, 0, 0, 0, 0, 0, 0, 0, 2])"
      ]
     },
     "execution_count": 96,
     "metadata": {},
     "output_type": "execute_result"
    }
   ],
   "source": [
    "find_best_lambda(X_train, y_train, X_validation, y_validation)"
   ]
  },
  {
   "cell_type": "markdown",
   "metadata": {
    "collapsed": true
   },
   "source": [
    "**3.Coordinate Descent for Lasso(a.k.a The Shooting algorithm)**"
   ]
  },
  {
   "cell_type": "code",
   "execution_count": 124,
   "metadata": {
    "collapsed": true
   },
   "outputs": [],
   "source": [
    "####################### Lasso opt slow###############################\n",
    "\n",
    "import numpy\n",
    "import numpy as np\n",
    "from __future__ import division\n",
    "#load data\n",
    "X_train = numpy.loadtxt(\"X_train.txt\")\n",
    "y_train = numpy.loadtxt(\"y_train.txt\")\n",
    "X_validation = numpy.loadtxt(\"X_valid.txt\")\n",
    "y_validation = numpy.loadtxt(\"y_valid.txt\")\n",
    "X_test = numpy.loadtxt(\"X_test.txt\")\n",
    "y_test = numpy.loadtxt(\"y_test.txt\")\n",
    "\n",
    "#initialize \n",
    "#lambda_max = 2 * (infinity_norm||X.T*y||)\n",
    "lambda_max = 2*abs(np.amax(np.asarray(np.dot(X_train.T, y_train))))\n",
    "lambda_max_int = int(lambda_max)\n",
    "theta_opt = find_best_lambda(X_train, y_train, X_validation, y_validation)[3]\n",
    "def compute_loss(X, y, theta):\n",
    "    return ((numpy.linalg.norm(numpy.dot(X,theta) - y))**2)/(2*(X.shape[0]))\n",
    "\n",
    "def compute_obj_loss(theta, X, y , lambda_reg):\n",
    "    loss = compute_loss(theta, X,y)\n",
    "    loss += lambda_reg * np.linalg.norm(theta, ord=1)\n",
    "    return loss  \n",
    "\n",
    "def Lasso_opt_slow (X_train, y_train, X_validation, y_validation, theta_opt, max_iter=10000000, tol=10**-8):\n",
    "    result=[]\n",
    "    lambda_reg_list = []\n",
    "    w_list =[]\n",
    "    for k in range(-10,4):\n",
    "        lambda_reg = 10**k\n",
    "        w = np.zeros(X_train.shape[1])\n",
    "        num_iter = 0\n",
    "        diff=1\n",
    "        loss_current=0\n",
    "        loss_previous=0\n",
    "        while(num_iter < max_iter and diff>tol):\n",
    "            loss_previous = compute_loss(X_validation, y_validation, theta_opt)\n",
    "            for j in range (X_train.shape[1]):\n",
    "                a = 0\n",
    "                c = 0\n",
    "                for i in range(X_train.shape[0]):\n",
    "                    a = a + 2*X[i,j]*X[i,j]\n",
    "                    c = c + 2*(X[i,j] * (y[i] - X[i].dot(w) + w[j] * X[i,j]))\n",
    "                w[j] = (np.sign(c/a)) * max(0, abs(c/a) - lambda_reg/a) \n",
    "            loss_current = compute_loss(X_validation, y_validation, w) \n",
    "            diff = loss_current - loss_previous\n",
    "            num_iter += num_iter+1\n",
    "        w_list.append(w)\n",
    "        #select min loss for specific lambda\n",
    "        result.append(loss_current)\n",
    "        lambda_reg_list.append(lambda_reg)\n",
    "        \n",
    "        \n",
    "        \n",
    "    result_array = np.asarray(result)\n",
    "    min_result_index = result_array.argmin()\n",
    "    result = result_array[min_result_index]\n",
    "    \n",
    "    lambda_array = np.asarray(lambda_reg_list)\n",
    "    best_lambda = lambda_reg_list[min_result_index]\n",
    "    \n",
    "    w_opt = w_list[min_result_index]\n",
    "    return best_lambda, min(result_array), lambda_array, result_array, w_list, w_opt\n",
    "\n",
    "            \n",
    "Lasso_opt_slow (X_train, y_train, X_validation, y_validation, theta_opt, max_iter=10000000, tol=10**-8)  \n"
   ]
  },
  {
   "cell_type": "code",
   "execution_count": 118,
   "metadata": {
    "collapsed": false
   },
   "outputs": [
    {
     "data": {
      "text/plain": [
       "[<matplotlib.lines.Line2D at 0x11677f8d0>,\n",
       " <matplotlib.lines.Line2D at 0x1167a0908>]"
      ]
     },
     "execution_count": 118,
     "metadata": {},
     "output_type": "execute_result"
    },
    {
     "data": {
      "image/png": "[encoded data removed]",
      "text/plain": [
       "<matplotlib.figure.Figure at 0x11677f080>"
      ]
     },
     "metadata": {},
     "output_type": "display_data"
    }
   ],
   "source": [
    "import matplotlib.pyplot as plt\n",
    "%matplotlib inline\n",
    "\n",
    "ridge_lambda = find_best_lambda(X_train, y_train, X_validation, y_validation)[0]\n",
    "ridge_loss = find_best_lambda(X_train, y_train, X_validation, y_validation)[1]\n",
    "lasso_lambda =  Lasso_opt_slow (X_train, y_train, X_validation, y_validation, theta_opt,max_iter=10000000, tol=10**-1)[2]\n",
    "lasso_loss =  Lasso_opt_slow (X_train, y_train, X_validation, y_validation, theta_opt,max_iter=10000000, tol=10**-1)[3]\n",
    "\n",
    "plt.figure(figsize=(20,10))\n",
    "plt.xlim([0,1000])\n",
    "plt.ylim([0,150])\n",
    "plt.plot(ridge_lambda, ridge_loss, 'r--', lasso_lambda, lasso_loss, 'b--')"
   ]
  },
  {
   "cell_type": "code",
   "execution_count": 123,
   "metadata": {
    "collapsed": false
   },
   "outputs": [
    {
     "data": {
      "text/plain": [
       "([1e-10,\n",
       "  1e-09,\n",
       "  1e-08,\n",
       "  1e-07,\n",
       "  1e-06,\n",
       "  1e-05,\n",
       "  0.0001,\n",
       "  0.001,\n",
       "  0.01,\n",
       "  0.1,\n",
       "  1,\n",
       "  10,\n",
       "  100],\n",
       " [2, 2, 2, 2, 2, 2, 2, 2, 2, 2, 2, 2, 2, 2])"
      ]
     },
     "execution_count": 123,
     "metadata": {},
     "output_type": "execute_result"
    }
   ],
   "source": [
    "def count_zero_lasso_opt_w(tol=10**-3):\n",
    "    w_list = Lasso_opt_fast (X_train, y_train, X_validation, y_validation, theta_opt,max_iter=10000000, tol=10**-1)[-1]\n",
    "    lambda_list=[]\n",
    "    zero_count_list=[]\n",
    "    for k in range(-10,3):\n",
    "        lambda_reg = 10**k\n",
    "        lambda_list.append(lambda_reg)\n",
    "    for i in range(len(w_list)):\n",
    "        w_greater_than_tol_tuple = np.where( abs(np.asarray(w_list[i][0:10])<=tol)) +np.where(abs(np.asarray(w_list[i][10:-1]>tol)))\n",
    "        zero_count = int(len(w_greater_than_tol_tuple))\n",
    "        zero_count_list.append(zero_count)\n",
    "    return lambda_list, zero_count_list\n",
    "\n",
    "count_zero_lasso_opt_w(tol=10**-3)"
   ]
  },
  {
   "cell_type": "code",
   "execution_count": 136,
   "metadata": {
    "collapsed": false
   },
   "outputs": [],
   "source": [
    "#################homotopy path##############\n",
    "def homotopy(X_train,y_train, X_validation, y_validation, ceiling, type = \"fast\"):\n",
    "    w = np.zeros(X_train.shape[1])\n",
    "    loss_homotopy_list = []\n",
    "    w_homotopy_list=[]\n",
    "    lambda_reg = ceiling\n",
    "    while lambda_reg >10**-10:\n",
    "        if type ==\"slow\":\n",
    "            best_lambda, min_result_array, lambda_array, result_array, w_list, w_opt = Lasso_opt_slow(X_train, y_train, X_validation, y_validation, theta_opt, max_iter=10000000, tol=10**-8)\n",
    "        if type ==\"fast\":\n",
    "            best_lambda, min_result_array, lambda_array, result_array, w_list, w_opt = Lasso_opt_fast(X_train, y_train, X_validation, y_validation, theta_opt, max_iter=10000000, tol=10**-8)\n",
    "\n",
    "        lambda_reg = lambda_reg*0.1\n",
    "    return w_list, result_array\n"
   ]
  },
  {
   "cell_type": "code",
   "execution_count": 137,
   "metadata": {
    "collapsed": false
   },
   "outputs": [
    {
     "name": "stdout",
     "output_type": "stream",
     "text": [
      "Slow Shooting algorithm: 86.098090 seconds\n",
      "Fast Shooting algorithm: 8.670992 seconds\n",
      "Slow Homotopy algorithm:84.905199 seconds\n",
      "Fast Homotopy algorithm:8.281507 seconds\n"
     ]
    }
   ],
   "source": [
    "#################compare time#############\n",
    "from time import clock\n",
    "lambda_range = [10**x for x in range(-10,4)]\n",
    "\n",
    "loss_shoot_slow = []\n",
    "start = clock()\n",
    "for Lambda in lambda_range:\n",
    "    w = Lasso_opt_slow (X_train, y_train, X_validation, y_validation, theta_opt, max_iter=10000000, tol=10**-8)[-1]\n",
    "    loss = compute_loss(X_validation, y_validation, w)\n",
    "    loss_shoot_slow.append(loss)\n",
    "end=clock()\n",
    "time_shooting = end-start\n",
    "print('Slow Shooting algorithm: %f seconds' %time_shooting)\n",
    "\n",
    "loss_shoot_fast = []\n",
    "start = clock()\n",
    "for Lambda in lambda_range:\n",
    "    w = Lasso_opt_fast (X_train, y_train, X_validation, y_validation, theta_opt, max_iter=10000000, tol=10**-8)[-1]\n",
    "    loss = compute_loss(X_validation, y_validation, w)\n",
    "    loss_shoot_fast.append(loss)\n",
    "end=clock()\n",
    "time_shooting=end-start\n",
    "print('Fast Shooting algorithm: %f seconds'%time_shooting)\n",
    "\n",
    "w = np.zeros(X_train.shape[1])\n",
    "start = clock()\n",
    "w_homotopy_slow, loss_homotopy_slow = homotopy(X_train,y_train, X_validation, y_validation, ceiling=10**3, type = \"slow\")\n",
    "end = clock()\n",
    "time_homotopy = end - start\n",
    "print(\"Slow Homotopy algorithm:%f seconds\" %time_homotopy)\n",
    "\n",
    "w = np.zeros(X_train.shape[1])\n",
    "start = clock()\n",
    "w_homotopy_fast, loss_homotopy_fast = homotopy(X_train, y_train, X_validation, y_validation, ceiling=10**3, type = \"fast\")\n",
    "end = clock()\n",
    "time_homotopy = end - start\n",
    "print(\"Fast Homotopy algorithm:%f seconds\" %time_homotopy)"
   ]
  },
  {
   "cell_type": "code",
   "execution_count": null,
   "metadata": {
    "collapsed": true
   },
   "outputs": [],
   "source": []
  },
  {
   "cell_type": "code",
   "execution_count": null,
   "metadata": {
    "collapsed": true
   },
   "outputs": [],
   "source": []
  },
  {
   "cell_type": "code",
   "execution_count": null,
   "metadata": {
    "collapsed": true
   },
   "outputs": [],
   "source": []
  },
  {
   "cell_type": "code",
   "execution_count": 126,
   "metadata": {
    "collapsed": false
   },
   "outputs": [
    {
     "data": {
      "text/plain": [
       "(10,\n",
       " 1.3378838369387718,\n",
       " array([  1.00000000e-10,   1.00000000e-09,   1.00000000e-08,\n",
       "          1.00000000e-07,   1.00000000e-06,   1.00000000e-05,\n",
       "          1.00000000e-04,   1.00000000e-03,   1.00000000e-02,\n",
       "          1.00000000e-01,   1.00000000e+00,   1.00000000e+01,\n",
       "          1.00000000e+02,   1.00000000e+03]),\n",
       " array([   4.14973521,    4.14973521,    4.14973519,    4.14973504,\n",
       "           4.14973355,    4.14971861,    4.14956921,    4.14807666,\n",
       "           4.13317184,    3.98624335,    2.67536114,    1.33788384,\n",
       "          30.81402012,  113.50030718]),\n",
       " [array([ 12.2354794 ,  10.53393607,  -7.04542737,   9.87038793,\n",
       "           9.40498351,   7.89456737, -11.66090573,   5.40184599,\n",
       "          -9.61532083, -10.61317964,   2.25932074,   1.2399948 ,\n",
       "           1.52028658,   1.10149113,   1.09309878,   0.5893625 ,\n",
       "          -0.56681265,   0.19716119,   1.60444161,  -0.81065939,\n",
       "           0.30797877,   1.28286908,  -0.73320522,  -0.77100379,\n",
       "           0.25520441,   3.4557177 ,  -2.4273223 ,  -0.14156583,\n",
       "          -0.68344289,   1.73839584,  -1.7710165 ,   0.72935132,\n",
       "          -0.26542362,  -0.37130713,   0.49391633,  -0.6054811 ,\n",
       "          -0.91328641,   1.29800587,  -0.7176685 ,   1.34543668,\n",
       "          -1.81352658,   0.54250392,   1.18504013,  -1.4932012 ,\n",
       "           1.43312162,  -1.17143435,   0.86806162,  -1.13276151,\n",
       "           0.94069185,   1.78985463,   0.32852591,  -0.39257609,\n",
       "           0.46590031,  -0.34999255,  -2.6081621 ,  -2.26355448,\n",
       "           1.56782039,   0.24906013,   0.27286841,  -0.29097394,\n",
       "          -0.0281843 ,   0.09461856,  -0.23541095,  -0.790596  ,\n",
       "          -1.35839905,   1.10979443,  -0.36809974,  -0.48677465,\n",
       "          -0.09181626,   1.0196707 ,   0.2030605 ,   0.3532849 ,\n",
       "           0.42478843,  -1.48562574,  -2.25180178]),\n",
       "  array([ 12.2354794 ,  10.53393607,  -7.04542737,   9.87038793,\n",
       "           9.40498351,   7.89456737, -11.66090573,   5.40184599,\n",
       "          -9.61532083, -10.61317964,   2.25932074,   1.2399948 ,\n",
       "           1.52028658,   1.10149113,   1.09309878,   0.5893625 ,\n",
       "          -0.56681265,   0.19716119,   1.60444161,  -0.81065939,\n",
       "           0.30797877,   1.28286908,  -0.73320522,  -0.77100379,\n",
       "           0.25520441,   3.4557177 ,  -2.4273223 ,  -0.14156583,\n",
       "          -0.68344289,   1.73839584,  -1.7710165 ,   0.72935132,\n",
       "          -0.26542362,  -0.37130713,   0.49391633,  -0.6054811 ,\n",
       "          -0.91328641,   1.29800587,  -0.7176685 ,   1.34543668,\n",
       "          -1.81352658,   0.54250392,   1.18504013,  -1.4932012 ,\n",
       "           1.43312162,  -1.17143435,   0.86806162,  -1.13276151,\n",
       "           0.94069185,   1.78985463,   0.32852591,  -0.39257609,\n",
       "           0.46590031,  -0.34999255,  -2.6081621 ,  -2.26355448,\n",
       "           1.56782039,   0.24906013,   0.27286841,  -0.29097394,\n",
       "          -0.0281843 ,   0.09461856,  -0.23541095,  -0.790596  ,\n",
       "          -1.35839905,   1.10979442,  -0.36809974,  -0.48677465,\n",
       "          -0.09181626,   1.0196707 ,   0.2030605 ,   0.3532849 ,\n",
       "           0.42478843,  -1.48562574,  -2.25180178]),\n",
       "  array([ 12.23547939,  10.53393607,  -7.04542736,   9.87038793,\n",
       "           9.40498351,   7.89456737, -11.66090572,   5.40184599,\n",
       "          -9.61532083, -10.61317964,   2.25932073,   1.2399948 ,\n",
       "           1.52028658,   1.10149113,   1.09309878,   0.5893625 ,\n",
       "          -0.56681264,   0.19716119,   1.60444161,  -0.81065939,\n",
       "           0.30797877,   1.28286908,  -0.73320521,  -0.77100378,\n",
       "           0.2552044 ,   3.45571769,  -2.4273223 ,  -0.14156584,\n",
       "          -0.68344289,   1.73839584,  -1.77101649,   0.72935132,\n",
       "          -0.26542362,  -0.37130713,   0.49391633,  -0.6054811 ,\n",
       "          -0.91328641,   1.29800587,  -0.7176685 ,   1.34543668,\n",
       "          -1.81352658,   0.54250392,   1.18504013,  -1.49320119,\n",
       "           1.43312162,  -1.17143434,   0.86806161,  -1.13276151,\n",
       "           0.94069185,   1.78985463,   0.32852591,  -0.39257608,\n",
       "           0.4659003 ,  -0.34999255,  -2.6081621 ,  -2.26355448,\n",
       "           1.56782039,   0.24906013,   0.27286841,  -0.29097394,\n",
       "          -0.0281843 ,   0.09461856,  -0.23541095,  -0.790596  ,\n",
       "          -1.35839905,   1.10979442,  -0.36809974,  -0.48677464,\n",
       "          -0.09181626,   1.0196707 ,   0.2030605 ,   0.3532849 ,\n",
       "           0.42478843,  -1.48562574,  -2.25180177]),\n",
       "  array([ 12.23547932,  10.53393608,  -7.04542735,   9.87038794,\n",
       "           9.40498352,   7.89456738, -11.6609057 ,   5.401846  ,\n",
       "          -9.61532087, -10.61317965,   2.2593207 ,   1.2399948 ,\n",
       "           1.52028658,   1.1014911 ,   1.09309882,   0.5893625 ,\n",
       "          -0.56681261,   0.19716119,   1.60444157,  -0.81065937,\n",
       "           0.30797879,   1.28286905,  -0.73320518,  -0.77100377,\n",
       "           0.25520437,   3.45571764,  -2.42732225,  -0.14156585,\n",
       "          -0.68344286,   1.73839582,  -1.77101646,   0.72935128,\n",
       "          -0.2654236 ,  -0.37130713,   0.4939163 ,  -0.60548108,\n",
       "          -0.91328639,   1.29800584,  -0.71766848,   1.34543665,\n",
       "          -1.81352656,   0.54250391,   1.18504012,  -1.49320116,\n",
       "           1.43312161,  -1.1714343 ,   0.86806158,  -1.13276148,\n",
       "           0.94069183,   1.78985461,   0.32852589,  -0.39257606,\n",
       "           0.46590027,  -0.34999252,  -2.60816205,  -2.26355447,\n",
       "           1.56782036,   0.2490601 ,   0.27286841,  -0.29097393,\n",
       "          -0.02818427,   0.09461857,  -0.23541095,  -0.790596  ,\n",
       "          -1.35839901,   1.10979439,  -0.36809977,  -0.48677462,\n",
       "          -0.09181626,   1.01967066,   0.2030605 ,   0.35328489,\n",
       "           0.4247884 ,  -1.48562569,  -2.25180172]),\n",
       "  array([ 12.23547866,  10.5339362 ,  -7.04542721,   9.87038804,\n",
       "           9.40498359,   7.89456745, -11.66090544,   5.4018461 ,\n",
       "          -9.61532121, -10.6131798 ,   2.25932038,   1.23999477,\n",
       "           1.52028654,   1.10149084,   1.09309916,   0.58936255,\n",
       "          -0.56681231,   0.19716124,   1.60444119,  -0.81065919,\n",
       "           0.30797893,   1.28286879,  -0.73320482,  -0.77100361,\n",
       "           0.25520404,   3.45571714,  -2.42732177,  -0.14156601,\n",
       "          -0.6834426 ,   1.7383956 ,  -1.77101616,   0.72935091,\n",
       "          -0.26542343,  -0.3713071 ,   0.49391602,  -0.6054809 ,\n",
       "          -0.9132862 ,   1.29800555,  -0.71766833,   1.34543633,\n",
       "          -1.81352635,   0.54250377,   1.18504001,  -1.49320082,\n",
       "           1.43312149,  -1.17143389,   0.86806129,  -1.1327612 ,\n",
       "           0.9406916 ,   1.78985442,   0.32852569,  -0.39257587,\n",
       "           0.4658999 ,  -0.34999224,  -2.60816156,  -2.26355437,\n",
       "           1.56782005,   0.24905983,   0.27286842,  -0.29097383,\n",
       "          -0.02818399,   0.09461868,  -0.23541098,  -0.79059604,\n",
       "          -1.35839863,   1.10979405,  -0.36809999,  -0.48677435,\n",
       "          -0.09181627,   1.01967027,   0.20306045,   0.35328478,\n",
       "           0.42478811,  -1.48562524,  -2.25180125]),\n",
       "  array([ 12.23547204,  10.5339373 ,  -7.04542577,   9.87038901,\n",
       "           9.40498424,   7.89456812, -11.66090285,   5.40184711,\n",
       "          -9.6153246 , -10.61318122,   2.25931719,   1.23999448,\n",
       "           1.52028616,   1.10148827,   1.09310264,   0.58936297,\n",
       "          -0.56680926,   0.19716172,   1.60443735,  -0.81065741,\n",
       "           0.30798038,   1.28286612,  -0.73320125,  -0.77100207,\n",
       "           0.25520075,   3.45571214,  -2.42731697,  -0.14156756,\n",
       "          -0.68343999,   1.73839339,  -1.7710131 ,   0.72934721,\n",
       "          -0.26542167,  -0.37130682,   0.49391323,  -0.60547902,\n",
       "          -0.91328433,   1.29800264,  -0.71766679,   1.34543313,\n",
       "          -1.81352429,   0.54250235,   1.18503887,  -1.49319744,\n",
       "           1.43312033,  -1.17142979,   0.86805838,  -1.1327584 ,\n",
       "           0.94068933,   1.7898525 ,   0.32852366,  -0.3925739 ,\n",
       "           0.46589625,  -0.34998948,  -2.60815671,  -2.26355341,\n",
       "           1.56781699,   0.24905714,   0.27286845,  -0.29097289,\n",
       "          -0.02818119,   0.09461975,  -0.23541131,  -0.79059643,\n",
       "          -1.35839481,   1.10979068,  -0.36810225,  -0.48677165,\n",
       "          -0.09181636,   1.01966639,   0.20306002,   0.35328368,\n",
       "           0.42478523,  -1.48562075,  -2.25179651]),\n",
       "  array([ 12.23540587,  10.53394831,  -7.04541139,   9.87039866,\n",
       "           9.40499076,   7.89457485, -11.66087695,   5.40185717,\n",
       "          -9.61535853, -10.6131955 ,   2.25928525,   1.23999158,\n",
       "           1.52028237,   1.10146259,   1.09313739,   0.5893672 ,\n",
       "          -0.56677874,   0.19716646,   1.60439901,  -0.81063957,\n",
       "           0.30799491,   1.28283947,  -0.73316558,  -0.77098664,\n",
       "           0.25516783,   3.45566215,  -2.42726897,  -0.14158312,\n",
       "          -0.68341388,   1.73837136,  -1.77098248,   0.72931024,\n",
       "          -0.26540413,  -0.37130405,   0.49388534,  -0.60546023,\n",
       "          -0.91326556,   1.29797354,  -0.71765138,   1.34540113,\n",
       "          -1.8135037 ,   0.54248817,   1.18502747,  -1.49316359,\n",
       "           1.43310876,  -1.17138874,   0.86802924,  -1.13273044,\n",
       "           0.94066666,   1.78983332,   0.32850343,  -0.39255419,\n",
       "           0.46585977,  -0.3499619 ,  -2.60810817,  -2.26354372,\n",
       "           1.56778636,   0.24903015,   0.27286881,  -0.2909635 ,\n",
       "          -0.02815313,   0.09463049,  -0.2354146 ,  -0.79060035,\n",
       "          -1.35835656,   1.10975696,  -0.36812484,  -0.48674465,\n",
       "          -0.09181729,   1.0196276 ,   0.20305567,   0.35327265,\n",
       "           0.42475647,  -1.48557581,  -2.2517491 ]),\n",
       "  array([ 12.23474025,  10.53405703,  -7.04527099,   9.87049862,\n",
       "           9.40505554,   7.89464122, -11.66062193,   5.4019589 ,\n",
       "          -9.61569769, -10.61333623,   2.25896497,   1.23996407,\n",
       "           1.52024575,   1.10120074,   1.09348344,   0.58941487,\n",
       "          -0.56647239,   0.1972145 ,   1.60401597,  -0.81045887,\n",
       "           0.30813813,   1.28257507,  -0.73280724,  -0.77083626,\n",
       "           0.2548403 ,   3.45516041,  -2.42679541,  -0.14173671,\n",
       "          -0.68315051,   1.73815222,  -1.77067873,   0.72893968,\n",
       "          -0.26522766,  -0.37127499,   0.49360654,  -0.60526901,\n",
       "          -0.91307736,   1.29768214,  -0.71749877,   1.34508206,\n",
       "          -1.81329786,   0.54234616,   1.18491213,  -1.49282758,\n",
       "           1.43299624,  -1.17097798,   0.86773847,  -1.13245302,\n",
       "           0.94043832,   1.78964109,   0.32829946,  -0.39235518,\n",
       "           0.46549601,  -0.34968818,  -2.60762031,  -2.26344654,\n",
       "           1.56747985,   0.24875598,   0.27287264,  -0.29086926,\n",
       "          -0.02787099,   0.09473856,  -0.23543383,  -0.79064336,\n",
       "          -1.357975  ,   1.10941887,  -0.36835284,  -0.48647481,\n",
       "          -0.0918255 ,   1.01923478,   0.20301041,   0.3531636 ,\n",
       "           0.42446593,  -1.48512314,  -2.25126999]),\n",
       "  array([ 12.2280879 ,  10.53514561,  -7.04386365,   9.87149485,\n",
       "           9.40570381,   7.8953058 , -11.65806776,   5.40297502,\n",
       "          -9.61908939, -10.61474556,   2.25576304,   1.23968745,\n",
       "           1.5198783 ,   1.09858721,   1.09694537,   0.58988623,\n",
       "          -0.56341005,   0.19769435,   1.60018515,  -0.80865416,\n",
       "           0.30957233,   1.27992895,  -0.72922544,  -0.76932852,\n",
       "           0.2515633 ,   3.45014481,  -2.42205342,  -0.14327455,\n",
       "          -0.68051904,   1.73595963,  -1.76763884,   0.72523496,\n",
       "          -0.26346397,  -0.37098578,   0.49081836,  -0.60336021,\n",
       "          -0.91119586,   1.29476852,  -0.71597119,   1.34189042,\n",
       "          -1.81123939,   0.54092627,   1.18376005,  -1.48946505,\n",
       "           1.43186782,  -1.16687064,   0.86483018,  -1.12967661,\n",
       "           0.93815652,   1.78771924,   0.32626138,  -0.39036703,\n",
       "           0.46185733,  -0.34694885,  -2.6027442 ,  -2.26247503,\n",
       "           1.56441503,   0.24601855,   0.27291067,  -0.28992719,\n",
       "          -0.02505113,   0.09581854,  -0.2356398 ,  -0.79106967,\n",
       "          -1.35415846,   1.10603886,  -0.3706307 ,  -0.4837763 ,\n",
       "          -0.09190863,   1.01531148,   0.20255957,   0.3520719 ,\n",
       "           0.42156345,  -1.48059975,  -2.2464839 ]),\n",
       "  array([  1.21614622e+01,   1.05440120e+01,  -7.03092293e+00,\n",
       "           9.88383726e+00,   9.41036241e+00,   7.90632507e+00,\n",
       "          -1.16326053e+01,   5.41013461e+00,  -9.65242737e+00,\n",
       "          -1.06287819e+01,   2.22365822e+00,   1.23675706e+00,\n",
       "           1.51633793e+00,   1.07261176e+00,   1.13070667e+00,\n",
       "           5.94592749e-01,  -5.30979381e-01,   2.01477623e-01,\n",
       "           1.56033950e+00,  -7.88770776e-01,   3.21920595e-01,\n",
       "           1.25456488e+00,  -6.92133065e-01,  -7.52110953e-01,\n",
       "           2.19067656e-01,   3.39847050e+00,  -2.37622047e+00,\n",
       "          -1.60443530e-01,  -6.52628843e-01,   1.71418279e+00,\n",
       "          -1.73805220e+00,   6.88657983e-01,  -2.45168429e-01,\n",
       "          -3.66742381e-01,   4.63261548e-01,  -5.85304330e-01,\n",
       "          -8.93705786e-01,   1.26593167e+00,  -6.99448434e-01,\n",
       "           1.31122705e+00,  -1.78859563e+00,   5.25649854e-01,\n",
       "           1.17284398e+00,  -1.45794457e+00,   1.42176115e+00,\n",
       "          -1.12812455e+00,   8.36150121e-01,  -1.10272442e+00,\n",
       "           9.16138349e-01,   1.77065459e+00,   3.06032949e-01,\n",
       "          -3.69779951e-01,   4.24838144e-01,  -3.21679385e-01,\n",
       "          -2.55423754e+00,  -2.25282238e+00,   1.53409745e+00,\n",
       "           2.21079286e-01,   2.73754361e-01,  -2.81183791e-01,\n",
       "          -8.80500267e-03,   1.09049017e-01,  -2.34729019e-01,\n",
       "          -7.93309670e-01,  -1.31628180e+00,   1.07234534e+00,\n",
       "          -3.93607811e-01,  -4.56897834e-01,  -9.08997945e-02,\n",
       "           9.74979760e-01,   1.98444938e-01,   3.42262726e-01,\n",
       "           3.91432223e-01,  -1.43424239e+00,  -2.19857078e+00]),\n",
       "  array([ 11.49444367,  10.58016809,  -6.89749356,  10.01547361,\n",
       "           9.43488655,   8.05510141, -11.33575653,   5.47941467,\n",
       "         -10.00612555, -10.77168582,   1.89526757,   1.21157033,\n",
       "           1.47010982,   0.81416092,   1.435461  ,   0.64472409,\n",
       "          -0.1489682 ,   0.23054829,   1.14583942,  -0.56383368,\n",
       "           0.43471138,   1.00429725,  -0.30248064,  -0.56345921,\n",
       "          -0.02940246,   2.78406058,  -1.95938229,  -0.31594064,\n",
       "          -0.39224886,   1.47842737,  -1.4399069 ,   0.34182467,\n",
       "          -0.05592196,  -0.29994729,   0.18851774,  -0.39944026,\n",
       "          -0.73155035,   0.95815897,  -0.53083929,   1.01033634,\n",
       "          -1.53862985,   0.36329   ,   1.0509011 ,  -1.14301626,\n",
       "           1.33832868,  -0.79144395,   0.56659611,  -0.81022476,\n",
       "           0.69784445,   1.60051348,   0.12761812,  -0.14755487,\n",
       "           0.02344461,  -0.09647813,  -2.05592452,  -2.1410284 ,\n",
       "           1.2243443 ,   0.        ,   0.23339214,  -0.20908123,\n",
       "           0.06727101,   0.2079291 ,  -0.15522433,  -0.79120111,\n",
       "          -0.94182253,   0.75024919,  -0.60957506,  -0.19715168,\n",
       "          -0.05644098,   0.54322148,   0.15515996,   0.27127134,\n",
       "           0.07158626,  -0.944741  ,  -1.71098863]),\n",
       "  array([  7.91548535,   8.44666105,  -6.62926384,   9.60344266,\n",
       "           9.39490955,   8.57389009,  -8.56890815,   6.04442188,\n",
       "         -11.05897592, -10.83976465,  -0.        ,  -0.        ,\n",
       "           0.        ,  -0.        ,   1.58259529,   0.19880538,\n",
       "           0.77511376,   1.40944556,   0.05110779,   0.        ,\n",
       "           0.88604183,   0.03496876,   0.37570285,   0.48943713,\n",
       "           0.        ,   0.12243097,   0.        ,   0.        ,\n",
       "           0.        ,   0.20807261,   0.        ,   0.77764793,\n",
       "           0.        ,   0.        ,   0.        ,   0.        ,\n",
       "           0.        ,   0.        ,   0.        ,   0.        ,\n",
       "           0.        ,  -0.        ,   0.        ,   0.        ,\n",
       "           1.27492224,  -0.        ,   0.        ,   0.        ,\n",
       "           0.15763298,   0.37380198,   0.        ,   0.        ,\n",
       "          -0.        ,   0.        ,   0.        ,  -0.        ,\n",
       "           0.        ,   0.        ,  -0.16963256,  -0.2272164 ,\n",
       "          -0.03053903,  -0.        ,  -0.43561516,  -0.36367993,\n",
       "          -0.        ,  -0.        ,  -0.74570734,   0.        ,\n",
       "          -0.        ,  -0.        ,   0.        ,  -0.        ,\n",
       "          -0.        ,  -0.        ,  -0.        ]),\n",
       "  array([ 2.69585541,  3.34023283, -0.        ,  4.39268091,  3.80872093,\n",
       "          5.05008856, -0.        ,  1.19591861, -2.24170113, -2.07741044,\n",
       "          0.92589783,  0.        ,  0.        ,  0.        ,  0.        ,\n",
       "          0.        ,  0.        ,  0.        , -0.        ,  0.        ,\n",
       "          0.        ,  0.        ,  0.        ,  0.        ,  0.        ,\n",
       "          0.        ,  0.        ,  0.        , -0.        ,  0.        ,\n",
       "          0.        ,  0.        ,  0.        ,  0.        ,  0.        ,\n",
       "          0.        ,  0.        ,  0.        ,  0.        , -0.        ,\n",
       "          0.        ,  0.        ,  0.        ,  0.        ,  0.6754183 ,\n",
       "          0.        ,  0.        , -0.        ,  0.        ,  0.        ,\n",
       "          0.        ,  0.        , -0.        , -0.        ,  0.        ,\n",
       "          0.        ,  0.        ,  0.        ,  0.        ,  0.        ,\n",
       "          0.        ,  0.        , -0.        ,  0.        ,  0.        ,\n",
       "          0.        ,  0.        ,  0.        ,  0.        ,  0.        ,\n",
       "          0.        ,  0.        ,  0.        , -0.        ,  0.        ]),\n",
       "  array([ 0.,  0.,  0.,  0.,  0.,  0.,  0.,  0.,  0.,  0.,  0.,  0.,  0.,\n",
       "          0.,  0.,  0.,  0.,  0.,  0.,  0.,  0.,  0.,  0.,  0.,  0.,  0.,\n",
       "          0.,  0.,  0.,  0.,  0.,  0.,  0.,  0.,  0.,  0.,  0.,  0.,  0.,\n",
       "          0.,  0.,  0.,  0.,  0.,  0.,  0.,  0.,  0.,  0.,  0.,  0.,  0.,\n",
       "          0.,  0.,  0.,  0.,  0.,  0.,  0.,  0.,  0.,  0.,  0.,  0.,  0.,\n",
       "          0.,  0.,  0.,  0.,  0.,  0.,  0.,  0.,  0.,  0.])],\n",
       " array([  7.91548535,   8.44666105,  -6.62926384,   9.60344266,\n",
       "          9.39490955,   8.57389009,  -8.56890815,   6.04442188,\n",
       "        -11.05897592, -10.83976465,  -0.        ,  -0.        ,\n",
       "          0.        ,  -0.        ,   1.58259529,   0.19880538,\n",
       "          0.77511376,   1.40944556,   0.05110779,   0.        ,\n",
       "          0.88604183,   0.03496876,   0.37570285,   0.48943713,\n",
       "          0.        ,   0.12243097,   0.        ,   0.        ,\n",
       "          0.        ,   0.20807261,   0.        ,   0.77764793,\n",
       "          0.        ,   0.        ,   0.        ,   0.        ,\n",
       "          0.        ,   0.        ,   0.        ,   0.        ,\n",
       "          0.        ,  -0.        ,   0.        ,   0.        ,\n",
       "          1.27492224,  -0.        ,   0.        ,   0.        ,\n",
       "          0.15763298,   0.37380198,   0.        ,   0.        ,\n",
       "         -0.        ,   0.        ,   0.        ,  -0.        ,\n",
       "          0.        ,   0.        ,  -0.16963256,  -0.2272164 ,\n",
       "         -0.03053903,  -0.        ,  -0.43561516,  -0.36367993,\n",
       "         -0.        ,  -0.        ,  -0.74570734,   0.        ,\n",
       "         -0.        ,  -0.        ,   0.        ,  -0.        ,\n",
       "         -0.        ,  -0.        ,  -0.        ]))"
      ]
     },
     "execution_count": 126,
     "metadata": {},
     "output_type": "execute_result"
    }
   ],
   "source": [
    "####################### Lasso opt fast###############################\n",
    "import numpy\n",
    "import numpy as np\n",
    "from __future__ import division\n",
    "#load data\n",
    "X_train = numpy.loadtxt(\"X_train.txt\")\n",
    "y_train = numpy.loadtxt(\"y_train.txt\")\n",
    "X_validation = numpy.loadtxt(\"X_valid.txt\")\n",
    "y_validation = numpy.loadtxt(\"y_valid.txt\")\n",
    "X_test = numpy.loadtxt(\"X_test.txt\")\n",
    "y_test = numpy.loadtxt(\"y_test.txt\")\n",
    "\n",
    "#initialize \n",
    "#lambda_max = 2 * (infinity_norm||X.T*y||)\n",
    "lambda_max = 2*abs(np.amax(np.asarray(np.dot(X_train.T, y_train))))\n",
    "lambda_max_int = int(lambda_max)\n",
    "theta_opt = find_best_lambda(X_train, y_train, X_validation, y_validation)[3]\n",
    "def compute_loss(X, y, theta):\n",
    "    return ((numpy.linalg.norm(numpy.dot(X,theta) - y))**2)/(2*(X.shape[0]))\n",
    "\n",
    "def compute_obj_loss(theta, X, y , lambda_reg):\n",
    "    loss = compute_loss(theta, X,y)\n",
    "    loss += lambda_reg * np.linalg.norm(theta, ord=1)\n",
    "    return loss  \n",
    "\n",
    "def Lasso_opt_fast (X_train, y_train, X_validation, y_validation, theta_opt, max_iter=10000000, tol=10**-8):\n",
    "    result=[]\n",
    "    lambda_reg_list = []\n",
    "    w_list =[]\n",
    "    for k in range(-10,4):\n",
    "        lambda_reg = 10**k\n",
    "        w = np.zeros(X_train.shape[1])\n",
    "        num_iter = 0\n",
    "        diff=1\n",
    "        loss_current=0\n",
    "        loss_previous=0\n",
    "        while(num_iter < max_iter and diff>tol):\n",
    "            loss_previous = compute_loss(X_validation, y_validation, theta_opt)\n",
    "            for j in range (X_train.shape[1]):\n",
    "                a = 2*(X_train[:,j].dot(X_train[:,j]) )\n",
    "                c = X_train[:,j].dot(y_train - X_train.dot(w) + w[j]*X_train[:,j]) \n",
    "                c=2*c\n",
    "                w[j] = (np.sign(c/a)) * max(0, abs(c/a) - lambda_reg/a) \n",
    "            loss_current = compute_loss(X_validation, y_validation, w) \n",
    "            diff = loss_current - loss_previous\n",
    "            num_iter += num_iter+1\n",
    "        w_list.append(w)\n",
    "        #select min loss for specific lambda\n",
    "        result.append(loss_current)\n",
    "        lambda_reg_list.append(lambda_reg)\n",
    "        \n",
    "        \n",
    "        \n",
    "    result_array = np.asarray(result)\n",
    "    min_result_index = result_array.argmin()\n",
    "    result = result_array[min_result_index]\n",
    "    \n",
    "    lambda_array = np.asarray(lambda_reg_list)\n",
    "    best_lambda = lambda_reg_list[min_result_index]\n",
    "    \n",
    "    w_opt = w_list[min_result_index]\n",
    "    return best_lambda, min(result_array), lambda_array, result_array, w_list, w_opt\n",
    "\n",
    "Lasso_opt_fast (X_train, y_train, X_validation, y_validation, theta_opt,max_iter=10000000, tol=10**-8)"
   ]
  },
  {
   "cell_type": "code",
   "execution_count": 127,
   "metadata": {
    "collapsed": false
   },
   "outputs": [
    {
     "data": {
      "text/plain": [
       "[<matplotlib.lines.Line2D at 0x11736bfd0>,\n",
       " <matplotlib.lines.Line2D at 0x117372160>]"
      ]
     },
     "execution_count": 127,
     "metadata": {},
     "output_type": "execute_result"
    },
    {
     "data": {
      "image/png": "[encoded data removed]",
      "text/plain": [
       "<matplotlib.figure.Figure at 0x11677f128>"
      ]
     },
     "metadata": {},
     "output_type": "display_data"
    }
   ],
   "source": [
    "import matplotlib.pyplot as plt\n",
    "%matplotlib inline\n",
    "\n",
    "ridge_lambda = find_best_lambda(X_train, y_train, X_validation, y_validation)[0]\n",
    "ridge_loss = find_best_lambda(X_train, y_train, X_validation, y_validation)[1]\n",
    "lasso_lambda =  Lasso_opt_fast (X_train, y_train, X_validation, y_validation, theta_opt,max_iter=10000000, tol=10**-1)[2]\n",
    "lasso_loss =  Lasso_opt_fast (X_train, y_train, X_validation, y_validation, theta_opt,max_iter=10000000, tol=10**-1)[3]\n",
    "\n",
    "plt.figure(figsize=(20,10))\n",
    "plt.xlim([0,1000])\n",
    "plt.ylim([0,150])\n",
    "plt.plot(ridge_lambda, ridge_loss, 'r--', lasso_lambda, lasso_loss, 'b--')\n"
   ]
  },
  {
   "cell_type": "markdown",
   "metadata": {},
   "source": [
    "3.3.2"
   ]
  },
  {
   "cell_type": "code",
   "execution_count": 114,
   "metadata": {
    "collapsed": false
   },
   "outputs": [
    {
     "data": {
      "text/plain": [
       "([1e-10,\n",
       "  1e-09,\n",
       "  1e-08,\n",
       "  1e-07,\n",
       "  1e-06,\n",
       "  1e-05,\n",
       "  0.0001,\n",
       "  0.001,\n",
       "  0.01,\n",
       "  0.1,\n",
       "  1,\n",
       "  10,\n",
       "  100],\n",
       " [2, 2, 2, 2, 2, 2, 2, 2, 2, 2, 2, 2, 2, 2])"
      ]
     },
     "execution_count": 114,
     "metadata": {},
     "output_type": "execute_result"
    }
   ],
   "source": [
    "def count_zero_lasso_opt_w(tol=10**-3):\n",
    "    w_list = Lasso_opt (X_train, y_train, X_validation, y_validation, theta_opt,max_iter=10000000, tol=10**-1)[-1]\n",
    "    lambda_list=[]\n",
    "    zero_count_list=[]\n",
    "    for k in range(-10,3):\n",
    "        lambda_reg = 10**k\n",
    "        lambda_list.append(lambda_reg)\n",
    "    for i in range(len(w_list)):\n",
    "        w_greater_than_tol_tuple = np.where( abs(np.asarray(w_list[i][0:10])<=tol)) +np.where(abs(np.asarray(w_list[i][10:-1]>tol)))\n",
    "        zero_count = int(len(w_greater_than_tol_tuple))\n",
    "        zero_count_list.append(zero_count)\n",
    "    return lambda_list, zero_count_list\n",
    "\n",
    "count_zero_lasso_opt_w(tol=10**-3)"
   ]
  },
  {
   "cell_type": "markdown",
   "metadata": {},
   "source": [
    "3.3.3"
   ]
  },
  {
   "cell_type": "code",
   "execution_count": null,
   "metadata": {
    "collapsed": true
   },
   "outputs": [],
   "source": []
  }
 ],
 "metadata": {
  "anaconda-cloud": {},
  "kernelspec": {
   "display_name": "Python [conda root]",
   "language": "python",
   "name": "conda-root-py"
  },
  "language_info": {
   "codemirror_mode": {
    "name": "ipython",
    "version": 3
   },
   "file_extension": ".py",
   "mimetype": "text/x-python",
   "name": "python",
   "nbconvert_exporter": "python",
   "pygments_lexer": "ipython3",
   "version": "3.5.2"
  }
 },
 "nbformat": 4,
 "nbformat_minor": 0
}
