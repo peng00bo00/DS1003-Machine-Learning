{
 "cells": [
  {
   "cell_type": "code",
   "execution_count": 195,
   "metadata": {
    "collapsed": false
   },
   "outputs": [],
   "source": [
    "# import\n",
    "import numpy as np"
   ]
  },
  {
   "cell_type": "markdown",
   "metadata": {},
   "source": [
    "# Question 1.1\n",
    "## Q 1.1.1"
   ]
  },
  {
   "cell_type": "code",
   "execution_count": 196,
   "metadata": {
    "collapsed": false
   },
   "outputs": [],
   "source": [
    "# 1. Construct a random design matrix X \n",
    "X = np.random.rand(150,75)\n",
    "theta = np.zeros(10)"
   ]
  },
  {
   "cell_type": "markdown",
   "metadata": {},
   "source": [
    "## Q 1.1.2"
   ]
  },
  {
   "cell_type": "code",
   "execution_count": 197,
   "metadata": {
    "collapsed": false
   },
   "outputs": [],
   "source": [
    "t = [-1,1]\n",
    "theta_1 = np.random.choice(t,10)*10\n",
    "theta_2 = np.zeros(65)\n",
    "theta = np.concatenate((theta_1,theta_2), axis=0)"
   ]
  },
  {
   "cell_type": "markdown",
   "metadata": {},
   "source": [
    "## Q 1.1.3"
   ]
  },
  {
   "cell_type": "code",
   "execution_count": 198,
   "metadata": {
    "collapsed": false
   },
   "outputs": [],
   "source": [
    "# 3. Construct a vector y = X theta + epsilon, where epsilon is a random noise vector\n",
    "epsilon = 0.1*np.random.randn(150)\n",
    "y = np.dot(X,theta)+epsilon"
   ]
  },
  {
   "cell_type": "markdown",
   "metadata": {},
   "source": [
    "## Q 1.1.4"
   ]
  },
  {
   "cell_type": "code",
   "execution_count": 199,
   "metadata": {
    "collapsed": false
   },
   "outputs": [],
   "source": [
    "# 4. Split the dataset by taking the first 80 points for training, the next 20 points for validation,\n",
    "# and the last 50 points for testing\n",
    "X_training = X[0:80,:]\n",
    "y_training = y[0:80]\n",
    "X_validation = X[80:100,:]\n",
    "y_validation = y[80:100]\n",
    "X_testing = X[100:150,:]\n",
    "y_testing = y[100:150]"
   ]
  },
  {
   "cell_type": "markdown",
   "metadata": {},
   "source": [
    "# Question 2"
   ]
  },
  {
   "cell_type": "code",
   "execution_count": 200,
   "metadata": {
    "collapsed": false
   },
   "outputs": [],
   "source": [
    "import os\n",
    "import numpy as np\n",
    "os.chdir(\"D:/Spring_2017/data/\")\n",
    "\n",
    "X_training = np.loadtxt(\"X_train.txt\")\n",
    "y_training = np.loadtxt(\"y_train.txt\")\n",
    "X_validation = np.loadtxt(\"X_valid.txt\")\n",
    "y_validation = np.loadtxt(\"y_valid.txt\")\n",
    "X_testing = np.loadtxt(\"X_test.txt\")\n",
    "y_testing = np.loadtxt(\"y_test.txt\")"
   ]
  },
  {
   "cell_type": "code",
   "execution_count": 201,
   "metadata": {
    "collapsed": false
   },
   "outputs": [],
   "source": [
    "## Feature normalization\n",
    "def feature_normalization(train, test):\n",
    "    max_train = train.max(axis=0)\n",
    "    min_train = train.min(axis=0)\n",
    "    train_normalized = (train-min_train)/(max_train-min_train)\n",
    "    test_normalized = (test-min_train)/(max_train-min_train) \n",
    "    return train_normalized, test_normalized\n",
    "X_training, X_validation = feature_normalization(X_training, X_validation)"
   ]
  },
  {
   "cell_type": "code",
   "execution_count": 231,
   "metadata": {
    "collapsed": false
   },
   "outputs": [],
   "source": [
    "import numpy\n",
    "from scipy.optimize import minimize\n",
    "from sklearn.linear_model import Ridge\n",
    "\n",
    "(N,D) = X_training.shape\n",
    "\n",
    "w = numpy.ones(D)\n",
    "\n",
    "## Return the value of object function\n",
    "def ridge(Lambda, X, y):\n",
    "    def ridge_obj(theta):\n",
    "        return ((numpy.linalg.norm(numpy.dot(X,theta) - y))**2)/(2*X.shape[0]) + Lambda*(numpy.linalg.norm(theta))**2\n",
    "    return ridge_obj\n",
    "\n",
    "## Compute the square loss\n",
    "def compute_loss(X, y,theta):\n",
    "    return ((numpy.linalg.norm(numpy.dot(X,theta) - y))**2)/(2*X.shape[0])\n",
    "\n",
    "## find lambda that return the least loss on validation data\n",
    "def find_lambda(X_training, y_training, X_validation, y_validation):\n",
    "    lam_loss={}\n",
    "    for i in range(-5,4):\n",
    "        Lambda = 10**i;\n",
    "        w_opt = minimize(ridge(Lambda,X_training,y_training), w)\n",
    "        lam_loss[Lambda] = compute_loss( X_validation, y_validation, w_opt.x)     \n",
    "    opt_lambda = min(lam_loss, key=lam_loss.get)\n",
    "    return opt_lambda \n",
    "\n",
    "## Approximate the data to 0 by tol\n",
    "def approx(theta, threshold):\n",
    "    for i in range(D):\n",
    "        if abs(theta[i])<threshold:\n",
    "            theta[i]=0\n",
    "    return theta\n",
    "    \n",
    "## check the correctness of estimated theta\n",
    "def check_correct(theta_raw,threshold):\n",
    "    false_zero = 0\n",
    "    false_non_zero=0\n",
    "    theta = approx(theta_raw, threshold)\n",
    "    for i in range(10):\n",
    "        if theta[i] ==0:\n",
    "            false_zero = false_zero + 1\n",
    "    for i in range(10,D):\n",
    "        if theta[i]!=0:\n",
    "            false_non_zero = false_non_zero + 1\n",
    "    return false_zero, false_non_zero\n",
    "\n",
    "## print out the result\n",
    "def summary_lambda(lower, upper,threshold):\n",
    "    for i in range(lower,upper+1):\n",
    "        check_non = []\n",
    "        check_zero = []\n",
    "        Lambda = 10**i;\n",
    "        w_opt = minimize(ridge(Lambda,X_training,y_training), w)\n",
    "        print(\"loss = \", compute_loss( X_validation, y_validation, w_opt.x) )\n",
    "        first_10, rest = check_correct(w_opt.x,threshold)\n",
    "        #print(\"Lambda = %f\" % Lambda)\n",
    "        print(\"Lambda=%f,  %d non zero components and %d zero components is estimated incorrectly\" % (Lambda, first_10, rest))\n",
    "        #print (\"The loss for objective function is %f\" % (compute_loss(X_validation,y_validation, w_opt.x)))\n",
    "        print(\"---------------------------\")\n",
    "    return"
   ]
  },
  {
   "cell_type": "code",
   "execution_count": 240,
   "metadata": {
    "collapsed": false
   },
   "outputs": [
    {
     "name": "stdout",
     "output_type": "stream",
     "text": [
      "loss =  0.0679446425828\n",
      "Lambda=0.000010,  0 non zero components and 25 zero components is estimated incorrectly\n",
      "---------------------------\n",
      "loss =  0.210161445166\n",
      "Lambda=0.000100,  0 non zero components and 42 zero components is estimated incorrectly\n",
      "---------------------------\n",
      "loss =  1.54863010862\n",
      "Lambda=0.001000,  0 non zero components and 54 zero components is estimated incorrectly\n",
      "---------------------------\n",
      "loss =  6.54965143815\n",
      "Lambda=0.010000,  0 non zero components and 63 zero components is estimated incorrectly\n",
      "---------------------------\n",
      "loss =  19.7125752199\n",
      "Lambda=0.100000,  0 non zero components and 61 zero components is estimated incorrectly\n",
      "---------------------------\n",
      "loss =  31.0487730653\n",
      "Lambda=1.000000,  0 non zero components and 65 zero components is estimated incorrectly\n",
      "---------------------------\n",
      "loss =  198.114695957\n",
      "Lambda=10.000000,  0 non zero components and 65 zero components is estimated incorrectly\n",
      "---------------------------\n",
      "loss =  620.213249853\n",
      "Lambda=100.000000,  8 non zero components and 7 zero components is estimated incorrectly\n",
      "---------------------------\n",
      "loss =  731.671740678\n",
      "Lambda=1000.000000,  10 non zero components and 0 zero components is estimated incorrectly\n",
      "---------------------------\n",
      "loss =  744.454799074\n",
      "Lambda=10000.000000,  10 non zero components and 0 zero components is estimated incorrectly\n",
      "---------------------------\n"
     ]
    }
   ],
   "source": [
    "summary_lambda(-5, 4,10**(-1))"
   ]
  },
  {
   "cell_type": "code",
   "execution_count": 234,
   "metadata": {
    "collapsed": false
   },
   "outputs": [
    {
     "data": {
      "text/plain": [
       "1e-05"
      ]
     },
     "execution_count": 234,
     "metadata": {},
     "output_type": "execute_result"
    }
   ],
   "source": [
    "find_lambda(X_training, y_training, X_validation, y_validation)"
   ]
  },
  {
   "cell_type": "code",
   "execution_count": 237,
   "metadata": {
    "collapsed": false
   },
   "outputs": [
    {
     "name": "stdout",
     "output_type": "stream",
     "text": [
      "[-48.76131352 -21.22687381 -38.78073593 -25.78899008 -36.95692351\n",
      " -51.81268797 -40.23634204 -22.12459739 -44.10584794 -26.50778972\n",
      " -40.6560931  -37.93666714 -42.17488326 -52.59599338 -39.95495763\n",
      " -35.53670097 -27.16231298 -34.99742303 -44.27467463 -40.15561188]\n",
      "==============\n",
      "[-48.89342727 -20.85300884 -38.5141958  -26.13432945 -36.9345751\n",
      " -51.6695783  -39.84237662 -21.49041412 -43.80651851 -26.72751373\n",
      " -40.43852858 -36.82031848 -42.66793214 -51.63045853 -39.98497022\n",
      " -35.29335814 -27.4587233  -35.75635375 -44.08799754 -40.43710129]\n",
      "==============\n",
      "[-48.59678597 -21.47676432 -38.27979532 -26.0677497  -37.04367415\n",
      " -52.08136385 -40.5878877  -22.16212325 -43.76808169 -27.18506007\n",
      " -39.95938033 -37.31731387 -42.52167894 -52.12394421 -40.22155376\n",
      " -35.20451496 -27.02474306 -35.20474025 -44.50704911 -40.04288685]\n",
      "==============\n"
     ]
    }
   ],
   "source": [
    "# Print the True y value\n",
    "print(y_validation)\n",
    "print(\"==============\")\n",
    "# Print the estimated y by Ridge()\n",
    "clf = Ridge(alpha=10**(-5))\n",
    "clf.fit(X_training, y_training)\n",
    "print(clf.predict(X_validation))\n",
    "print(\"==============\")\n",
    "# Print the estimate y by minimize()\n",
    "w_opt = minimize(ridge(10**(-5),X_training,y_training), w)\n",
    "print(np.dot(X_validation,w_opt.x))\n",
    "print(\"==============\")"
   ]
  },
  {
   "cell_type": "markdown",
   "metadata": {},
   "source": [
    "# 3.1"
   ]
  },
  {
   "cell_type": "code",
   "execution_count": 251,
   "metadata": {
    "collapsed": false
   },
   "outputs": [],
   "source": [
    "import os\n",
    "import numpy as np\n",
    "os.chdir(\"D:/Spring_2017/data/\")\n",
    "\n",
    "X_training = np.loadtxt(\"X_train.txt\")\n",
    "y_training = np.loadtxt(\"y_train.txt\")\n",
    "X_validation = np.loadtxt(\"X_valid.txt\")\n",
    "y_validation = np.loadtxt(\"y_valid.txt\")\n",
    "X_testing = np.loadtxt(\"X_test.txt\")\n",
    "y_testing = np.loadtxt(\"y_test.txt\")\n",
    "\n",
    "def soft(a, delta):  \n",
    "    soft = np.sign(a) * max(abs(a) - delta, 0)    \n",
    "    return soft\n",
    "\n",
    "\n",
    "def LassoShooting_slow(X, y, lambda_reg, theta, max_iter,tol=10**-4):\n",
    "    '''\n",
    "    Coordinate descent for lasso, using vector presentation\n",
    "    '''\n",
    "    diff = 1    \n",
    "    num_iter = 1\n",
    "    theta_new=np.copy(theta)\n",
    "    while ( num_iter < max_iter and diff > tol):  \n",
    "        theta_old = np.copy(theta_new)\n",
    "        for j in range(theta_init.shape[0]):       \n",
    "            a=0\n",
    "            c=0\n",
    "            for i in range(X.shape[0]):\n",
    "                a = a + X[i,j] * X[i,j]\n",
    "                c = c + X[i,j] * (y[i] - np.dot(X[i], theta_new) + theta_new[j] * X[i,j])\n",
    "                temp_1, temp_2 = c/a,lambda_reg/a\n",
    "            theta_new[j] = soft(temp_1, temp_2)\n",
    "        diff = np.linalg.norm(theta_new-theta_old)       \n",
    "        num_iter += 1\n",
    "    return theta_new"
   ]
  },
  {
   "cell_type": "code",
   "execution_count": 253,
   "metadata": {
    "collapsed": false
   },
   "outputs": [
    {
     "data": {
      "text/plain": [
       "array([ -9.98025538e+00,   9.94615494e+00,  -9.96261217e+00,\n",
       "        -1.00152346e+01,  -1.00119177e+01,  -9.94860173e+00,\n",
       "        -1.00541882e+01,  -9.91994688e+00,  -9.90388372e+00,\n",
       "        -9.90534345e+00,   1.13661449e-01,   0.00000000e+00,\n",
       "        -0.00000000e+00,  -6.93474576e-02,  -3.55352897e-02,\n",
       "         0.00000000e+00,  -7.90974701e-03,   0.00000000e+00,\n",
       "        -6.02620416e-02,   0.00000000e+00,   0.00000000e+00,\n",
       "        -0.00000000e+00,  -9.53203845e-05,  -3.54522656e-02,\n",
       "        -2.83373235e-03,  -7.59173805e-02,  -0.00000000e+00,\n",
       "         0.00000000e+00,   4.30798869e-03,  -1.87799081e-02,\n",
       "        -0.00000000e+00,  -6.83517631e-03,   0.00000000e+00,\n",
       "         0.00000000e+00,   3.89722679e-02,   3.06532167e-02,\n",
       "        -3.72510997e-02,  -3.72860376e-02,   5.61317558e-02,\n",
       "        -3.78373086e-02,   4.67808143e-02,  -0.00000000e+00,\n",
       "         4.26502025e-02,  -0.00000000e+00,   0.00000000e+00,\n",
       "        -0.00000000e+00,  -3.78396758e-02,   0.00000000e+00,\n",
       "        -3.97590509e-03,   0.00000000e+00,  -1.42755129e-03,\n",
       "         0.00000000e+00,  -0.00000000e+00,  -0.00000000e+00,\n",
       "         0.00000000e+00,  -0.00000000e+00,  -2.78223129e-02,\n",
       "        -1.93046731e-02,  -3.71645995e-02,   2.56149167e-02,\n",
       "        -1.68915965e-02,   9.85349006e-03,  -1.76335238e-02,\n",
       "        -0.00000000e+00,   1.12559545e-02,  -2.69288641e-02,\n",
       "        -5.05041099e-02,   0.00000000e+00,   0.00000000e+00,\n",
       "        -0.00000000e+00,  -0.00000000e+00,  -5.03018650e-02,\n",
       "        -0.00000000e+00,   8.38856605e-02,  -0.00000000e+00])"
      ]
     },
     "execution_count": 253,
     "metadata": {},
     "output_type": "execute_result"
    }
   ],
   "source": [
    "theta_init = np.zeros(X_training.shape[1])\n",
    "LassoShooting_slow(X_training, y_training, 0.1, theta_init, 10000,tol=10**-4)"
   ]
  },
  {
   "cell_type": "markdown",
   "metadata": {},
   "source": [
    "# Compare between fast and slow algorithm"
   ]
  },
  {
   "cell_type": "code",
   "execution_count": 106,
   "metadata": {
    "collapsed": false
   },
   "outputs": [
    {
     "name": "stdout",
     "output_type": "stream",
     "text": [
      "Lasso_Shooting_fast: 0.897183 seconds\n",
      "Lasso_Shooting_slow: 24.017468 seconds\n"
     ]
    }
   ],
   "source": []
  },
  {
   "cell_type": "code",
   "execution_count": 286,
   "metadata": {
    "collapsed": false
   },
   "outputs": [
    {
     "data": {
      "image/png": "[encoded data removed]",
      "text/plain": [
       "<matplotlib.figure.Figure at 0x21f7f2a77b8>"
      ]
     },
     "metadata": {},
     "output_type": "display_data"
    }
   ],
   "source": [
    "import matplotlib.pyplot as plt\n",
    "%matplotlib inline\n",
    "lower = -5\n",
    "upper = 6\n",
    "loss_list = []\n",
    "theta={}\n",
    "for i in range(lower,upper+1):\n",
    "    lambda_reg = 10**(i)\n",
    "    theta_init = np.zeros(X_training.shape[1])\n",
    "    theta_temp = LassoShooting(X_training, y_training, lambda_reg, theta_init, max_iter=2000,tol=10**-3)\n",
    "    theta[lambda_reg] = theta_temp\n",
    "    loss = compute_loss(X_validation, y_validation,theta[lambda_reg])\n",
    "    loss_list.append(loss)\n",
    "plt.plot(range(lower,upper+1),loss_list)\n",
    "plt.xlabel(\"log10(lambda_reg)\")\n",
    "plt.ylabel(\"loss on validation data\")\n",
    "plt.title(\"loss vs lambda_reg\")\n",
    "plt.show()"
   ]
  },
  {
   "cell_type": "code",
   "execution_count": 284,
   "metadata": {
    "collapsed": false
   },
   "outputs": [
    {
     "name": "stdout",
     "output_type": "stream",
     "text": [
      "Lambda = 1.000000\n",
      "for lambda=1.000000, there are 0 non zero components and 13 zero components is estimated incorrectly\n",
      "The loss for objective function is 0.010010\n",
      "---------------------------\n",
      "Theta of lambda=1 is [-10.01588638   9.81574636  -9.93303339  -9.93629864 -10.01666532\n",
      "  -9.96227547 -10.0113237   -9.85022043  -9.92745564  -9.90880682   0.           0.\n",
      "   0.           0.           0.           0.           0.           0.           0.\n",
      "   0.           0.           0.           0.           0.           0.           0.\n",
      "   0.           0.           0.           0.           0.           0.           0.\n",
      "   0.           0.           0.           0.           0.           0.           0.\n",
      "   0.           0.           0.           0.           0.           0.           0.\n",
      "   0.           0.           0.           0.           0.           0.           0.\n",
      "   0.           0.           0.           0.           0.           0.           0.\n",
      "   0.           0.           0.           0.           0.           0.           0.\n",
      "   0.           0.           0.           0.           0.           0.           0.        ]\n"
     ]
    }
   ],
   "source": [
    "## Return the best lambda and loss.\n",
    "opt_lambda = 10**(np.argmin(loss_list)+lower)\n",
    "theta_lasso = LassoShooting(X_training, y_training, 1, theta_init, max_iter=2000,tol=10**-4)\n",
    "first_10, rest = check_correct(theta_lasso,0.001)\n",
    "print(\"Lambda = %f\" % opt_lambda)\n",
    "print(\"for lambda=%f, there are %d non zero components and %d zero components is estimated incorrectly\" % (opt_lambda, first_10, rest))\n",
    "print (\"The loss for objective function is %f\" % (loss_list[np.argmin(loss_list)]))\n",
    "print(\"---------------------------\")\n",
    "print(\"Theta of lambda=1 is\", theta[1])"
   ]
  },
  {
   "cell_type": "markdown",
   "metadata": {},
   "source": [
    "## 3.2"
   ]
  },
  {
   "cell_type": "code",
   "execution_count": 287,
   "metadata": {
    "collapsed": false
   },
   "outputs": [
    {
     "name": "stdout",
     "output_type": "stream",
     "text": [
      "threshold = -5.000000\n",
      "for threshold=-5.000000, there are 0 non zero components and 13 zero components is estimated incorrectly\n",
      "---------------------------\n",
      "threshold = -4.000000\n",
      "for threshold=-4.000000, there are 0 non zero components and 13 zero components is estimated incorrectly\n",
      "---------------------------\n",
      "threshold = -3.000000\n",
      "for threshold=-3.000000, there are 0 non zero components and 13 zero components is estimated incorrectly\n",
      "---------------------------\n",
      "threshold = -2.000000\n",
      "for threshold=-2.000000, there are 0 non zero components and 9 zero components is estimated incorrectly\n",
      "---------------------------\n",
      "threshold = -1.000000\n",
      "for threshold=-1.000000, there are 0 non zero components and 0 zero components is estimated incorrectly\n",
      "---------------------------\n"
     ]
    }
   ],
   "source": [
    "# Check Sparsity\n",
    "for i in range(-5,0):\n",
    "    threshold = 10**(i)\n",
    "    first_10, rest = check_correct(theta[opt_lambda],threshold)\n",
    "    print(\"threshold = %f\" % i)\n",
    "    print(\"for threshold=%f, there are %d non zero components and %d zero components is estimated incorrectly\" % (i, first_10, rest))\n",
    "    print(\"---------------------------\")"
   ]
  },
  {
   "cell_type": "markdown",
   "metadata": {},
   "source": [
    "## 3.3"
   ]
  },
  {
   "cell_type": "code",
   "execution_count": 377,
   "metadata": {
    "collapsed": false
   },
   "outputs": [],
   "source": [
    "# Initial lambda_max, which is the supremum norm\n",
    "lambda_max = 2*max(abs(np.dot(X_training.T,y_training)))\n",
    "theta_init = np.zeros(X_training.shape[1])\n",
    "\n",
    "def homotopy(X, y, lambda_reg, theta, max_iter,tol):\n",
    "    num_iter = 0\n",
    "    diff=1\n",
    "    loss_list=[]\n",
    "    lambda_list=[]\n",
    "    theta_new=np.copy(theta)\n",
    "    while ( num_iter < max_iter and diff>10**(-5)):\n",
    "        theta_old = np.copy(theta_new)\n",
    "        lambda_list.append(lambda_reg)\n",
    "        theta_new = LassoShooting(X, y, lambda_reg, theta_old, 3000, tol)\n",
    "        loss_list.append(compute_loss(X_validation, y_validation, theta_new))\n",
    "        diff = np.linalg.norm(theta_new-theta_old)\n",
    "        num_iter = num_iter+1\n",
    "        lambda_reg = lambda_reg/10\n",
    "    return loss_list,theta_new, lambda_list\n",
    "\n",
    "def regular_lasso(X, y, lambda_reg, theta, max_iter,tol=10**-4):\n",
    "    num_iter = 0\n",
    "    diff=1\n",
    "    loss_list=[]\n",
    "    lambda_list=[]\n",
    "    theta_new=np.copy(theta)\n",
    "    while ( num_iter < max_iter and diff>10**(-5)):\n",
    "        theta_old = np.copy(theta_new)\n",
    "        lambda_list.append(lambda_reg)\n",
    "        #theta = np.zeros(X_training.shape[1])\n",
    "        theta_new = LassoShooting(X, y, lambda_reg, theta, 3000,tol)\n",
    "        loss_list.append(compute_loss(X_validation, y_validation, theta_new))\n",
    "        diff = np.linalg.norm(theta_new-theta_old)\n",
    "        num_iter = num_iter+1\n",
    "        lambda_reg = lambda_reg/10\n",
    "    return loss_list,theta_new, lambda_list"
   ]
  },
  {
   "cell_type": "code",
   "execution_count": 378,
   "metadata": {
    "collapsed": false
   },
   "outputs": [
    {
     "data": {
      "text/plain": [
       "3805.6535543577202"
      ]
     },
     "execution_count": 378,
     "metadata": {},
     "output_type": "execute_result"
    }
   ],
   "source": [
    "lambda_max = 2*max(abs(np.dot(X_training.T,y_training)))\n",
    "lambda_max"
   ]
  },
  {
   "cell_type": "code",
   "execution_count": 379,
   "metadata": {
    "collapsed": false
   },
   "outputs": [
    {
     "name": "stdout",
     "output_type": "stream",
     "text": [
      "Lasso_Shooting_fast: 2.276907 seconds\n",
      "Lasso_Shooting_slow: 26.779143 seconds\n"
     ]
    }
   ],
   "source": [
    "from time import clock\n",
    "start = clock()\n",
    "loss_list, theta_opt, lambda_list = homotopy(X_training, y_training, 1000, theta_init, max_iter=1000,tol=10**-3)\n",
    "end=clock()\n",
    "time_fast = end-start\n",
    "\n",
    "start = clock()\n",
    "loss_list, theta_opt, lambda_list = regular_lasso(X_training, y_training, 1000, theta_init, max_iter=1000,tol=10**-3)\n",
    "end=clock()\n",
    "time_slow = end-start\n",
    "print('Lasso_Shooting_fast: %f seconds' %time_fast)\n",
    "print('Lasso_Shooting_slow: %f seconds' %time_slow)"
   ]
  },
  {
   "cell_type": "code",
   "execution_count": 383,
   "metadata": {
    "collapsed": false
   },
   "outputs": [
    {
     "data": {
      "image/png": "[encoded data removed]",
      "text/plain": [
       "<matplotlib.figure.Figure at 0x21f7f3a4780>"
      ]
     },
     "metadata": {},
     "output_type": "display_data"
    }
   ],
   "source": [
    "plt.plot(np.log(lambda_list),np.log(loss_list))\n",
    "plt.xlabel(\"log10(lambda_reg)\")\n",
    "plt.ylabel(\"loss on validation data\")\n",
    "plt.title(\"loss vs lambda_reg\")\n",
    "plt.show()"
   ]
  },
  {
   "cell_type": "markdown",
   "metadata": {},
   "source": [
    "## 3.4"
   ]
  },
  {
   "cell_type": "code",
   "execution_count": 248,
   "metadata": {
    "collapsed": true
   },
   "outputs": [],
   "source": [
    "def LassoShooting(X, y, lambda_reg, theta, max_iter,tol=10**-4):\n",
    "    '''\n",
    "    Coordinate descent for lasso, using vector presentation\n",
    "    '''\n",
    "    diff = 1  \n",
    "    num_iter = 0\n",
    "    theta_new=np.copy(theta)\n",
    "    while ( num_iter < max_iter and diff > tol): \n",
    "        theta_old = np.copy(theta_new)\n",
    "        for j in range(theta_new.shape[0]):           \n",
    "            a = 2*np.dot(X[:,j], X[:,j])\n",
    "            c = 2*np.dot(X[:,j],y - X.dot(theta_new) + theta_new[j] * X[:,j])\n",
    "            temp_1, temp_2 = c/a,lambda_reg/a\n",
    "            theta_new[j] = soft(temp_1, temp_2)\n",
    "        diff = np.linalg.norm(theta_new-theta_old)\n",
    "        num_iter += 1\n",
    "    return theta_new"
   ]
  },
  {
   "cell_type": "code",
   "execution_count": 288,
   "metadata": {
    "collapsed": false
   },
   "outputs": [
    {
     "name": "stdout",
     "output_type": "stream",
     "text": [
      "Lasso_Shooting_fast: 0.442182 seconds\n",
      "Lasso_Shooting_slow: 10.242497 seconds\n"
     ]
    }
   ],
   "source": [
    "from time import clock\n",
    "lambda_list = [10**x for x in range(-5,0)]\n",
    "\n",
    "start = clock()\n",
    "for lambda_reg in lambda_list:\n",
    "    theta = LassoShooting(X_training, y_training, 0.001, theta_init, 100,tol=10**-4)\n",
    "end=clock()\n",
    "time_fast = end-start\n",
    "\n",
    "start = clock()\n",
    "for lambda_reg in lambda_list:\n",
    "    theta = LassoShooting_slow(X_training, y_training, 0.001, theta_init, 100,tol=10**-4)\n",
    "end=clock()\n",
    "time_slow = end-start\n",
    "print('Lasso_Shooting_fast: %f seconds' %time_fast)\n",
    "print('Lasso_Shooting_slow: %f seconds' %time_slow)"
   ]
  }
 ],
 "metadata": {
  "anaconda-cloud": {},
  "kernelspec": {
   "display_name": "Python [conda root]",
   "language": "python",
   "name": "conda-root-py"
  },
  "language_info": {
   "codemirror_mode": {
    "name": "ipython",
    "version": 3
   },
   "file_extension": ".py",
   "mimetype": "text/x-python",
   "name": "python",
   "nbconvert_exporter": "python",
   "pygments_lexer": "ipython3",
   "version": "3.5.2"
  }
 },
 "nbformat": 4,
 "nbformat_minor": 1
}
