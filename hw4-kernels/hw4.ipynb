{
 "cells": [
  {
   "cell_type": "markdown",
   "metadata": {
    "deletable": true,
    "editable": true
   },
   "source": [
    "**HW4_ML_1003**\n",
    "\n",
    "**BInqian Zeng**\n",
    "\n",
    "**bz866**"
   ]
  },
  {
   "cell_type": "markdown",
   "metadata": {
    "deletable": true,
    "editable": true
   },
   "source": [
    "**1.Introduction**"
   ]
  },
  {
   "cell_type": "markdown",
   "metadata": {
    "deletable": true,
    "editable": true
   },
   "source": [
    "**2.Positive Simidefinite Matrices**"
   ]
  },
  {
   "cell_type": "markdown",
   "metadata": {
    "deletable": true,
    "editable": true
   },
   "source": [
    "**2.1**\n",
    "\n",
    "An orthogonal matrix that is not symmetric should satisfy two condition: <br />\n",
    "1) $MM^{T} = I$<br />\n",
    "2) $M \\neq M^{T}$<br />\n",
    "This is an example:<br />\n",
    "\\begin{vmatrix}\n",
    "0 & 1 \\\\\n",
    "-1 & 0 \\\\\n",
    "\\end{vmatrix} <br />\n",
    "The transpose matrix is \n",
    "\n",
    "\\begin{vmatrix}\n",
    "0 & -1 \\\\\n",
    "1 & 0 \\\\\n",
    "\\end{vmatrix}<br />"
   ]
  },
  {
   "cell_type": "markdown",
   "metadata": {
    "deletable": true,
    "editable": true
   },
   "source": [
    "**2.2**\n",
    "\n",
    "If M is a psd matrix, then M is symmetric. <br />\n",
    "From Spectral theorem, M can be written as <br />\n",
    "$$M = Q\\Sigma Q^{T}$$ <br/>\n",
    "for Q is orthogonal matrix, we have \n",
    "$$Q^{T}Q = I$$\n",
    "$$Q^{T}MQ = Q^{T}Q\\Sigma Q^{T}Q = I\\Sigma I$$\n",
    "$$Q^{T}MQ = \\Sigma$$\n",
    "$\\Sigma$ is a diagnoal matrix of the corresponding eigenvalues<br/>\n",
    "for M is psd, we can set A = Q, then we have \n",
    "$$diag(Q^{T}MQ) = \\Sigma \\geq 0$$\n",
    "So all eigenvalues of a positive semidefinite matrix M are non-negative "
   ]
  },
  {
   "cell_type": "markdown",
   "metadata": {
    "deletable": true,
    "editable": true
   },
   "source": [
    "**2.3**\n",
    "\n",
    "1)To show $M = BB^{T}$ implies $M$ is psd.\n",
    "\n",
    "If $$M = BB^{T}$$\n",
    "then we have $$M^{T} = (BB^{T})^{T} = BB^{T}$$\n",
    "so we can say $M = M^{T}$, then $M$ is a diagonal matrix.<br/>\n",
    "for any $x\\in R^{n}$\n",
    "$$x^{T}Mx = x^{T}BB^{T}x = (x^{T}B)(B^{T}x) = (x^{T}B)(x^{T}B)^{T} = <x^{T}B, x^{T}B> = ||x^{T}B||^{2} \\geq 0$$\n",
    "So M has to a psd matrix\n",
    "\n",
    "2)To show that M psd implies $M = BB^{T}$ for some $B$.\n",
    "\n",
    "If M is psd, we know M must be a symmetric matrix, and \n",
    "$$M = Q\\Sigma Q^{T}$$\n",
    "and diagonal Matrix $\\Sigma$ must be a symmetric matrix.<br/>\n",
    "Then we can write $\\Sigma$ as \n",
    "$$\\Sigma = \\Sigma^{\\dfrac{1}{2}} \\Sigma^{\\dfrac{1}{2}}$$\n",
    "Then we can write M as \n",
    "$$M = Q\\Sigma^{\\dfrac{1}{2}}\\Sigma^{\\dfrac{1}{2}}Q^{T}$$\n",
    "For $\\Sigma^{\\dfrac{1}{2}}$ is a diagnoal matrix,so \n",
    "$$(Q\\Sigma^{\\dfrac{1}{2}})^{T} = \\Sigma^{\\dfrac{1}{2}}Q^{T}$$\n",
    "So if set $Q\\Sigma^{\\dfrac{1}{2}} = B$\n",
    "Then we can write $M$ as \n",
    "$$M = BB^{T}$$\n"
   ]
  },
  {
   "cell_type": "markdown",
   "metadata": {
    "deletable": true,
    "editable": true
   },
   "source": [
    "**3. Positive Definite Matrix**"
   ]
  },
  {
   "cell_type": "markdown",
   "metadata": {
    "deletable": true,
    "editable": true
   },
   "source": [
    "**3.1**\n",
    "\n",
    "For M is spd, M must be symmetric, we have \n",
    "$$M^{T} = M$$\n",
    "$$M = Q\\Sigma Q^{T} $$\n",
    "for Q is orthogonal, \n",
    "$$Q^{T}MQ = \\Sigma $$\n",
    "\n",
    "because M is spd, we have \n",
    "$$x^{T}Mx > 0 $$\n",
    "so if M is spd, M must be a psd. And we know $Q^{T}MQ = \\Sigma$ is a diagonal matrix, so we can write $\\Sigma$ as    \n",
    "$$diag(q_{1}^{T}Mq_{1}, q_{2}^{T}Mq_{2}, ..... , q_{n}^{T}Mq_{n})$$\n",
    "for every $q_{n}^{T}Mq_{n}$ in this diagonal matrix, for M is spd\n",
    "$$x^{T}Mx > 0 $$\n",
    "$$q_{n}^{T}Mq_{n} >0 $$\n",
    "so we can say that all eigenvalues of a symmetric positive definite matrix are positive."
   ]
  },
  {
   "cell_type": "markdown",
   "metadata": {
    "deletable": true,
    "editable": true
   },
   "source": [
    "**3.2**\n",
    "\n",
    "For $M$ is a spd, we have \n",
    "$$M = Q\\Sigma Q^{T} $$\n",
    "and, for Q is a orthogonal matrix\n",
    "$$ Q^{T} = Q^{-1}$$\n",
    "then \n",
    "$$ (M)^{-1} = (Q\\Sigma Q^{T})^{-1}$$\n",
    "$$ (M)^{-1} = (Q\\Sigma Q^{-1})^{-1}$$\n",
    "As we know for inverse matrix, we have\n",
    "$$(AB)^{-1} = B^{-1}A^{-1}$$\n",
    "so\n",
    "$$M^{-1} = (Q\\Sigma Q^{-1})^{-1} = Q(Q\\Sigma)^{-1} = Q\\Sigma^{-1}Q^{-1} = Q\\Sigma^{-1}Q^{-1} = Q\\Sigma^{-1}Q^{T}$$\n",
    "matrix $Q\\Sigma^{-1}Q^{T}$ is the inverse of $M$"
   ]
  },
  {
   "cell_type": "markdown",
   "metadata": {
    "deletable": true,
    "editable": true
   },
   "source": [
    "**3.3**\n",
    "\n",
    "Since $M$ is a psd, we have for any $x\\in R^{n}$\n",
    "$$x^{T}Mx \\geq 0$$\n",
    "and it's obvious that $x^{T}\\lambda Ix \\geq 0$, since\n",
    "$$x^{T}\\lambda Ix = x^{T}\\lambda x = \\lambda x^{T}x >0$$\n",
    "\n",
    "we also have \n",
    "$$x^{T}(M+\\lambda I)x = x^{T}Mx + x^{T}\\lambda Ix$$\n",
    "since $x^{T}\\lambda Ix >0$ and $x^{T}Mx \\geq 0$,we can say\n",
    "$$x^{T}(M+\\lambda I)x >0$$\n",
    "then $M+\\lambda I$ is symmetric positive definite.\n",
    "\n",
    "The expression for the inverse of $M+\\lambda I$ \n",
    "\n",
    "$$M = Q\\Sigma Q^{T}$$\n",
    "$$\\lambda I = \\lambda^{\\dfrac{1}{2}} I \\lambda^{\\dfrac{1}{2}}$$\n",
    "based on the result of question 3.2\n",
    "$$(M+\\lambda I)^{-1} = Q\\Sigma^{-1} Q^{T} + \\lambda^{-\\dfrac{1}{2}} I \\lambda^{-\\dfrac{1}{2}}$$"
   ]
  },
  {
   "cell_type": "markdown",
   "metadata": {
    "deletable": true,
    "editable": true
   },
   "source": [
    "**3.4**\n",
    "\n",
    "we know that \n",
    "$$x^{T}(M+N)x = x^{T}Mx + x^{T}Nx$$\n",
    "and since $M$ is positive semidefinite and $N$ is positive definite\n",
    "$$x^{T}Mx > 0$$\n",
    "$$x^{T}Nx \\geq 0$$\n",
    "$$x^{T}(M+N)x = x^{T}Mx + x^{T}Nx >0 $$\n",
    "so $M + N$ is symmetric positive definite. Thus $M +N$ is invertible"
   ]
  },
  {
   "cell_type": "markdown",
   "metadata": {
    "deletable": true,
    "editable": true
   },
   "source": [
    "**4.[Optional]Kernel Metrics**\n",
    "\n",
    "From the definition of K, we know \n",
    "$$K = XX^{T} = (<x_{i},x_{j}>)_{i,j}$$\n",
    "and we know \n",
    "$$d(x,y) = ||x-y||$$\n",
    "$$ = \\sqrt{ <x-y,x-y>}$$\n",
    "$$ = \\sqrt{ |x-y|^{2} } $$\n",
    "for Cosine theorem\n",
    "$$|x-y|^{2} = |x|^{2} + |y|^{2} - 2|x||y|cos\\theta$$\n",
    "$$ = <x,x> + <y,y> - 2<x,y>$$\n",
    "$$d(x,y) = \\sqrt{<x,x> + <y,y> - 2<x,y>}$$\n",
    "\n",
    "For element in Gram matrix $K$, main diagonal elements can be treated as vectors' lengths and other elements can be treated as $<x,y>$. We can use these to calculate any $d(x,y)$. So we can say that knowing $K$ is equivalent to\n",
    "knowing the set of pairwise distances among the vectors in $S$ as well as the vector lengths."
   ]
  },
  {
   "cell_type": "markdown",
   "metadata": {
    "deletable": true,
    "editable": true
   },
   "source": [
    "**5.[Optional]Kernel Ridge Regression**"
   ]
  },
  {
   "cell_type": "markdown",
   "metadata": {
    "deletable": true,
    "editable": true
   },
   "source": [
    "**5.1**\n",
    "\n",
    "The minimizer of $J(w)$ should be a $w$ that minimize J(w).\n",
    "$$||Xw-y||^{2} + \\lambda||w||^{2}$$\n",
    "$$ = (Xw-y)^{T}(Xw-y) + \\lambda w^{T}w$$\n",
    "$$ =w^{T}X^{T}Xw - 2y^{T}Xw + \\lambda w^{T}w + y^{2} $$\n",
    "the minimizer should satisfy $\\dfrac{\\partial J(w)}{\\partial w} = 0 $\n",
    "$$\\dfrac{\\partial J(w)}{\\partial w} = 2w^{T}X^{T}X - 2y^{T}X + 2\\lambda w =0$$\n",
    "$$w^{T}X^{T}X - y^{T}X + \\lambda w = 0$$\n",
    "then for $w$ to be a minimizer of $J(w)$, we must have \n",
    "$$X^{T}Xw + \\lambda w = X^{T}y$$\n",
    "and the minimizer of $J(w)$ is \n",
    "$$w = (X^{T}X + \\lambda I)^{-1}X^{T}y$$\n",
    "\n",
    "<br/>\n",
    "We can write $X^{T}X$ as\n",
    "$$X^{T}X = X^{T}IX = M$$\n",
    "$M$ is a symmetric matrix and $M$ is psd from the result of 2.3.<br/>\n",
    "From the result of 3.3, we can say that $X^{T}X + \\lambda I$ is invertible, for $\\lambda$ >0.\n",
    "$X^{T}X$ is psd and  $X^{T}X + \\lambda I$ is spd.\n"
   ]
  },
  {
   "cell_type": "markdown",
   "metadata": {
    "deletable": true,
    "editable": true
   },
   "source": [
    "**5.2**\n",
    "\n",
    "$$w = \\dfrac{1}{\\lambda}(X^{T}y-X^{T}Xw)$$\n",
    "$$w = X^{T}\\alpha$$\n",
    "$$\\alpha = \\dfrac{1}{\\lambda}(y - Xw)$$"
   ]
  },
  {
   "cell_type": "markdown",
   "metadata": {
    "deletable": true,
    "editable": true
   },
   "source": [
    "**5.3**\n",
    "\n",
    "From $w=X^{T}\\alpha$, we can say that $w$ is a linear combination of $X^{T}$\n",
    "$$ w = \\alpha_{1}x_{1} + \\alpha_{2}x_{2} + ... + \\alpha_{n}x_{n} $$"
   ]
  },
  {
   "cell_type": "markdown",
   "metadata": {
    "deletable": true,
    "editable": true
   },
   "source": [
    "**5.4**\n",
    "\n",
    "$$\\alpha = \\dfrac{1}{\\lambda}(y - Xw)$$\n",
    "$$ = \\dfrac{1}{\\lambda}(y - XX^{T}\\alpha)$$\n",
    "$$ = (\\lambda^{-1}y - \\lambda^{-1}XX^{T}\\alpha)$$\n",
    "$$\\alpha = \\dfrac{y}{\\lambda} - \\dfrac{1}{\\lambda}XX^{T}\\alpha$$\n",
    "$$(\\dfrac{1}{\\lambda}XX^{T} + 1)\\alpha = \\dfrac{1}{\\lambda}y$$\n",
    "$$\\alpha = (\\dfrac{1}{\\lambda}XX^{T} + \\lambda I\\dfrac{1}{\\lambda})^{-1}\\dfrac{1}{\\lambda}y$$\n",
    "$$ = \\lambda (XX^{T}+\\lambda I)^{-1}\\dfrac{1}{\\lambda}y$$\n",
    "$$ = (\\lambda I + XX^{T})^{-1}y$$"
   ]
  },
  {
   "cell_type": "markdown",
   "metadata": {
    "deletable": true,
    "editable": true
   },
   "source": [
    "**5.5**\n",
    "\n",
    "Kernelized means that inputs only appear inside inner products: $<\\Psi(x),\\Psi(y)>$,for $x,y\\in X$\n",
    "$$ Xw = XX^{T}\\alpha$$\n",
    "$$ = XX^{T}(\\lambda I + XX^{T})^{-1}y$$\n",
    "In kernelized expression, we can see all $X$ appear in inner product."
   ]
  },
  {
   "cell_type": "markdown",
   "metadata": {
    "deletable": true,
    "editable": true
   },
   "source": [
    "**5.6**\n",
    "\n",
    "For $f(x) = x^{T}w^{*}$, x is the new point and $w^{*}$ is obtained from the training set. \n",
    "$$f(x) = x^{T}w^{*} =x^{T}X^{T}\\alpha^{*} $$\n",
    "$$= x^{T}X^{T}(\\lambda I + XX^{T})^{-1}y  $$\n",
    "$$ = k_{x}^{T}(\\lambda I + XX^{T})^{-1}y  $$"
   ]
  },
  {
   "cell_type": "markdown",
   "metadata": {
    "deletable": true,
    "editable": true
   },
   "source": [
    "**6. [Optional]Pegasos and SSGD for l2-regularized ERM**"
   ]
  },
  {
   "cell_type": "markdown",
   "metadata": {
    "deletable": true,
    "editable": true
   },
   "source": [
    "**6.1[optional]**\n",
    "\n",
    "$$g_{i}(w) = (\\dfrac{\\lambda}{2}||w||_{2}^{2})^{'}+v_{i}(w)$$\n",
    "$$g_{i}(w) = \\lambda w + v_{i}(w)$$"
   ]
  },
  {
   "cell_type": "markdown",
   "metadata": {
    "deletable": true,
    "editable": true
   },
   "source": [
    "**6.2[Optional]**\n",
    "\n",
    "set $J(w) = Eh(w,i),i$ is randomly selected from $i \\in 1,2,...,n$. By the convexity of $l_{i}(w)$, $J(w)$ is a convex function. By the convexity of J(w), h(w,i) and the definition of subgradient. wehave<br/>\n",
    "$$h(w_{2},i) \\geq h(w_{1},i) + g^{T}_{i}(w_{1})(w_{2}-w_{1}) $$\n",
    "therefore, \n",
    "$$J(w_{2}) = Eh(w_{2},i)\\geq Eh(w_{1},i) + Eg_{i}^{T}(w_{1})(w_{2}-w_{1}) = J(w_{1})+ g^{T}(w_{1})(w_{2}-w_{1})$$\n",
    "Then we can say $ g(w) = Eg_{i}(w)\\in \\partial J(w)$\n"
   ]
  },
  {
   "cell_type": "markdown",
   "metadata": {
    "deletable": true,
    "editable": true
   },
   "source": [
    "**6.3[Optional]**\n",
    "\n",
    "For t = 1,\n",
    "$$w^{(t+1)} = w{(t)}-\\dfrac{1}{\\lambda t}g_{i}(w^{(t)})$$\n",
    "$$w^{(2)} = w^{(1)} - \\eta^{(1)}g_{i}(w^{(1)})$$\n",
    "$$ = w^{(1)} - \\dfrac{1}{\\lambda *1}g_{i}(w^{(1)})$$\n",
    "$$g_{i}(w^{(1)}) = \\lambda w^{(1)} + v_{i}(w^{(1)}) = \\lambda w^{(1)} + v^{(1)}$$\n",
    "$$w^{(2)} = w^{(1)}-w^{(1)}-\\dfrac{1}{\\lambda *1}v^{(1)}$$\n",
    "$$w^{(2)} = -\\dfrac{1}{\\lambda *1}\\Sigma^{1}_{\\tau=1}v^{(\\tau)}$$\n",
    "then we can say when t=1, the equation holds.\n",
    "\n",
    "Assume when t=n, the equation holds.<br/>\n",
    "We have\n",
    "$$w^{(n)} = -\\dfrac{1}{\\lambda (n-1)}\\Sigma^{n-1}_{\\tau=1}v^{\\tau}$$\n",
    "and\n",
    "$$w^{(n)} = w^{(n-1)} - \\eta^{(n-1)}g_{i}(w^{(n-1)})$$\n",
    "$$ = w^{(1)} - \\eta^{(1)}g_{i}(w{(1))} - \\eta^{(2)}g_{i}(w^{(2)}) - ... - \\eta^{(n)}g_i(w^{(n)})$$\n",
    "$$-\\dfrac{1}{\\lambda (n-1)}\\Sigma^{n-1}_{\\tau=1}v^{\\tau} = w^{(1)} - \\eta^{(1)}g_{i}(w{(1))} - \\eta^{(2)}g_{i}(w^{(2)}) - ... - \\eta^{(n)}g_i(w^{(n)})$$\n",
    "\n",
    "when n=t+1<br/>\n",
    "From \n",
    "$$-\\dfrac{1}{\\lambda (n-1)}\\Sigma^{n-1}_{\\tau=1}v^{\\tau} = w^{(1)} - \\eta^{(1)}g_{i}(w{(1))} - \\eta^{(2)}g_{i}(w^{(2)}) - ... - \\eta^{(n)}g_i(w^{(n)})$$\n",
    "we have \n",
    "$$-\\dfrac{1}{\\lambda (n)}\\Sigma^{n}_{\\tau=1}v^{\\tau} = w^{(1)} - \\eta^{(1)}g_{i}(w{(1))} - \\eta^{(2)}g_{i}(w^{(2)}) - ... - \\eta^{(n)}g_i(w^{(n)}) - \\eta^{(n+1)}g_i(w^{(n+1)})$$\n",
    "and \n",
    "$$ w^{(n+1)} = w^{(1)} - \\eta^{(1)}g_{i}(w{(1))} - \\eta^{(2)}g_{i}(w^{(2)}) - ... - \\eta^{(n)}g_i(w^{(n)}) - \\eta^{(n+1)}g_i(w^{(n+1)}) $$\n",
    "then we can say\n",
    "$$w^{(n+1)} = -\\dfrac{1}{\\lambda (n)}\\Sigma^{n}_{\\tau=1}v^{\\tau}$$\n",
    "$$w^{(t+1)} = -\\dfrac{1}{\\lambda (t)}\\Sigma^{t}_{\\tau=1}v^{\\tau}$$\n"
   ]
  },
  {
   "cell_type": "markdown",
   "metadata": {
    "deletable": true,
    "editable": true
   },
   "source": [
    "**6.4[Optional]**\n",
    "\n"
   ]
  },
  {
   "cell_type": "markdown",
   "metadata": {
    "deletable": true,
    "editable": true
   },
   "source": [
    "**7.Kernelized Pegasos**"
   ]
  },
  {
   "cell_type": "markdown",
   "metadata": {
    "deletable": true,
    "editable": true
   },
   "source": [
    "**7.1**\n",
    "\n",
    "$$K_{j}^{T}\\alpha^{(t)}$$\n",
    "$$ = \\Sigma_{i=1}^{n}k(x_{i},x_{j})\\alpha_{i}^{(t)}$$\n",
    "$$ = \\Sigma_{i=1}^{n}x_{i}^{T}x_{j}\\alpha_{i}^{(t)}$$\n",
    "and \n",
    "$$<w^{(t)},x_{j}>$$\n",
    "$$ = (w^{(t)})^{T}x_{j}$$\n",
    "$$ = \\Sigma_{i=1}^{n}(\\alpha_{i}^{(t)}x_{i})^{T}x_{j}$$\n",
    "$$ = \\Sigma_{i=1}^{n}\\alpha_{i}^{(t)^{T}}x_{i}^{T}x_{j}$$\n",
    "$$ = \\Sigma_{i=1}^{n}x_{i}^{T}x_{j}\\alpha_{i}^{(t)}$$\n",
    "we also know that $y\\in \\{-1,1\\}$, so $y_{j}$ is a real number<br/>\n",
    "then we can say that\n",
    "$$y_{j}<w^{(t)},x_{j}> = y_{j}K_{j}^{T}\\alpha^{(t)}$$"
   ]
  },
  {
   "cell_type": "markdown",
   "metadata": {
    "deletable": true,
    "editable": true
   },
   "source": [
    "**7.2**\n",
    "\n",
    "$$w^{(t+1)} = (1-\\eta^{(t)}\\lambda)w^{(t)}$$\n",
    "$$ = (1 - \\eta^{(t)}\\lambda)\\Sigma^{n}_{i=1}\\alpha_{i}^{(t)}x_{i}$$\n",
    "since $(1 - \\eta^{(t)}\\lambda$ is a number and $\\eta^{(t)} = \\dfrac{1}{\\lambda t}$, we have \n",
    "$$w^{(t+1)} = \\Sigma_{i=1}^{n}(1-\\eta^{t}\\lambda)\\alpha_{i}^{(t)}x_{i}$$\n",
    "$$\\alpha^{(t+1)} = (1 - \\dfrac{1}{\\lambda t}\\lambda)\\alpha^{(t)}$$\n",
    "$$ = (1 - \\dfrac{1}{t})\\alpha^{(t)}$$"
   ]
  },
  {
   "cell_type": "markdown",
   "metadata": {
    "deletable": true,
    "editable": true
   },
   "source": [
    "**7.3**\n",
    "\n",
    "Input training set $(K_{1},y_{1}), ... , (K_{n},y_{n}) \\in R^{n} *\\{-1,1\\}$<br/>\n",
    "$\\alpha^{(1)} = (\\alpha_{1}^{(1)},...,\\alpha_{n}^{(1)})^{T} = (0,...,0) \\in R^{d}$<br/>\n",
    "$t =0$ #step number<br/>\n",
    "$repeat$<br/>\n",
    "####$t = t+1$<br/>\n",
    "####$\\eta^{(t)} = \\dfrac{1}{(t\\lambda)}$ #step multiplier\n",
    "####randomly choose j in 1, ..., n\n",
    "####if $y_{j}K_{j}^{T}\\alpha^{(t)} < 1$\n",
    "########$\\alpha^{(t+1)} = (1 - \\eta^{(t)}\\lambda)\\alpha^{(t)} + \\eta_{t}y_{j}K_{j}$\n",
    "####else\n",
    "########$\\alpha^{(t+1)} = (1 - \\eta^{(t)}\\lambda)\\alpha^{(t)}$<br/>\n",
    "until bored<br/>\n",
    "return $\\alpha^{(t)}$\n",
    "    "
   ]
  },
  {
   "cell_type": "markdown",
   "metadata": {
    "deletable": true,
    "editable": true
   },
   "source": [
    "**7.4**\n",
    "\n",
    "Input training set $(K_{1},y_{1}), ... , (K_{n},y_{n}) \\in R^{n} *\\{-1,1\\}$<br/>\n",
    "$\\alpha^{(1)} = (\\alpha_{1}^{(1)},...,\\alpha_{n}^{(1)})^{T} = (0,...,0) \\in R^{d}$<br/>\n",
    "$t =1$ #step number<br/>\n",
    "$s = 1$\n",
    "$repeat$<br/>\n",
    "####$t = t+1$<br/>\n",
    "####$\\eta^{(t)} = \\dfrac{1}{(t\\lambda)}$ #step multiplier\n",
    "####$s = (1 - \\eta^{(t)}\\lambda)s$\n",
    "####randomly choose j in 1, ..., n\n",
    "####if $y_{j}K_{j}^{T}\\alpha^{(t)} < 1$\n",
    "########$\\alpha^{(t+1)} = \\alpha^{(t)} + \\dfrac{1}{s}\\eta^{(t)}y_{j}K_{j}^{T}$\n",
    "####else\n",
    "########$\\alpha^{(t+1)} = (1 - \\eta^{(t)}\\lambda)\\alpha^{(t)}$<br/>\n",
    "until bored<br/>\n",
    "return $\\alpha^{(t)}$<br/>\n",
    "    "
   ]
  },
  {
   "cell_type": "markdown",
   "metadata": {
    "deletable": true,
    "editable": true
   },
   "source": [
    "**8. Kernel Methods: Let's Implement**"
   ]
  },
  {
   "cell_type": "markdown",
   "metadata": {
    "deletable": true,
    "editable": true
   },
   "source": [
    "**8.1. One more review of kernelization can’t hurt (no problems)**"
   ]
  },
  {
   "cell_type": "markdown",
   "metadata": {
    "deletable": true,
    "editable": true
   },
   "source": [
    "**8.2 Kernels and Kernel Machines**"
   ]
  },
  {
   "cell_type": "code",
   "execution_count": 1,
   "metadata": {
    "collapsed": true,
    "deletable": true,
    "editable": true
   },
   "outputs": [],
   "source": [
    "import numpy as np\n",
    "import pandas as pd\n",
    "import matplotlib.pyplot as plt\n",
    "import sklearn\n",
    "import scipy.spatial\n",
    "import functools\n",
    "import math\n",
    "from scipy.spatial import distance\n",
    "%matplotlib inline"
   ]
  },
  {
   "cell_type": "markdown",
   "metadata": {
    "deletable": true,
    "editable": true
   },
   "source": [
    "**8.2.1**"
   ]
  },
  {
   "cell_type": "code",
   "execution_count": 2,
   "metadata": {
    "collapsed": true,
    "deletable": true,
    "editable": true
   },
   "outputs": [],
   "source": [
    "### Kernel function generators\n",
    "def linear_kernel(W, X):\n",
    "    \"\"\"\n",
    "    Computes the linear kernel between two sets of vectors. Equivalently, the outer product.\n",
    "    Args:\n",
    "        W, X - two matrices of dimensions n1xd and n2xd\n",
    "    Returns:\n",
    "        matrix of size n1xn2, with w_i^T x_j in position i,j\n",
    "    \"\"\"\n",
    "    return np.outer(W,X)\n",
    " \n",
    "def RBF_kernel(W,X,sigma):\n",
    "    \"\"\"\n",
    "    Computes the RBF kernel between two sets of vectors   \n",
    "    Args:\n",
    "        W, X - two matrices of dimensions n1xd and n2xd\n",
    "        sigma - the bandwidth (i.e. standard deviation) for the RBF/Gaussian kernel\n",
    "    Returns:\n",
    "        matrix of size n1xn2, with exp(-||w_i-x_j||^2/(2 sigma^2)) in position i,j\n",
    "    \"\"\"\n",
    "    #TODO\n",
    "    result_matrix = np.zeros(shape = (W.shape[0], X.shape[0]))\n",
    "    norm = distance.cdist(W, X, 'sqeuclidean')\n",
    "    result_matrix = np.exp((-1*norm/(2*sigma**2)))\n",
    "    \n",
    "    return result_matrix\n",
    "\n",
    "def polynomial_kernel(W, X, offset, degree):\n",
    "    \"\"\"\n",
    "    Computes the inhomogeneous polynomial kernel between two sets of vectors\n",
    "    Args:\n",
    "        W, X - two matrices of dimensions n1xd and n2xd\n",
    "        offset, degree - two parameters for the kernel\n",
    "    Returns:\n",
    "        matrix of size n1xn2, with (offset + <w_i,x_j>)^degree in position i,j\n",
    "    \"\"\"\n",
    "    #TODO\n",
    "    result_matrix = np.zeros(shape = (W.shape[0], X.shape[0]))\n",
    "    linear_kernel_matrix = np.outer(W,X)\n",
    "    for i in range(W.shape[0]):\n",
    "        for j in range(X.shape[0]):\n",
    "            result_matrix[i,j] = (linear_kernel_matrix[i,j]+offset)**degree\n",
    "    \n",
    "    return result_matrix\n"
   ]
  },
  {
   "cell_type": "markdown",
   "metadata": {
    "deletable": true,
    "editable": true
   },
   "source": [
    "**8.2.2**"
   ]
  },
  {
   "cell_type": "code",
   "execution_count": 4,
   "metadata": {
    "collapsed": false,
    "deletable": true,
    "editable": true
   },
   "outputs": [
    {
     "ename": "NameError",
     "evalue": "name 'np' is not defined",
     "output_type": "error",
     "traceback": [
      "\u001b[0;31m---------------------------------------------------------------------------\u001b[0m",
      "\u001b[0;31mNameError\u001b[0m                                 Traceback (most recent call last)",
      "\u001b[0;32m<ipython-input-4-3c5f200cac8a>\u001b[0m in \u001b[0;36m<module>\u001b[0;34m()\u001b[0m\n\u001b[1;32m      2\u001b[0m \u001b[1;33m\u001b[0m\u001b[0m\n\u001b[1;32m      3\u001b[0m \u001b[0mplot_step\u001b[0m \u001b[1;33m=\u001b[0m \u001b[1;36m.01\u001b[0m\u001b[1;33m\u001b[0m\u001b[0m\n\u001b[0;32m----> 4\u001b[0;31m \u001b[0mxpts\u001b[0m \u001b[1;33m=\u001b[0m \u001b[0mnp\u001b[0m\u001b[1;33m.\u001b[0m\u001b[0marange\u001b[0m\u001b[1;33m(\u001b[0m\u001b[1;33m-\u001b[0m\u001b[1;36m5.0\u001b[0m\u001b[1;33m,\u001b[0m \u001b[1;36m6\u001b[0m\u001b[1;33m,\u001b[0m \u001b[0mplot_step\u001b[0m\u001b[1;33m)\u001b[0m\u001b[1;33m.\u001b[0m\u001b[0mreshape\u001b[0m\u001b[1;33m(\u001b[0m\u001b[1;33m-\u001b[0m\u001b[1;36m1\u001b[0m\u001b[1;33m,\u001b[0m\u001b[1;36m1\u001b[0m\u001b[1;33m)\u001b[0m\u001b[1;33m\u001b[0m\u001b[0m\n\u001b[0m\u001b[1;32m      5\u001b[0m \u001b[0mprototypes\u001b[0m \u001b[1;33m=\u001b[0m \u001b[0mnp\u001b[0m\u001b[1;33m.\u001b[0m\u001b[0marray\u001b[0m\u001b[1;33m(\u001b[0m\u001b[1;33m[\u001b[0m\u001b[1;33m-\u001b[0m\u001b[1;36m4\u001b[0m\u001b[1;33m,\u001b[0m\u001b[1;33m-\u001b[0m\u001b[1;36m1\u001b[0m\u001b[1;33m,\u001b[0m\u001b[1;36m0\u001b[0m\u001b[1;33m,\u001b[0m\u001b[1;36m2\u001b[0m\u001b[1;33m]\u001b[0m\u001b[1;33m)\u001b[0m\u001b[1;33m.\u001b[0m\u001b[0mreshape\u001b[0m\u001b[1;33m(\u001b[0m\u001b[1;33m-\u001b[0m\u001b[1;36m1\u001b[0m\u001b[1;33m,\u001b[0m\u001b[1;36m1\u001b[0m\u001b[1;33m)\u001b[0m\u001b[1;33m\u001b[0m\u001b[0m\n\u001b[1;32m      6\u001b[0m \u001b[1;33m\u001b[0m\u001b[0m\n",
      "\u001b[0;31mNameError\u001b[0m: name 'np' is not defined"
     ]
    }
   ],
   "source": [
    "# PLot kernel machine functions\n",
    "\n",
    "plot_step = .01\n",
    "xpts = np.arange(-5.0, 6, plot_step).reshape(-1,1)\n",
    "prototypes = np.array([-4,-1,0,2]).reshape(-1,1)\n",
    "\n",
    "# Linear kernel\n",
    "y = linear_kernel(prototypes, xpts) \n",
    "for i in range(len(prototypes)):\n",
    "    label = \"Linear@\"+str(prototypes[i,:])\n",
    "    plt.plot(xpts, y[i,:], label=label)\n",
    "plt.legend(loc = 'best')\n",
    "plt.show() \n",
    " \n",
    " "
   ]
  },
  {
   "cell_type": "code",
   "execution_count": 7,
   "metadata": {
    "collapsed": false
   },
   "outputs": [
    {
     "ename": "NameError",
     "evalue": "name 'np' is not defined",
     "output_type": "error",
     "traceback": [
      "\u001b[0;31m---------------------------------------------------------------------------\u001b[0m",
      "\u001b[0;31mNameError\u001b[0m                                 Traceback (most recent call last)",
      "\u001b[0;32m<ipython-input-7-fec63424dbb2>\u001b[0m in \u001b[0;36m<module>\u001b[0;34m()\u001b[0m\n\u001b[0;32m----> 1\u001b[0;31m \u001b[0mprototypes\u001b[0m \u001b[1;33m=\u001b[0m \u001b[0mnp\u001b[0m\u001b[1;33m.\u001b[0m\u001b[0marray\u001b[0m\u001b[1;33m(\u001b[0m\u001b[1;33m[\u001b[0m\u001b[1;33m-\u001b[0m\u001b[1;36m4\u001b[0m\u001b[1;33m,\u001b[0m\u001b[1;33m-\u001b[0m\u001b[1;36m1\u001b[0m\u001b[1;33m,\u001b[0m\u001b[1;36m0\u001b[0m\u001b[1;33m,\u001b[0m\u001b[1;36m2\u001b[0m\u001b[1;33m]\u001b[0m\u001b[1;33m)\u001b[0m\u001b[1;33m.\u001b[0m\u001b[0mreshape\u001b[0m\u001b[1;33m(\u001b[0m\u001b[1;33m-\u001b[0m\u001b[1;36m1\u001b[0m\u001b[1;33m,\u001b[0m\u001b[1;36m1\u001b[0m\u001b[1;33m)\u001b[0m\u001b[1;33m\u001b[0m\u001b[0m\n\u001b[0m\u001b[1;32m      2\u001b[0m \u001b[0mlinear_kernel\u001b[0m\u001b[1;33m(\u001b[0m\u001b[0mprototypes\u001b[0m\u001b[1;33m,\u001b[0m\u001b[0mprototypes\u001b[0m\u001b[1;33m)\u001b[0m\u001b[1;33m\u001b[0m\u001b[0m\n",
      "\u001b[0;31mNameError\u001b[0m: name 'np' is not defined"
     ]
    }
   ],
   "source": [
    "prototypes = np.array([-4,-1,0,2]).reshape(-1,1)\n",
    "linear_kernel(prototypes,prototypes)"
   ]
  },
  {
   "cell_type": "markdown",
   "metadata": {
    "collapsed": true,
    "deletable": true,
    "editable": true
   },
   "source": [
    "**8.2.3**"
   ]
  },
  {
   "cell_type": "code",
   "execution_count": 4,
   "metadata": {
    "collapsed": true,
    "deletable": true,
    "editable": true
   },
   "outputs": [],
   "source": [
    "#initialize data set \n",
    "plot_step = 0.1\n",
    "xpts = np.arange(-6.0, 6.0, plot_step).reshape(-1,1)\n",
    "set_D = np.array([[-4,2],[-1,0],[0,3],[2,5]])\n",
    "prototypes = np.zeros(len(set_D))\n",
    "for i in range(len(set_D)):\n",
    "    prototypes[i] = float(set_D[i][0])\n",
    "prototypes = prototypes.reshape(-1,1)"
   ]
  },
  {
   "cell_type": "markdown",
   "metadata": {
    "deletable": true,
    "editable": true
   },
   "source": [
    "8.2.3.(a)"
   ]
  },
  {
   "cell_type": "code",
   "execution_count": 5,
   "metadata": {
    "collapsed": false,
    "deletable": true,
    "editable": true,
    "scrolled": true
   },
   "outputs": [
    {
     "data": {
      "image/png": "[encoded data removed]",
      "text/plain": [
       "<matplotlib.figure.Figure at 0x109a89588>"
      ]
     },
     "metadata": {},
     "output_type": "display_data"
    }
   ],
   "source": [
    "#linear kernel\n",
    "y = linear_kernel(prototypes, xpts)\n",
    "for i in range(len(prototypes)):\n",
    "    label = \"Linear@\"+str(prototypes[i,:])\n",
    "    plt.plot(xpts, y[i,:], label = label)\n",
    "plt.legend(loc = 'best')\n",
    "plt.show()"
   ]
  },
  {
   "cell_type": "markdown",
   "metadata": {
    "deletable": true,
    "editable": true
   },
   "source": [
    "8.2.3.(b)"
   ]
  },
  {
   "cell_type": "code",
   "execution_count": 6,
   "metadata": {
    "collapsed": false,
    "deletable": true,
    "editable": true,
    "scrolled": true
   },
   "outputs": [
    {
     "data": {
      "image/png": "[encoded data removed]",
      "text/plain": [
       "<matplotlib.figure.Figure at 0x10996c470>"
      ]
     },
     "metadata": {},
     "output_type": "display_data"
    }
   ],
   "source": [
    "#poly kernel(1,3)\n",
    "y = polynomial_kernel(prototypes, xpts, 1, 3)\n",
    "for i in range(len(prototypes)):\n",
    "    label = \"Linear@\"+str(prototypes[i,:])\n",
    "    plt.plot(xpts, y[i,:], label = label)\n",
    "plt.legend(loc = 'best')\n",
    "plt.show()"
   ]
  },
  {
   "cell_type": "markdown",
   "metadata": {
    "deletable": true,
    "editable": true
   },
   "source": [
    "8.2.3.(c)"
   ]
  },
  {
   "cell_type": "code",
   "execution_count": 7,
   "metadata": {
    "collapsed": false,
    "deletable": true,
    "editable": true
   },
   "outputs": [
    {
     "data": {
      "image/png": "[encoded data removed]",
      "text/plain": [
       "<matplotlib.figure.Figure at 0x109a2a048>"
      ]
     },
     "metadata": {},
     "output_type": "display_data"
    }
   ],
   "source": [
    "y = RBF_kernel(prototypes, xpts, 1)\n",
    "for i in range(len(prototypes)):\n",
    "    label = \"Linear@\"+str(prototypes[i,:])\n",
    "    plt.plot(xpts, y[i,:], label = label)\n",
    "plt.legend(loc = 'best')\n",
    "plt.show()"
   ]
  },
  {
   "cell_type": "markdown",
   "metadata": {
    "collapsed": true,
    "deletable": true,
    "editable": true
   },
   "source": [
    "**8.2.4**"
   ]
  },
  {
   "cell_type": "code",
   "execution_count": 8,
   "metadata": {
    "collapsed": false,
    "deletable": true,
    "editable": true
   },
   "outputs": [],
   "source": [
    "class Kernel_Machine(object):\n",
    "    def __init__(self, kernel, prototype_points, weights):\n",
    "        \"\"\"\n",
    "        Args:\n",
    "            kernel(W,X) - a function return the cross-kernel matrix between rows of W and rows of X for kernel k\n",
    "            prototype_points - an Rxd matrix with rows mu_1,...,mu_R\n",
    "            weights - a vector of length R\n",
    "        \"\"\"\n",
    "\n",
    "        self.kernel = kernel\n",
    "        self.prototype_points = prototype_points\n",
    "        self.weights = weights\n",
    "        \n",
    "    def predict(self, X):\n",
    "        \"\"\"\n",
    "        Evaluates the kernel machine on the points given by the rows of X\n",
    "        Args:\n",
    "            X - an nxd matrix with inputs x_1,...,x_n in the rows\n",
    "        Returns:\n",
    "            Vector of kernel machine evaluations on the n points in X.  Specifically, jth entry of return vector is\n",
    "                Sum_{i=1}^R w_i k(x_j, mu_i)\n",
    "        \"\"\"\n",
    "        # TODO\n",
    "        \n",
    "        y = np.zeros(len(X)).reshape(-1,1)\n",
    "        for i in range(len(y)):\n",
    "            y[i] = np.inner(self.weights, self.kernel(X,self.prototype_points)[i]) \n",
    "        return y\n",
    "        "
   ]
  },
  {
   "cell_type": "code",
   "execution_count": 9,
   "metadata": {
    "collapsed": false,
    "deletable": true,
    "editable": true
   },
   "outputs": [],
   "source": [
    "pp = np.array([-1,0,1]).reshape(-1,1)\n",
    "W = np.array([1,-1,1])\n",
    "sigma = 1\n",
    "k = functools.partial(RBF_kernel, sigma=sigma)\n",
    "emp = Kernel_Machine(k ,pp, W)"
   ]
  },
  {
   "cell_type": "code",
   "execution_count": 10,
   "metadata": {
    "collapsed": false,
    "deletable": true,
    "editable": true,
    "scrolled": false
   },
   "outputs": [],
   "source": [
    "plot_step = 0.1\n",
    "xpts = np.arange(-6.0, 6.0, plot_step).reshape(-1,1)\n"
   ]
  },
  {
   "cell_type": "code",
   "execution_count": 11,
   "metadata": {
    "collapsed": false,
    "deletable": true,
    "editable": true
   },
   "outputs": [
    {
     "name": "stderr",
     "output_type": "stream",
     "text": [
      "/Library/Frameworks/Python.framework/Versions/3.6/lib/python3.6/site-packages/matplotlib/axes/_axes.py:545: UserWarning: No labelled objects found. Use label='...' kwarg on individual plots.\n",
      "  warnings.warn(\"No labelled objects found. \"\n"
     ]
    },
    {
     "data": {
      "image/png": "[encoded data removed]",
      "text/plain": [
       "<matplotlib.figure.Figure at 0x109d09198>"
      ]
     },
     "metadata": {},
     "output_type": "display_data"
    }
   ],
   "source": [
    "plt.plot(xpts, emp.predict(xpts))\n",
    "plt.legend(loc = 'best')\n",
    "plt.show()"
   ]
  },
  {
   "cell_type": "markdown",
   "metadata": {
    "deletable": true,
    "editable": true
   },
   "source": [
    "**8.3. Kernel Ridge Regression**"
   ]
  },
  {
   "cell_type": "code",
   "execution_count": 12,
   "metadata": {
    "collapsed": true,
    "deletable": true,
    "editable": true
   },
   "outputs": [],
   "source": [
    "data_train,data_test = np.loadtxt(\"krr-train.txt\"),np.loadtxt(\"krr-test.txt\")\n",
    "x_train, y_train = data_train[:,0].reshape(-1,1),data_train[:,1].reshape(-1,1)\n",
    "x_test, y_test = data_test[:,0].reshape(-1,1),data_test[:,1].reshape(-1,1)"
   ]
  },
  {
   "cell_type": "markdown",
   "metadata": {
    "deletable": true,
    "editable": true
   },
   "source": [
    "**8.3.1**<br/>\n",
    "From scatter plots, we can easily find that relationship between x and y is not linear."
   ]
  },
  {
   "cell_type": "code",
   "execution_count": 13,
   "metadata": {
    "collapsed": false,
    "deletable": true,
    "editable": true,
    "scrolled": true
   },
   "outputs": [
    {
     "name": "stdout",
     "output_type": "stream",
     "text": [
      "(100, 1) (100, 1) (50, 1) (50, 1)\n"
     ]
    }
   ],
   "source": [
    "print(x_train.shape, y_train.shape, x_test.shape, y_test.shape)"
   ]
  },
  {
   "cell_type": "code",
   "execution_count": 14,
   "metadata": {
    "collapsed": false,
    "deletable": true,
    "editable": true
   },
   "outputs": [
    {
     "data": {
      "text/plain": [
       "[<matplotlib.lines.Line2D at 0x10a081b00>]"
      ]
     },
     "execution_count": 14,
     "metadata": {},
     "output_type": "execute_result"
    },
    {
     "data": {
      "image/png": "[encoded data removed]",
      "text/plain": [
       "<matplotlib.figure.Figure at 0x109a2a320>"
      ]
     },
     "metadata": {},
     "output_type": "display_data"
    }
   ],
   "source": [
    "plt.plot(x_train,y_train,'o')"
   ]
  },
  {
   "cell_type": "code",
   "execution_count": 15,
   "metadata": {
    "collapsed": false,
    "deletable": true,
    "editable": true
   },
   "outputs": [
    {
     "data": {
      "text/plain": [
       "[<matplotlib.lines.Line2D at 0x10a180898>]"
      ]
     },
     "execution_count": 15,
     "metadata": {},
     "output_type": "execute_result"
    },
    {
     "data": {
      "image/png": "[encoded data removed]",
      "text/plain": [
       "<matplotlib.figure.Figure at 0x10a0b55f8>"
      ]
     },
     "metadata": {},
     "output_type": "display_data"
    }
   ],
   "source": [
    "plt.plot(x_test,y_test,'o')"
   ]
  },
  {
   "cell_type": "markdown",
   "metadata": {
    "deletable": true,
    "editable": true
   },
   "source": [
    "**8.3.2**<br/>"
   ]
  },
  {
   "cell_type": "code",
   "execution_count": 16,
   "metadata": {
    "collapsed": true,
    "deletable": true,
    "editable": true
   },
   "outputs": [],
   "source": [
    "def train_kernel_ridge_regression(X, y, kernel, l2reg):\n",
    "    \n",
    "    K_result = kernel(X,X)\n",
    "    alpha = np.dot(np.linalg.inv(np.identity(X.shape[0])*l2reg + K_result), y)\n",
    "    \n",
    "    return Kernel_Machine(kernel, X, alpha.reshape(-1,))"
   ]
  },
  {
   "cell_type": "markdown",
   "metadata": {
    "deletable": true,
    "editable": true
   },
   "source": [
    "**8.3.3**"
   ]
  },
  {
   "cell_type": "code",
   "execution_count": 17,
   "metadata": {
    "collapsed": false,
    "deletable": true,
    "editable": true,
    "scrolled": false
   },
   "outputs": [
    {
     "name": "stdout",
     "output_type": "stream",
     "text": [
      "(1000, 1)\n"
     ]
    },
    {
     "data": {
      "image/png": "[encoded data removed]",
      "text/plain": [
       "<matplotlib.figure.Figure at 0x10a1a5128>"
      ]
     },
     "metadata": {},
     "output_type": "display_data"
    }
   ],
   "source": [
    "plot_step = .001\n",
    "xpts = np.arange(0 , 1, plot_step).reshape(-1,1)\n",
    "print(xpts.shape)\n",
    "plt.plot(x_train,y_train,'o')\n",
    "l2reg = 0.0001\n",
    "for sigma in [.01,.1,1]:\n",
    "    k = functools.partial(RBF_kernel, sigma=sigma)\n",
    "    f = train_kernel_ridge_regression(x_train, y_train, k, l2reg=l2reg)\n",
    "    label = \"Sigma=\"+str(sigma)+\",L2Reg=\"+str(l2reg)\n",
    "    plt.plot(xpts, f.predict(xpts), label=label)\n",
    "plt.legend(loc = 'best')\n",
    "plt.ylim(-1,1.5)\n",
    "plt.show()"
   ]
  },
  {
   "cell_type": "markdown",
   "metadata": {
    "deletable": true,
    "editable": true
   },
   "source": [
    "$\\sigma = 1$ fits weakly. $\\sigma =0.01$ is more likely to overfit."
   ]
  },
  {
   "cell_type": "markdown",
   "metadata": {
    "deletable": true,
    "editable": true
   },
   "source": [
    "**8.3.4**"
   ]
  },
  {
   "cell_type": "code",
   "execution_count": 18,
   "metadata": {
    "collapsed": false,
    "deletable": true,
    "editable": true
   },
   "outputs": [
    {
     "data": {
      "image/png": "[encoded data removed]",
      "text/plain": [
       "<matplotlib.figure.Figure at 0x10a39c6a0>"
      ]
     },
     "metadata": {},
     "output_type": "display_data"
    }
   ],
   "source": [
    "plot_step = .001\n",
    "xpts = np.arange(0 , 1, plot_step).reshape(-1,1)\n",
    "plt.plot(x_train,y_train,'o')\n",
    "sigma= .02\n",
    "for l2reg in [.0001,.01,0.1,2,100]:\n",
    "    k = functools.partial(RBF_kernel, sigma=sigma)\n",
    "    f = train_kernel_ridge_regression(x_train, y_train, k, l2reg=l2reg)\n",
    "    label = \"Sigma=\"+str(sigma)+\",L2Reg=\"+str(l2reg)\n",
    "    plt.plot(xpts, f.predict(xpts), label=label)\n",
    "    plt.plot(x_train,y_train,'o')\n",
    "    plt.ylim(-3,2)\n",
    "plt.legend(loc = 'best')\n",
    "plt.ylim(-3,2)\n",
    "plt.show()"
   ]
  },
  {
   "cell_type": "markdown",
   "metadata": {
    "collapsed": true,
    "deletable": true,
    "editable": true
   },
   "source": [
    "If $\\lambda \\rightarrow\\infty$, the fit line will become a striaght line without curve.  "
   ]
  },
  {
   "cell_type": "markdown",
   "metadata": {
    "collapsed": true,
    "deletable": true,
    "editable": true
   },
   "source": [
    "**8.3.5**"
   ]
  },
  {
   "cell_type": "code",
   "execution_count": 19,
   "metadata": {
    "collapsed": true,
    "deletable": true,
    "editable": true
   },
   "outputs": [],
   "source": [
    "from sklearn.base import BaseEstimator, RegressorMixin, ClassifierMixin\n",
    "\n",
    "class KernelRidgeRegression(BaseEstimator, RegressorMixin):  \n",
    "    \"\"\"sklearn wrapper for our kernel ridge regression\"\"\"\n",
    "     \n",
    "    def __init__(self, kernel=\"RBF\", sigma=1, degree=2, offset=1, l2reg=1):        \n",
    "        self.kernel = kernel\n",
    "        self.sigma = sigma\n",
    "        self.degree = degree\n",
    "        self.offset = offset\n",
    "        self.l2reg = l2reg \n",
    "\n",
    "    def fit(self, X, y=None):\n",
    "        \"\"\"\n",
    "        This should fit classifier. All the \"work\" should be done here.\n",
    "        \"\"\"\n",
    "        if (self.kernel == \"linear\"):\n",
    "            self.k = linear_kernel\n",
    "        elif (self.kernel == \"RBF\"):\n",
    "            self.k = functools.partial(RBF_kernel, sigma=self.sigma)\n",
    "        elif (self.kernel == \"polynomial\"):\n",
    "            self.k = functools.partial(polynomial_kernel, offset=self.offset, degree=self.degree)\n",
    "        else:\n",
    "            raise ValueError('Unrecognized kernel type requested.')\n",
    "        \n",
    "        self.kernel_machine_ = train_kernel_ridge_regression(X, y, self.k, self.l2reg)\n",
    "\n",
    "        return self\n",
    "\n",
    "    def predict(self, X, y=None):\n",
    "        try:\n",
    "            getattr(self, \"kernel_machine_\")\n",
    "        except AttributeError:\n",
    "            raise RuntimeError(\"You must train classifer before predicting data!\")\n",
    "\n",
    "        return(self.kernel_machine_.predict(X))\n",
    "\n",
    "    def score(self, X, y=None):\n",
    "        # get the average square error\n",
    "        return((self.predict(X)-y).mean()) "
   ]
  },
  {
   "cell_type": "code",
   "execution_count": 28,
   "metadata": {
    "collapsed": false,
    "deletable": true,
    "editable": true
   },
   "outputs": [],
   "source": [
    "from sklearn.model_selection import GridSearchCV,PredefinedSplit\n",
    "from sklearn.model_selection import ParameterGrid\n",
    "from sklearn.metrics import mean_squared_error,make_scorer\n",
    "import pandas as pd\n",
    "    \n",
    "test_fold = [-1]*len(x_train) + [0]*len(x_test)   #0 corresponds to test, -1 to train\n",
    "predefined_split = PredefinedSplit(test_fold=test_fold)"
   ]
  },
  {
   "cell_type": "code",
   "execution_count": 46,
   "metadata": {
    "collapsed": false,
    "deletable": true,
    "editable": true
   },
   "outputs": [
    {
     "data": {
      "text/plain": [
       "GridSearchCV(cv=PredefinedSplit(test_fold=array([-1, -1, ...,  0,  0])),\n",
       "       error_score='raise',\n",
       "       estimator=KernelRidgeRegression(degree=2, kernel='RBF', l2reg=1, offset=1, sigma=1),\n",
       "       fit_params={}, iid=True, n_jobs=1,\n",
       "       param_grid=[{'kernel': ['RBF'], 'sigma': array([ 0.08,  0.09,  0.1 ,  0.11]), 'l2reg': array([ 0.05,  0.06,  0.07])}, {'kernel': ['polynomial'], 'offset': array([-20, -19, -18, -17, -16, -15, -14, -13]), 'degree': array([ 4,  5,  6,  7,  8,  9, 10, 11, 12, 13, 14]), 'l2reg': array([ 0.    ,  0.0001,...[ 1. ,  1.2,  1.4,  1.6,  1.8,  2. ,  2.2,  2.4,  2.6,  2.8,  3. ,\n",
       "        3.2,  3.4,  3.6,  3.8])}],\n",
       "       pre_dispatch='2*n_jobs', refit=True, return_train_score=True,\n",
       "       scoring=make_scorer(mean_squared_error, greater_is_better=False),\n",
       "       verbose=0)"
      ]
     },
     "execution_count": 46,
     "metadata": {},
     "output_type": "execute_result"
    }
   ],
   "source": [
    "param_grid = [{'kernel': ['RBF'],'sigma':np.arange(0.08,0.12,0.01), 'l2reg': np.arange(0.05,0.07,0.01)},\n",
    "              {'kernel':['polynomial'],'offset':np.arange(-20,-12,1), 'degree':np.arange(4,15,1),'l2reg':np.arange(0,0.001,0.0001) },\n",
    "              {'kernel':['linear'],'l2reg': np.arange(1,4,0.2)}]\n",
    "kernel_ridge_regression_estimator = KernelRidgeRegression()\n",
    "grid = GridSearchCV(kernel_ridge_regression_estimator, \n",
    "                    param_grid,\n",
    "                    cv = predefined_split,\n",
    "                    scoring = make_scorer(mean_squared_error,greater_is_better = False)\n",
    "                  # n_jobs = -1  #should allow parallelism, but crashes Python on my machine\n",
    "                   )\n",
    "grid.fit(np.vstack((x_train,x_test)),np.vstack((y_train,y_test))) "
   ]
  },
  {
   "cell_type": "code",
   "execution_count": 47,
   "metadata": {
    "collapsed": false,
    "deletable": true,
    "editable": true,
    "scrolled": true
   },
   "outputs": [
    {
     "data": {
      "text/html": [
       "<div>\n",
       "<table border=\"1\" class=\"dataframe\">\n",
       "  <thead>\n",
       "    <tr style=\"text-align: right;\">\n",
       "      <th></th>\n",
       "      <th>param_degree</th>\n",
       "      <th>param_kernel</th>\n",
       "      <th>param_l2reg</th>\n",
       "      <th>param_offset</th>\n",
       "      <th>param_sigma</th>\n",
       "      <th>mean_test_score</th>\n",
       "      <th>mean_train_score</th>\n",
       "    </tr>\n",
       "  </thead>\n",
       "  <tbody>\n",
       "    <tr>\n",
       "      <th>0</th>\n",
       "      <td>-</td>\n",
       "      <td>RBF</td>\n",
       "      <td>0.0500</td>\n",
       "      <td>-</td>\n",
       "      <td>0.08</td>\n",
       "      <td>1.482865e-02</td>\n",
       "      <td>0.016365</td>\n",
       "    </tr>\n",
       "    <tr>\n",
       "      <th>4</th>\n",
       "      <td>-</td>\n",
       "      <td>RBF</td>\n",
       "      <td>0.0600</td>\n",
       "      <td>-</td>\n",
       "      <td>0.08</td>\n",
       "      <td>1.514361e-02</td>\n",
       "      <td>0.016800</td>\n",
       "    </tr>\n",
       "    <tr>\n",
       "      <th>8</th>\n",
       "      <td>-</td>\n",
       "      <td>RBF</td>\n",
       "      <td>0.0700</td>\n",
       "      <td>-</td>\n",
       "      <td>0.08</td>\n",
       "      <td>1.544700e-02</td>\n",
       "      <td>0.017194</td>\n",
       "    </tr>\n",
       "    <tr>\n",
       "      <th>1</th>\n",
       "      <td>-</td>\n",
       "      <td>RBF</td>\n",
       "      <td>0.0500</td>\n",
       "      <td>-</td>\n",
       "      <td>0.09</td>\n",
       "      <td>1.788270e-02</td>\n",
       "      <td>0.019824</td>\n",
       "    </tr>\n",
       "    <tr>\n",
       "      <th>5</th>\n",
       "      <td>-</td>\n",
       "      <td>RBF</td>\n",
       "      <td>0.0600</td>\n",
       "      <td>-</td>\n",
       "      <td>0.09</td>\n",
       "      <td>1.832632e-02</td>\n",
       "      <td>0.020307</td>\n",
       "    </tr>\n",
       "    <tr>\n",
       "      <th>9</th>\n",
       "      <td>-</td>\n",
       "      <td>RBF</td>\n",
       "      <td>0.0700</td>\n",
       "      <td>-</td>\n",
       "      <td>0.09</td>\n",
       "      <td>1.870357e-02</td>\n",
       "      <td>0.020711</td>\n",
       "    </tr>\n",
       "    <tr>\n",
       "      <th>2</th>\n",
       "      <td>-</td>\n",
       "      <td>RBF</td>\n",
       "      <td>0.0500</td>\n",
       "      <td>-</td>\n",
       "      <td>0.1</td>\n",
       "      <td>2.082755e-02</td>\n",
       "      <td>0.022830</td>\n",
       "    </tr>\n",
       "    <tr>\n",
       "      <th>6</th>\n",
       "      <td>-</td>\n",
       "      <td>RBF</td>\n",
       "      <td>0.0600</td>\n",
       "      <td>-</td>\n",
       "      <td>0.1</td>\n",
       "      <td>2.118657e-02</td>\n",
       "      <td>0.023169</td>\n",
       "    </tr>\n",
       "    <tr>\n",
       "      <th>10</th>\n",
       "      <td>-</td>\n",
       "      <td>RBF</td>\n",
       "      <td>0.0700</td>\n",
       "      <td>-</td>\n",
       "      <td>0.1</td>\n",
       "      <td>2.150582e-02</td>\n",
       "      <td>0.023457</td>\n",
       "    </tr>\n",
       "    <tr>\n",
       "      <th>3</th>\n",
       "      <td>-</td>\n",
       "      <td>RBF</td>\n",
       "      <td>0.0500</td>\n",
       "      <td>-</td>\n",
       "      <td>0.11</td>\n",
       "      <td>2.296707e-02</td>\n",
       "      <td>0.024639</td>\n",
       "    </tr>\n",
       "    <tr>\n",
       "      <th>...</th>\n",
       "      <td>...</td>\n",
       "      <td>...</td>\n",
       "      <td>...</td>\n",
       "      <td>...</td>\n",
       "      <td>...</td>\n",
       "      <td>...</td>\n",
       "      <td>...</td>\n",
       "    </tr>\n",
       "    <tr>\n",
       "      <th>561</th>\n",
       "      <td>10</td>\n",
       "      <td>polynomial</td>\n",
       "      <td>0.0008</td>\n",
       "      <td>-15</td>\n",
       "      <td>-</td>\n",
       "      <td>6.286127e+03</td>\n",
       "      <td>5214.604860</td>\n",
       "    </tr>\n",
       "    <tr>\n",
       "      <th>499</th>\n",
       "      <td>10</td>\n",
       "      <td>polynomial</td>\n",
       "      <td>0.0000</td>\n",
       "      <td>-13</td>\n",
       "      <td>-</td>\n",
       "      <td>8.096191e+03</td>\n",
       "      <td>8229.864669</td>\n",
       "    </tr>\n",
       "    <tr>\n",
       "      <th>634</th>\n",
       "      <td>11</td>\n",
       "      <td>polynomial</td>\n",
       "      <td>0.0007</td>\n",
       "      <td>-14</td>\n",
       "      <td>-</td>\n",
       "      <td>1.342509e+04</td>\n",
       "      <td>13462.649754</td>\n",
       "    </tr>\n",
       "    <tr>\n",
       "      <th>551</th>\n",
       "      <td>10</td>\n",
       "      <td>polynomial</td>\n",
       "      <td>0.0007</td>\n",
       "      <td>-17</td>\n",
       "      <td>-</td>\n",
       "      <td>1.447021e+04</td>\n",
       "      <td>10412.977957</td>\n",
       "    </tr>\n",
       "    <tr>\n",
       "      <th>559</th>\n",
       "      <td>10</td>\n",
       "      <td>polynomial</td>\n",
       "      <td>0.0008</td>\n",
       "      <td>-17</td>\n",
       "      <td>-</td>\n",
       "      <td>1.447021e+04</td>\n",
       "      <td>10412.977957</td>\n",
       "    </tr>\n",
       "    <tr>\n",
       "      <th>497</th>\n",
       "      <td>10</td>\n",
       "      <td>polynomial</td>\n",
       "      <td>0.0000</td>\n",
       "      <td>-15</td>\n",
       "      <td>-</td>\n",
       "      <td>1.227217e+05</td>\n",
       "      <td>67398.676228</td>\n",
       "    </tr>\n",
       "    <tr>\n",
       "      <th>547</th>\n",
       "      <td>10</td>\n",
       "      <td>polynomial</td>\n",
       "      <td>0.0006</td>\n",
       "      <td>-13</td>\n",
       "      <td>-</td>\n",
       "      <td>1.734013e+05</td>\n",
       "      <td>207475.474699</td>\n",
       "    </tr>\n",
       "    <tr>\n",
       "      <th>533</th>\n",
       "      <td>10</td>\n",
       "      <td>polynomial</td>\n",
       "      <td>0.0005</td>\n",
       "      <td>-19</td>\n",
       "      <td>-</td>\n",
       "      <td>1.073226e+06</td>\n",
       "      <td>61876.983557</td>\n",
       "    </tr>\n",
       "    <tr>\n",
       "      <th>541</th>\n",
       "      <td>10</td>\n",
       "      <td>polynomial</td>\n",
       "      <td>0.0006</td>\n",
       "      <td>-19</td>\n",
       "      <td>-</td>\n",
       "      <td>1.073226e+06</td>\n",
       "      <td>61876.983557</td>\n",
       "    </tr>\n",
       "    <tr>\n",
       "      <th>549</th>\n",
       "      <td>10</td>\n",
       "      <td>polynomial</td>\n",
       "      <td>0.0007</td>\n",
       "      <td>-19</td>\n",
       "      <td>-</td>\n",
       "      <td>1.073226e+06</td>\n",
       "      <td>61876.983557</td>\n",
       "    </tr>\n",
       "  </tbody>\n",
       "</table>\n",
       "<p>907 rows × 7 columns</p>\n",
       "</div>"
      ],
      "text/plain": [
       "    param_degree param_kernel  param_l2reg param_offset param_sigma  \\\n",
       "0              -          RBF       0.0500            -        0.08   \n",
       "4              -          RBF       0.0600            -        0.08   \n",
       "8              -          RBF       0.0700            -        0.08   \n",
       "1              -          RBF       0.0500            -        0.09   \n",
       "5              -          RBF       0.0600            -        0.09   \n",
       "9              -          RBF       0.0700            -        0.09   \n",
       "2              -          RBF       0.0500            -         0.1   \n",
       "6              -          RBF       0.0600            -         0.1   \n",
       "10             -          RBF       0.0700            -         0.1   \n",
       "3              -          RBF       0.0500            -        0.11   \n",
       "..           ...          ...          ...          ...         ...   \n",
       "561           10   polynomial       0.0008          -15           -   \n",
       "499           10   polynomial       0.0000          -13           -   \n",
       "634           11   polynomial       0.0007          -14           -   \n",
       "551           10   polynomial       0.0007          -17           -   \n",
       "559           10   polynomial       0.0008          -17           -   \n",
       "497           10   polynomial       0.0000          -15           -   \n",
       "547           10   polynomial       0.0006          -13           -   \n",
       "533           10   polynomial       0.0005          -19           -   \n",
       "541           10   polynomial       0.0006          -19           -   \n",
       "549           10   polynomial       0.0007          -19           -   \n",
       "\n",
       "     mean_test_score  mean_train_score  \n",
       "0       1.482865e-02          0.016365  \n",
       "4       1.514361e-02          0.016800  \n",
       "8       1.544700e-02          0.017194  \n",
       "1       1.788270e-02          0.019824  \n",
       "5       1.832632e-02          0.020307  \n",
       "9       1.870357e-02          0.020711  \n",
       "2       2.082755e-02          0.022830  \n",
       "6       2.118657e-02          0.023169  \n",
       "10      2.150582e-02          0.023457  \n",
       "3       2.296707e-02          0.024639  \n",
       "..               ...               ...  \n",
       "561     6.286127e+03       5214.604860  \n",
       "499     8.096191e+03       8229.864669  \n",
       "634     1.342509e+04      13462.649754  \n",
       "551     1.447021e+04      10412.977957  \n",
       "559     1.447021e+04      10412.977957  \n",
       "497     1.227217e+05      67398.676228  \n",
       "547     1.734013e+05     207475.474699  \n",
       "533     1.073226e+06      61876.983557  \n",
       "541     1.073226e+06      61876.983557  \n",
       "549     1.073226e+06      61876.983557  \n",
       "\n",
       "[907 rows x 7 columns]"
      ]
     },
     "execution_count": 47,
     "metadata": {},
     "output_type": "execute_result"
    }
   ],
   "source": [
    "pd.set_option('display.max_rows', 20)\n",
    "df = pd.DataFrame(grid.cv_results_)\n",
    "# Flip sign of score back, because GridSearchCV likes to maximize,\n",
    "# so it flips the sign of the score if \"greater_is_better=FALSE\"\n",
    "df['mean_test_score'] = -df['mean_test_score']\n",
    "df['mean_train_score'] = -df['mean_train_score']\n",
    "cols_to_keep = [\"param_degree\", \"param_kernel\",\"param_l2reg\" ,\"param_offset\",\"param_sigma\",\n",
    "        \"mean_test_score\",\"mean_train_score\"]\n",
    "df_toshow = df[cols_to_keep].fillna('-')\n",
    "df_toshow.sort_values(by=[\"mean_test_score\"])"
   ]
  },
  {
   "cell_type": "code",
   "execution_count": 48,
   "metadata": {
    "collapsed": false,
    "deletable": true,
    "editable": true
   },
   "outputs": [
    {
     "data": {
      "application/vnd.jupyter.widget-view+json": {
       "model_id": "03e6905e246940bc90942cc63c9dde2f"
      }
     },
     "metadata": {},
     "output_type": "display_data"
    }
   ],
   "source": [
    "# Can be a more convenient way to look at the table\n",
    "import qgrid \n",
    "qgrid.nbinstall(overwrite=True)  # copies javascript dependencies to your /nbextensions folderd_toshow = df[show].fillna('-')\n",
    "qgrid.show_grid(df_toshow)"
   ]
  },
  {
   "cell_type": "code",
   "execution_count": 49,
   "metadata": {
    "collapsed": false,
    "deletable": true,
    "editable": true
   },
   "outputs": [
    {
     "data": {
      "application/vnd.jupyter.widget-view+json": {
       "model_id": "f51bd2db394a43c191ab623600465808"
      }
     },
     "metadata": {},
     "output_type": "display_data"
    }
   ],
   "source": [
    "# Can be a more convenient way to look at the table\n",
    "import qgrid \n",
    "qgrid.nbinstall(overwrite=True)  # copies javascript dependencies to your /nbextensions folderd_toshow = df[show].fillna('-')\n",
    "qgrid.show_grid(df_toshow)"
   ]
  },
  {
   "cell_type": "code",
   "execution_count": 51,
   "metadata": {
    "collapsed": false,
    "deletable": true,
    "editable": true
   },
   "outputs": [
    {
     "data": {
      "application/vnd.jupyter.widget-view+json": {
       "model_id": "8126e9834be140e4912fc87b057a69f8"
      }
     },
     "metadata": {},
     "output_type": "display_data"
    }
   ],
   "source": [
    "# Can be a more convenient way to look at the table\n",
    "import qgrid \n",
    "qgrid.nbinstall(overwrite=True)  # copies javascript dependencies to your /nbextensions folderd_toshow = df[show].fillna('-')\n",
    "qgrid.show_grid(df_toshow)"
   ]
  },
  {
   "cell_type": "markdown",
   "metadata": {
    "deletable": true,
    "editable": true
   },
   "source": [
    "From 3 tables above , we can clealy find that sigma=0.08, l2reg=0.05 is the best for RBF,  offset=-20 degree=8 l2reg=0.0003 is the best for polynomial and l2reg=2.8 is the best for linear. RBF performs best. "
   ]
  },
  {
   "cell_type": "markdown",
   "metadata": {
    "collapsed": true,
    "deletable": true,
    "editable": true
   },
   "source": [
    "**8.3.6**"
   ]
  },
  {
   "cell_type": "code",
   "execution_count": 53,
   "metadata": {
    "collapsed": false,
    "deletable": true,
    "editable": true,
    "scrolled": true
   },
   "outputs": [
    {
     "data": {
      "image/png": "[encoded data removed]",
      "text/plain": [
       "<matplotlib.figure.Figure at 0x10b0f2240>"
      ]
     },
     "metadata": {},
     "output_type": "display_data"
    }
   ],
   "source": [
    "## Plot the best polynomial and RBF fits you found\n",
    "plot_step = .01\n",
    "xpts = np.arange(-.5 , 1.5, plot_step).reshape(-1,1)\n",
    "plt.plot(x_train,y_train,'o')\n",
    "#Plot best polynomial fit\n",
    "offset= -20\n",
    "degree = 8\n",
    "l2reg = 0.0003\n",
    "k = functools.partial(polynomial_kernel, offset=offset, degree=degree)\n",
    "f = train_kernel_ridge_regression(x_train, y_train, k, l2reg=l2reg)\n",
    "label = \"Offset=\"+str(offset)+\",Degree=\"+str(degree)+\",L2Reg=\"+str(l2reg)\n",
    "plt.plot(xpts, f.predict(xpts), label=label)\n",
    "#Plot best RBF fit\n",
    "sigma = 0.1\n",
    "l2reg= 0.06\n",
    "k = functools.partial(RBF_kernel, sigma=sigma)\n",
    "f = train_kernel_ridge_regression(x_train, y_train, k, l2reg=l2reg)\n",
    "label = \"Sigma=\"+str(sigma)+\",L2Reg=\"+str(l2reg)\n",
    "plt.plot(xpts, f.predict(xpts), label=label)\n",
    "plt.legend(loc = 'best')\n",
    "plt.ylim(-1,1.75)\n",
    "plt.show()"
   ]
  },
  {
   "cell_type": "markdown",
   "metadata": {
    "collapsed": true,
    "deletable": true,
    "editable": true
   },
   "source": [
    "From the graph we can see that the RBF fits data better. My speculation for this phenomenon is that RBF has infinity norms which makes it more flexible and sensetive to data, while the polynomial's degree is fixed."
   ]
  },
  {
   "cell_type": "markdown",
   "metadata": {
    "deletable": true,
    "editable": true
   },
   "source": [
    "**8.3.7**"
   ]
  },
  {
   "cell_type": "markdown",
   "metadata": {
    "deletable": true,
    "editable": true
   },
   "source": [
    "Since the empirical loss is \n",
    "$$El(\\hat y,y) = E(\\hat y-y)^{2}$$\n",
    "$$ = \\hat y^{2} - 2\\hat yEy + Ey^{2}$$\n",
    "A minimizer for this is $\\hat y = Ey$. So we have the Bayes decision function as \n",
    "$$\\hat y^{2}(x) = E(y|x) = E(f(x)+\\epsilon) = f(x)$$\n",
    "Now Given X, the Bayes error rate is \n",
    "$$E[l(\\hat y - y)|x] = E(y|x)^{2} - E^{2}(y|x)$$\n",
    "$$ = Var(y|x)$$\n",
    "$$ = Var(f(x)+\\epsilon)$$\n",
    "$$ = Var(\\epsilon)$$\n",
    "$$ = 0.1$$"
   ]
  },
  {
   "cell_type": "markdown",
   "metadata": {
    "deletable": true,
    "editable": true
   },
   "source": [
    "**9 Representer Theorem [Optional]**"
   ]
  },
  {
   "cell_type": "markdown",
   "metadata": {
    "deletable": true,
    "editable": true
   },
   "source": [
    "**9.1**\n",
    "\n",
    "Since\n",
    "$$||x-m_{0}||^{2}\\geq 0 $$\n",
    "if \n",
    "$$||x|| = ||m_{0}||$$\n",
    "then $||x-m_{0}||^{2}$ must equal to zero, and we have\n",
    "$$||x-m_{0}||^{2} = <x-m_{0},x-m_{0}> = 0$$\n",
    "$$<x-m_{0},x-m_{0}> = 0$$\n",
    "$$x-m_{0} = 0$$\n",
    "$$x = m_{0}$$\n",
    "\n"
   ]
  },
  {
   "cell_type": "markdown",
   "metadata": {
    "deletable": true,
    "editable": true
   },
   "source": [
    "**9.2**\n",
    "\n",
    "Let $w^{*}$ be a minimizer and let M span $(\\Phi(x_{1}), ... , \\Phi(x_{n})$. Set $w = Proj_{M}^{w^{*}}$.  from 8.1 \"kernel trick\", we can say that $\\exists\\alpha, s.t. w = \\Sigma^{n}_{i=1}\\alpha_{i}\\Psi(x_{i})$<br/>\n",
    "then for every $w^{\\bot} = w^{*} - w$ is orthogonal to $M$,<br/>\n",
    "Since $w = Proj_{M}^{w^{*}}$. From the definition of projection, we always have $||w|| \\leq ||w^{*}||$<br/>\n",
    "if $||w|| = ||w^{*}||$, from the result of 9.1, we always have $w=w^{*}$. In words, $w^{*}$ is in the span of data. Then we can say that $w^{*}$ always has claimed form.<br/>\n",
    "if $||w|| < ||w^{*}||$<br/>\n",
    "Since R is strictly increasing, we have $R(||w^{*}||) > R(||w||)$. And from $w^{\\bot} + w = w^{*}$, we have \n",
    "$$L(<w^{*},\\Psi(x_{1})>, ... , < w^{*},\\Psi(x_{n})>)$$\n",
    "$$ = L(<w+w^{\\bot},\\Psi(x_{1})>, ... , < w+w^{\\bot},\\Psi(x_{n})>)$$\n",
    "Since $w^{\\bot}$ is always orthogonal to M,\n",
    "$$ L(<w,\\Psi(x_{1})>, ... , < w,\\Psi(x_{n})>)$$\n",
    "$$ = L(<w^{*},\\Psi(x_{1})>, ... , < w^{*},\\Psi(x_{n})>)$$\n",
    "then we have \n",
    "$$ J(w) < J(w^{*})$$\n",
    "then for any $w^{*} \\notin M$, we have $J(w) < J(w^{*})$\n",
    "And we know \n",
    "$$ L(<w,\\Psi(x_{1})>, ... , < w,\\Psi(x_{n})>)+  R(||w||) = J(w)$$\n",
    "we can say $w$ and $w^{*}$ both are minimizer of $J(w)$. Since R is strictly increasing and $J(w) < J(w^{*})$, $w^{*}$ always has claimed form.\n"
   ]
  },
  {
   "cell_type": "markdown",
   "metadata": {
    "deletable": true,
    "editable": true
   },
   "source": [
    "**9.3**\n",
    "\n",
    "Let $M$ be a matrix. The ith row of $M$ is $\\Psi(x_{i})$. Then the ith row of $Mw$ is $<w,\\Psi(x_{i})>$. Then \n",
    "$$w \\rightarrow L(<w^{*},\\Psi(x_{1})>, ... , < w^{*},\\Psi(x_{n})>)$$ \n",
    "can be written as \n",
    "$$w \\rightarrow L(Aw)$$\n",
    "Since the fact that the composition of a convex function and an affine function is convex and L is convex, we can say that $L(Aw)$ is convex.<br.>\n",
    "Additionally, ||w|| is convex and R is convex. Then we know $w \\rightarrow R(||w||)$ is convex. Then we can say that $J(w)$ is convex.\n"
   ]
  },
  {
   "cell_type": "markdown",
   "metadata": {
    "deletable": true,
    "editable": true
   },
   "source": [
    "**10. Ivanov and Tikhonov Regularization [Optional]**"
   ]
  },
  {
   "cell_type": "markdown",
   "metadata": {
    "deletable": true,
    "editable": true
   },
   "source": [
    "**10.1 Tikhonov optimal implies Ivanov optimal**\n",
    "\n",
    "set $r = \\Omega(f^{*})$ and $f^{*}$ is the optimum of Tikhonov regularization solution(1)<br/>\n",
    "Then we hypothese that there is $g\\in F$ is the optimum in  Ivanov solution(2) and $g \\neq f^{*}$<br/>\n",
    "then we have \n",
    "$$\\Phi(g) < \\Phi(f^{*}),  \\Omega(g) < \\Omega(f^{*})$$\n",
    "which means we have \n",
    "$$\\Phi(g) + \\lambda\\Omega(g) < \\Phi(f^{*}) + \\lambda\\Omega(f^{*})$$\n",
    "It's contrary to the fact that $f^{*}$ is the optimum in (1). Therefore, the huypothesis is wrong. We can say that only $g = f^{*}$, g can be the optimum of (2), which means that Tikhonov optimal implies Ivanov optimal."
   ]
  },
  {
   "cell_type": "markdown",
   "metadata": {
    "deletable": true,
    "editable": true
   },
   "source": [
    "**10.2. Ivanov optimal implies Tikhonov optimal (when we have Strong Duality)\n",
    "**"
   ]
  },
  {
   "cell_type": "markdown",
   "metadata": {
    "deletable": true,
    "editable": true
   },
   "source": [
    "10.2.1\n",
    "\n",
    "The Lagrangian for this optimization has similar form as the general optimization problem:<br/>\n",
    "The optimization here is <br/>\n",
    "$$minimize \\Phi(w)$$\n",
    "$$s.t. \\Omega(w)-r\\leq0$$\n",
    "\n",
    "The Largrangian $L(w,\\lambda)$ for the Ivanov optimization problem is:<br/>\n",
    "$$L(w,\\lambda) = \\Phi(w) + \\lambda(\\Omega(w)-r)$$"
   ]
  },
  {
   "cell_type": "markdown",
   "metadata": {
    "deletable": true,
    "editable": true
   },
   "source": [
    "10.2.2\n",
    "\n",
    "Supremum over Lagrangian gives back encoding of objective and constraints:\n",
    "$$sup_{\\lambda\\geq0}L(w,\\lambda)$$\n",
    "$$ = sup_{\\lambda\\geq0}(\\Phi(w) + \\lambda(\\Omega(w)-r))$$\n",
    "$$ = \\begin{cases}\n",
    "      \\Phi(w),& \\text{when } \\Omega(w) -r \\leq 0 \\\\\n",
    "       \\infty,              & \\text{else}\\\\\n",
    "\\end{cases}$$\n",
    "Equivelent primal form of optimization problem is :\n",
    "$$p^{*} = inf_{w}sup_{\\lambda\\geq0}L(w,\\lambda)$$\n",
    "for strong duality holds for this optimization problem, the Lagrangian dual problem is: \n",
    "$$d^{*} = sup_{\\lambda\\geq0}inf_{w}L(w,\\lambda) = inf_{w}sup_{\\lambda\\geq0}L(w,\\lambda) = p^{*}$$\n",
    "The Lagrangian dual function is :\n",
    "$$g(\\lambda) = inf_{w}L(w,\\lambda) = inf_{w}(\\Phi(w) + \\lambda(\\Omega(w)-r))$$"
   ]
  },
  {
   "cell_type": "markdown",
   "metadata": {
    "deletable": true,
    "editable": true
   },
   "source": [
    "10.2.3\n",
    "\n",
    "For strong duality,\n",
    "$$\\Phi(w^{*}) = g(\\lambda^{*})$$\n",
    "$$ = inf_{w}(\\Phi(w)+\\lambda_{*}(\\Omega(w)-r))$$\n",
    "$$\\leq \\Phi(w^{*}) + \\lambda^{*}(\\Omega(w^{*})-r))$$\n",
    "for we have constraints that \n",
    "$$\\Omega(w^{*})-r\\leq0$$\n",
    "$$\\Phi(w^{*}) + \\lambda^{*}(\\Omega(w^{*})-r)) \\leq \\Phi(w^{*})$$\n",
    "all the inequalities can be written as equalities<br/>\n",
    "Then we have \n",
    "$$w^{*} = argmin_{w}(\\Phi(w) + \\lambda^{*}(\\Omega(w)-r))$$\n",
    "$$  = argmin_{w}(\\Phi(w) + \\lambda^{*}(\\Omega(w))$$"
   ]
  },
  {
   "cell_type": "markdown",
   "metadata": {
    "deletable": true,
    "editable": true
   },
   "source": [
    "10.2.4\n",
    "\n",
    "For \n",
    "$$g(\\lambda) = inf_{w}(\\Phi(w) + \\lambda(\\Omega(w)-r))$$\n",
    "this equatation gets optimum when $\\lambda = 0$<br/>\n",
    "for a proper Ivanov regularization problem, we add constraints. Then we have \n",
    "$$g(\\lambda) = inf_{w\\in R^{d}, \\Omega(w)\\leq r} \\Phi(w)$$\n",
    "for the given condition, we know that \n",
    "$$g(\\lambda^{*}) = inf_{w\\in R^{d}, \\Omega(w)\\leq r} \\Phi(w) > inf_{w}\\Phi(w) = g(0)$$\n",
    "so we have $\\lambda^{*}\\neq0$. Since $\\lambda\\geq0$ in the previous, we can say that $\\lambda >0$."
   ]
  },
  {
   "cell_type": "markdown",
   "metadata": {
    "deletable": true,
    "editable": true
   },
   "source": [
    "**10.3.Ivanov implies Tikhonov for Ridge Regression.**"
   ]
  },
  {
   "cell_type": "markdown",
   "metadata": {
    "deletable": true,
    "editable": true
   },
   "source": [
    "10.3.1\n",
    "\n",
    "The Ivanov form if ridge regression is:\n",
    "$$\\text{minimize}\\Sigma^{n}_{i=1}(y_{i} - w^{T}x_{i})^{2}$$\n",
    "$$s.t.||w||_{2}^{2}\\leq r^{2}$$\n",
    "For objective function, $(y_{i} - w^{T}x_{i})^{2}$ is convex function and objective function is a linear combination of a series of convex problem. So the objective function is convex.<br/>\n",
    "For affine constraints, for any $r>0$, Obviously we can found $w$ which makes $||w||_{2}^{2}\\leq r^{2}$ hold, Which means\n",
    "$$\\exists w, ||w||^{2}_{2}-r^{2} \\leq0$$$$ r > 0 $$\n",
    "then strictly feasibility is sufficient.<br/>\n",
    "Now we can say that the Ivanov form of ridge regression is a convex optimization problem with a strictly feasible point."
   ]
  },
  {
   "cell_type": "markdown",
   "metadata": {
    "deletable": true,
    "editable": true
   },
   "source": [
    "**11. Novelty Detection [Optional]**"
   ]
  },
  {
   "cell_type": "markdown",
   "metadata": {
    "deletable": true,
    "editable": true
   },
   "source": [
    "**11.1**\n",
    "\n",
    "The optimization problem can be describe in words as:\n",
    "<center>minimize the sphere</center>\n",
    "<center>s.t. this sphere contains all data in feature space</center>\n",
    "\n",
    "set $F$ as our hypothesis space, $r$ as the radius of the sphere, $r \\in R$，$O$ as the center of the sphere,$O \\in F$. Since $\\Phi:X\\rightarrow H$, we can write all data as $\\Phi(x_{i})$<br/>\n",
    "Then the optimization problem can be describe as:\n",
    "<center>for $O$ in $F$, minimize $$r^{2}$$</center>\n",
    "<center>s.t. $$||\\Phi(x_{i}) - O||^{2} - r^{2}\\leq0$$</center>\n",
    "\n"
   ]
  },
  {
   "cell_type": "markdown",
   "metadata": {
    "deletable": true,
    "editable": true
   },
   "source": [
    "**11.2**\n",
    "\n",
    "Based on the setting and result of 11.1, the Lagrangian for this optimization problem is\n",
    "$$L(w,\\lambda) = r^{2} + \\Sigma^{n}_{i=1}\\lambda_{i}[||\\Phi(x_{i}) - O||^{2} - r^{2}]$$\n",
    "Original optimization problem in primal form:\n",
    "$$p^{*} = inf_{r}sup_{\\lambda\\geq0}\\{r^{2} + \\Sigma^{n}_{i=1}\\lambda_{i}[||\\Phi(x_{i})-O||^{2}-r^{2}]\\}$$"
   ]
  },
  {
   "cell_type": "markdown",
   "metadata": {
    "deletable": true,
    "editable": true
   },
   "source": [
    "**11.3**\n",
    "\n",
    "For objective function, it's a convex function obviously.<br/>\n",
    "For affine constaints, Since the number of data is finite, we can always find an $r > max|\\Phi(x_{i}) - O|$. This means $\\exists x, ||\\Phi(x_{i}) - O||^{2} - r^{2}\\leq0$. Then strictly feasibility is sufficient.<br/>\n",
    "Now we can say that this optimization problem is a convex optimization problem with a strictly feasible point. This implies strong duality and thus we will have an equivalent optimization problem if we swap the inf and the sup. "
   ]
  },
  {
   "cell_type": "markdown",
   "metadata": {
    "deletable": true,
    "editable": true
   },
   "source": [
    "**11.4**\n",
    "\n",
    "The dual problem is \n",
    "$$d^{*} = sup_{\\lambda\\geq0}inf_{r}\\{r^{2} + \\Sigma^{n}_{i=1}\\lambda_{i}[||\\Phi(x_{i})-O||^{2}-r^{2}]\\}$$\n",
    "it can be written as expression with inner product:\n",
    "$$L(r,O,\\lambda) = r^{2}(1-\\Sigma^{n}_{i=1}\\lambda_{i}) + \\Sigma^{n}_{i=1}\\lambda_{i}<\\Phi(x_{i})-O,\\Phi(x_{i})-O>$$\n",
    "$$ = r^{2}(1-\\Sigma^{n}_{i=1}\\lambda_{i}) + \\Sigma^{n}_{i=1}\\lambda_{i}[<\\Phi(x_{i}),\\Phi(x_{i})> + <O,O> - 2<\\Phi(x_{i}),O>]$$\n",
    "\n",
    "Set $g(\\lambda) = inf_{r}L(r,O,\\lambda)$<br/>\n",
    "when $1-\\Sigma^{n}_{i=1}\\lambda_{i} <0$, $g(\\lambda) = -\\infty$<br/>\n",
    "when $1-\\Sigma^{n}_{i=1}\\lambda_{i} >0$, $g(\\lambda) get the optimium when r =0.<br/>\n",
    "when $1-\\Sigma^{n}_{i=1}\\lambda_{i} =0$, r is arbitrary.\n",
    "\n",
    "when $\\partial_{c}L = 0$, we have\n",
    "$$-2\\Sigma^{n}_{i=1}\\lambda_{i}\\Phi(x_{i}) + 2c = 0$$\n",
    "$$ c= \\Sigma^{n}_{i=1}\\lambda_{i}\\Phi(x_{i})$$\n",
    "\n",
    "Then we can have the minimum when $ c= \\Sigma^{n}_{i=1}\\lambda_{i}\\Phi(x_{i})$ and $r^{2}(1-\\Sigma^{n}_{i=1}\\lambda_{i}) = 0$. The mininum value is \n",
    "$$g(\\lambda) = \\Sigma^{n}_{i=1}\\lambda_{i}K(i,i) -\\Sigma^{n}_{i=1}\\Sigma^{n}_{j=1}\\lambda_{i}\\lambda_{j}K(i,j)$$\n",
    "$$ = diag(K)^{T}\\lambda - \\lambda^{T}K\\lambda$$\n",
    "then we can have the form of $g(\\lambda)$\n",
    "$$g(\\lambda) = \\begin{cases}\n",
    "      -\\infty,& \\text{for } 1-\\Sigma^{n}_{i=1}\\lambda_{i} <0 \\\\\n",
    "       diag(K)^{T}\\lambda - \\lambda^{T}K\\lambda,              & \\text{for}1-\\Sigma^{n}_{i=1}\\lambda_{i} \\geq0\\\\\n",
    "\\end{cases}$$\n",
    "Then we can write the dual problem as:\n",
    "$$d^{*} = sup_{\\lambda\\geq0, \\Sigma_{i=1}^{n}\\lambda_{i}\\leq1} diag(K)^{T}\\lambda - \\lambda^{T}K\\lambda$$"
   ]
  },
  {
   "cell_type": "markdown",
   "metadata": {
    "deletable": true,
    "editable": true
   },
   "source": [
    "**11.5**\n",
    "\n",
    "From results of previous questions, we have strong duality and $d^{*} = sup_{\\lambda\\geq0, \\Sigma_{i=1}^{n}\\lambda_{i}\\leq1} diag(K)^{T}\\lambda - \\lambda^{T}K\\lambda$. when $\\lambda = \\lambda^{*}$, we have the optimum of this problem. \n",
    "Then we can have the expression\n",
    "$$r^{*} = \\sqrt{g(\\lambda^{*})}$$\n",
    "$$ = \\sqrt{diag(K)^{T}\\lambda^{*} - \\lambda^{*T}K\\lambda^{*}}$$\n",
    "and \n",
    "$$O^{*} = \\Sigma^{n}_{i=1}\\lambda^{*}\\Phi(x_{i})$$"
   ]
  },
  {
   "cell_type": "markdown",
   "metadata": {
    "deletable": true,
    "editable": true
   },
   "source": [
    "**11.6**\n",
    "\n",
    "the complementary slackness conditions is \n",
    "$$\\lambda^{*}_{i}[||\\Phi(x_{i}) - O^{*}||^{2} - (r^{*})^{2}] = 0$$\n",
    "when \\lambda_{i}^{*}>0, x_{i} are support vectors"
   ]
  },
  {
   "cell_type": "markdown",
   "metadata": {
    "deletable": true,
    "editable": true
   },
   "source": [
    "**11.7**"
   ]
  },
  {
   "cell_type": "markdown",
   "metadata": {
    "deletable": true,
    "editable": true
   },
   "source": [
    "**11.8**"
   ]
  }
 ],
 "metadata": {
  "kernelspec": {
   "display_name": "Python 3",
   "language": "python",
   "name": "python3"
  },
  "language_info": {
   "codemirror_mode": {
    "name": "ipython",
    "version": 3
   },
   "file_extension": ".py",
   "mimetype": "text/x-python",
   "name": "python",
   "nbconvert_exporter": "python",
   "pygments_lexer": "ipython3",
   "version": "3.6.0"
  }
 },
 "nbformat": 4,
 "nbformat_minor": 2
}
